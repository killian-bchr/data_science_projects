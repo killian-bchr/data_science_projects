{
 "cells": [
  {
   "cell_type": "code",
   "execution_count": 382,
   "metadata": {},
   "outputs": [
    {
     "name": "stdout",
     "output_type": "stream",
     "text": [
      "The autoreload extension is already loaded. To reload it, use:\n",
      "  %reload_ext autoreload\n"
     ]
    }
   ],
   "source": [
    "import spotipy\n",
    "import requests\n",
    "import pandas as pd\n",
    "import numpy as np\n",
    "import seaborn as sns\n",
    "import matplotlib.pyplot as plt\n",
    "import time\n",
    "from scipy import stats\n",
    "from datetime import datetime\n",
    "from concurrent.futures import ThreadPoolExecutor\n",
    "from sklearn.decomposition import PCA\n",
    "from sklearn.preprocessing import LabelEncoder\n",
    "from sklearn.feature_extraction.text import TfidfVectorizer\n",
    "from spotipy.oauth2 import SpotifyOAuth\n",
    "from spotipy.oauth2 import SpotifyClientCredentials\n",
    "from sklearn.model_selection import train_test_split\n",
    "import spotify\n",
    "%load_ext autoreload\n",
    "%autoreload 2\n",
    "\n",
    "from config import (\n",
    "    api_key_lastfm,\n",
    "    client_secret_lastfm,\n",
    "    client_id,\n",
    "    client_secret,\n",
    "    redirect_uri\n",
    ")"
   ]
  },
  {
   "cell_type": "code",
   "execution_count": 408,
   "metadata": {},
   "outputs": [],
   "source": [
    "playlist_drill = '1z1tOO60TXJaLEfXb5Z1pw'\n",
    "playlist_house = '1vIMNWoiysQgw4q13PErN4'\n",
    "playlist_rap_us = '4OZ02mQrmS1LU8bkG09vq7'\n",
    "playlist_afrobeat = '25Y75ozl2aI0NylFToefO5'\n",
    "playlist_annees_80 = '0slE73JFtRr3F2KnfoWlbO'\n",
    "\n",
    "playlist_ids = [playlist_drill, playlist_house, playlist_rap_us, playlist_afrobeat, playlist_annees_80]"
   ]
  },
  {
   "cell_type": "code",
   "execution_count": null,
   "metadata": {},
   "outputs": [],
   "source": [
    "test = spotify.get_playlist_tracks('25Y75ozl2aI0NylFToefO5')"
   ]
  },
  {
   "cell_type": "code",
   "execution_count": 465,
   "metadata": {},
   "outputs": [
    {
     "data": {
      "text/plain": [
       "{'album_id': '1qAq4CaRxrA3WCmLx6WA8N',\n",
       " 'album_name': 'International Lovin',\n",
       " 'release_date': Timestamp('2024-11-01 00:00:00'),\n",
       " 'album_artists_id': '0IUp0l21VlpoOz8525KfAJ, 0JRJpwTcWPoct6QSTNSqap',\n",
       " 'album_artists_name': 'Mack H.D, Princess Wonda',\n",
       " 'duration': 156.343,\n",
       " 'track_id': '2rZeQKQOddBIGCNdYxkxG3',\n",
       " 'track_name': 'International Lovin',\n",
       " 'popularity': 45,\n",
       " 'track_artists_id': '0IUp0l21VlpoOz8525KfAJ, 0JRJpwTcWPoct6QSTNSqap',\n",
       " 'track_artists_name': 'Mack H.D, Princess Wonda',\n",
       " 'track_listeners': '1927',\n",
       " 'track_playcount': '3506',\n",
       " 'similar_artists': 'Kelvyn Boy, Mack H.D, PapaRaZzle, tmaro, Lil Qhuid, Eony, Agatchu, Jipo',\n",
       " 'track_tags': 'afrobeats, haiti',\n",
       " 'image_url': 'https://i.scdn.co/image/ab67616d00001e02edfa6effd9298f528997b9d3',\n",
       " 'spotify_url': 'https://open.spotify.com/track/2rZeQKQOddBIGCNdYxkxG3'}"
      ]
     },
     "execution_count": 465,
     "metadata": {},
     "output_type": "execute_result"
    }
   ],
   "source": [
    "test.to_dict(orient='records')[10]"
   ]
  },
  {
   "cell_type": "code",
   "execution_count": 409,
   "metadata": {},
   "outputs": [
    {
     "data": {
      "text/html": [
       "<div>\n",
       "<style scoped>\n",
       "    .dataframe tbody tr th:only-of-type {\n",
       "        vertical-align: middle;\n",
       "    }\n",
       "\n",
       "    .dataframe tbody tr th {\n",
       "        vertical-align: top;\n",
       "    }\n",
       "\n",
       "    .dataframe thead th {\n",
       "        text-align: right;\n",
       "    }\n",
       "</style>\n",
       "<table border=\"1\" class=\"dataframe\">\n",
       "  <thead>\n",
       "    <tr style=\"text-align: right;\">\n",
       "      <th></th>\n",
       "      <th>album_id</th>\n",
       "      <th>album_name</th>\n",
       "      <th>release_date</th>\n",
       "      <th>album_artists_id</th>\n",
       "      <th>album_artists_name</th>\n",
       "      <th>duration</th>\n",
       "      <th>track_id</th>\n",
       "      <th>track_name</th>\n",
       "      <th>popularity</th>\n",
       "      <th>track_artists_id</th>\n",
       "      <th>track_artists_name</th>\n",
       "      <th>track_listeners</th>\n",
       "      <th>track_playcount</th>\n",
       "      <th>similar_artists</th>\n",
       "      <th>track_tags</th>\n",
       "    </tr>\n",
       "  </thead>\n",
       "  <tbody>\n",
       "    <tr>\n",
       "      <th>0</th>\n",
       "      <td>208okgvV6yEx0Aq9t8zT4p</td>\n",
       "      <td>Polémique</td>\n",
       "      <td>2021-05-15</td>\n",
       "      <td>7GWvguZN6WpXDVaMDjg97v</td>\n",
       "      <td>pauldscrga</td>\n",
       "      <td>176.427</td>\n",
       "      <td>5nLe4rNMf6B5v9sJ6gGCQO</td>\n",
       "      <td>Polémique</td>\n",
       "      <td>0</td>\n",
       "      <td>7GWvguZN6WpXDVaMDjg97v, 5OVwoZ9WDfQiyUkblkOGLe</td>\n",
       "      <td>pauldscrga, Freeze Cee</td>\n",
       "      <td>1519</td>\n",
       "      <td>11302</td>\n",
       "      <td>Mini RTTCLAN, Adekhey, Swey Zen, 667, XIII B</td>\n",
       "      <td></td>\n",
       "    </tr>\n",
       "    <tr>\n",
       "      <th>1</th>\n",
       "      <td>1hRmY5K4OzG8Wdxmn6YNlg</td>\n",
       "      <td>669, Pt. 2</td>\n",
       "      <td>2021-05-16</td>\n",
       "      <td>4FjcWWBsbgD3TAEf2jQuVv</td>\n",
       "      <td>667</td>\n",
       "      <td>478.693</td>\n",
       "      <td>55rPRY6upmsnuCdJTW7UQt</td>\n",
       "      <td>669, Pt. 2</td>\n",
       "      <td>37</td>\n",
       "      <td>4FjcWWBsbgD3TAEf2jQuVv, 43mlbNLGRuLXwqTE8G61JB</td>\n",
       "      <td>667, Lyonzon</td>\n",
       "      <td>7697</td>\n",
       "      <td>88450</td>\n",
       "      <td>Afro S, Mini RTTCLAN, Sazamyzy, DOC OVG, EniMa</td>\n",
       "      <td>cover, metal, hip hop, punk, rock, french, rap...</td>\n",
       "    </tr>\n",
       "    <tr>\n",
       "      <th>2</th>\n",
       "      <td>0FEXxdB1W49qvYwKL0wnJh</td>\n",
       "      <td>669</td>\n",
       "      <td>2018-09-20</td>\n",
       "      <td>43mlbNLGRuLXwqTE8G61JB</td>\n",
       "      <td>Lyonzon</td>\n",
       "      <td>305.600</td>\n",
       "      <td>3nSL8n2FdvP3nLycf3Ip93</td>\n",
       "      <td>669</td>\n",
       "      <td>25</td>\n",
       "      <td>43mlbNLGRuLXwqTE8G61JB</td>\n",
       "      <td>Lyonzon</td>\n",
       "      <td>3132</td>\n",
       "      <td>25184</td>\n",
       "      <td></td>\n",
       "      <td>hip hop, french, rap, trap, Hip-Hop</td>\n",
       "    </tr>\n",
       "    <tr>\n",
       "      <th>3</th>\n",
       "      <td>34cYXBHmeJ49Tr4Y3plD9H</td>\n",
       "      <td>Ashe Tape, Vol. 3</td>\n",
       "      <td>2021-04-09</td>\n",
       "      <td>3tTvSeZiFDP3CY5EdPGcR4</td>\n",
       "      <td>ASHE 22</td>\n",
       "      <td>227.040</td>\n",
       "      <td>02uSh14aUckmfTVj5MEhmg</td>\n",
       "      <td>Scellé Part. 3</td>\n",
       "      <td>0</td>\n",
       "      <td>3tTvSeZiFDP3CY5EdPGcR4, 76Pl0epAMXVXJspaSuz8im</td>\n",
       "      <td>ASHE 22, Freeze corleone</td>\n",
       "      <td>6826</td>\n",
       "      <td>62079</td>\n",
       "      <td>Kaaris, Kpri, Osirus Jack, Alpha Wann, Ziak, L...</td>\n",
       "      <td>lyonzon, french, rap, france, Hip-Hop, drill</td>\n",
       "    </tr>\n",
       "    <tr>\n",
       "      <th>4</th>\n",
       "      <td>7zrUnXByeOKHbXY3fyn6vz</td>\n",
       "      <td>LMF</td>\n",
       "      <td>2020-09-11</td>\n",
       "      <td>76Pl0epAMXVXJspaSuz8im</td>\n",
       "      <td>Freeze corleone</td>\n",
       "      <td>170.106</td>\n",
       "      <td>5IkofYa6Ac1plKIf6nYkDE</td>\n",
       "      <td>Scellé part.2</td>\n",
       "      <td>45</td>\n",
       "      <td>76Pl0epAMXVXJspaSuz8im, 3tTvSeZiFDP3CY5EdPGcR4</td>\n",
       "      <td>Freeze corleone, ASHE 22</td>\n",
       "      <td>21597</td>\n",
       "      <td>272944</td>\n",
       "      <td>Kaaris, Kpri, Osirus Jack, Ziak, Alpha Wann, L...</td>\n",
       "      <td>lyonzon, french, rap, france, Hip-Hop, drill</td>\n",
       "    </tr>\n",
       "    <tr>\n",
       "      <th>...</th>\n",
       "      <td>...</td>\n",
       "      <td>...</td>\n",
       "      <td>...</td>\n",
       "      <td>...</td>\n",
       "      <td>...</td>\n",
       "      <td>...</td>\n",
       "      <td>...</td>\n",
       "      <td>...</td>\n",
       "      <td>...</td>\n",
       "      <td>...</td>\n",
       "      <td>...</td>\n",
       "      <td>...</td>\n",
       "      <td>...</td>\n",
       "      <td>...</td>\n",
       "      <td>...</td>\n",
       "    </tr>\n",
       "    <tr>\n",
       "      <th>595</th>\n",
       "      <td>6Us9T05UuNDMP2NtVrSVyG</td>\n",
       "      <td>15 Ans D'Amour</td>\n",
       "      <td>1988-01-01</td>\n",
       "      <td>4RN2vlFWepLa46qQIU2PHs</td>\n",
       "      <td>Jacques Brel</td>\n",
       "      <td>229.906</td>\n",
       "      <td>0Yqvv7EV2VYgC299tA5ZaV</td>\n",
       "      <td>La valse à mille temps</td>\n",
       "      <td>44</td>\n",
       "      <td>4RN2vlFWepLa46qQIU2PHs</td>\n",
       "      <td>Jacques Brel</td>\n",
       "      <td>67069</td>\n",
       "      <td>274483</td>\n",
       "      <td>Barbara, Charles Aznavour, Georges Brassens, L...</td>\n",
       "      <td>belgian, chanson francaise, french, chanson, s...</td>\n",
       "    </tr>\n",
       "    <tr>\n",
       "      <th>596</th>\n",
       "      <td>2HkPAUQZm9D1wkJQeh9ENz</td>\n",
       "      <td>Louise Attaque</td>\n",
       "      <td>1997-04-22</td>\n",
       "      <td>4CAsSAU842glNKJX71ndA9</td>\n",
       "      <td>Louise Attaque</td>\n",
       "      <td>159.866</td>\n",
       "      <td>1xsRqL4cvEaOQ5TbXpqaAV</td>\n",
       "      <td>Ton invitation</td>\n",
       "      <td>57</td>\n",
       "      <td>4CAsSAU842glNKJX71ndA9</td>\n",
       "      <td>Louise Attaque</td>\n",
       "      <td>71231</td>\n",
       "      <td>334873</td>\n",
       "      <td>Tarmac, La Rue Kétanou, Gaëtan Roussel, Noir D...</td>\n",
       "      <td>alternative, rock, french, chanson francaise, ...</td>\n",
       "    </tr>\n",
       "    <tr>\n",
       "      <th>597</th>\n",
       "      <td>3Joq6r4mDrlqtUgpkmVJCR</td>\n",
       "      <td>AMSTERDAM (Edition limitée maxi 45 t)</td>\n",
       "      <td>2019-04-13</td>\n",
       "      <td>4RN2vlFWepLa46qQIU2PHs</td>\n",
       "      <td>Jacques Brel</td>\n",
       "      <td>171.445</td>\n",
       "      <td>6mkiy9QOpV28CQvW0BMXbD</td>\n",
       "      <td>Amsterdam</td>\n",
       "      <td>45</td>\n",
       "      <td>4RN2vlFWepLa46qQIU2PHs</td>\n",
       "      <td>Jacques Brel</td>\n",
       "      <td>94675</td>\n",
       "      <td>440487</td>\n",
       "      <td>Barbara, Charles Aznavour, Georges Brassens, L...</td>\n",
       "      <td>belgian, chanson francaise, french, chanson, s...</td>\n",
       "    </tr>\n",
       "    <tr>\n",
       "      <th>598</th>\n",
       "      <td>3e3Nfe6qFPnmfxUtkBfYrj</td>\n",
       "      <td>La Bohème (Remastered 2014)</td>\n",
       "      <td>NaT</td>\n",
       "      <td>2hgP9Ap2tc10R5jrQaEpMT</td>\n",
       "      <td>Charles Aznavour</td>\n",
       "      <td>245.186</td>\n",
       "      <td>2o0hVSbnkdvDDKKVNaUxnB</td>\n",
       "      <td>La bohème</td>\n",
       "      <td>4</td>\n",
       "      <td>2hgP9Ap2tc10R5jrQaEpMT</td>\n",
       "      <td>Charles Aznavour</td>\n",
       "      <td>168330</td>\n",
       "      <td>923021</td>\n",
       "      <td>Jacques Brel, Yves Montand, Joe Dassin, Johnny...</td>\n",
       "      <td>french, chanson francaise, jazz, chanson, fran...</td>\n",
       "    </tr>\n",
       "    <tr>\n",
       "      <th>599</th>\n",
       "      <td>1vCJVIU4oNOfHZJLEcF18o</td>\n",
       "      <td>Vendeurs de larmes (Remastered)</td>\n",
       "      <td>1982-04-01</td>\n",
       "      <td>28IqYhzq3UU46bbY0mRgn7</td>\n",
       "      <td>Daniel Balavoine</td>\n",
       "      <td>214.285</td>\n",
       "      <td>226aaHSePv2kRAiGEmTlsz</td>\n",
       "      <td>Vivre ou survivre</td>\n",
       "      <td>48</td>\n",
       "      <td>28IqYhzq3UU46bbY0mRgn7</td>\n",
       "      <td>Daniel Balavoine</td>\n",
       "      <td>24275</td>\n",
       "      <td>97282</td>\n",
       "      <td>Jean-Jacques Goldman, Francis Cabrel, Fabienne...</td>\n",
       "      <td>pop, Daniel Balavoine, chanson francaise, fren...</td>\n",
       "    </tr>\n",
       "  </tbody>\n",
       "</table>\n",
       "<p>600 rows × 15 columns</p>\n",
       "</div>"
      ],
      "text/plain": [
       "                   album_id                             album_name  \\\n",
       "0    208okgvV6yEx0Aq9t8zT4p                              Polémique   \n",
       "1    1hRmY5K4OzG8Wdxmn6YNlg                             669, Pt. 2   \n",
       "2    0FEXxdB1W49qvYwKL0wnJh                                    669   \n",
       "3    34cYXBHmeJ49Tr4Y3plD9H                      Ashe Tape, Vol. 3   \n",
       "4    7zrUnXByeOKHbXY3fyn6vz                                    LMF   \n",
       "..                      ...                                    ...   \n",
       "595  6Us9T05UuNDMP2NtVrSVyG                         15 Ans D'Amour   \n",
       "596  2HkPAUQZm9D1wkJQeh9ENz                         Louise Attaque   \n",
       "597  3Joq6r4mDrlqtUgpkmVJCR  AMSTERDAM (Edition limitée maxi 45 t)   \n",
       "598  3e3Nfe6qFPnmfxUtkBfYrj            La Bohème (Remastered 2014)   \n",
       "599  1vCJVIU4oNOfHZJLEcF18o        Vendeurs de larmes (Remastered)   \n",
       "\n",
       "    release_date        album_artists_id album_artists_name  duration  \\\n",
       "0     2021-05-15  7GWvguZN6WpXDVaMDjg97v         pauldscrga   176.427   \n",
       "1     2021-05-16  4FjcWWBsbgD3TAEf2jQuVv                667   478.693   \n",
       "2     2018-09-20  43mlbNLGRuLXwqTE8G61JB            Lyonzon   305.600   \n",
       "3     2021-04-09  3tTvSeZiFDP3CY5EdPGcR4            ASHE 22   227.040   \n",
       "4     2020-09-11  76Pl0epAMXVXJspaSuz8im    Freeze corleone   170.106   \n",
       "..           ...                     ...                ...       ...   \n",
       "595   1988-01-01  4RN2vlFWepLa46qQIU2PHs       Jacques Brel   229.906   \n",
       "596   1997-04-22  4CAsSAU842glNKJX71ndA9     Louise Attaque   159.866   \n",
       "597   2019-04-13  4RN2vlFWepLa46qQIU2PHs       Jacques Brel   171.445   \n",
       "598          NaT  2hgP9Ap2tc10R5jrQaEpMT   Charles Aznavour   245.186   \n",
       "599   1982-04-01  28IqYhzq3UU46bbY0mRgn7   Daniel Balavoine   214.285   \n",
       "\n",
       "                   track_id              track_name  popularity  \\\n",
       "0    5nLe4rNMf6B5v9sJ6gGCQO               Polémique           0   \n",
       "1    55rPRY6upmsnuCdJTW7UQt              669, Pt. 2          37   \n",
       "2    3nSL8n2FdvP3nLycf3Ip93                     669          25   \n",
       "3    02uSh14aUckmfTVj5MEhmg          Scellé Part. 3           0   \n",
       "4    5IkofYa6Ac1plKIf6nYkDE           Scellé part.2          45   \n",
       "..                      ...                     ...         ...   \n",
       "595  0Yqvv7EV2VYgC299tA5ZaV  La valse à mille temps          44   \n",
       "596  1xsRqL4cvEaOQ5TbXpqaAV          Ton invitation          57   \n",
       "597  6mkiy9QOpV28CQvW0BMXbD               Amsterdam          45   \n",
       "598  2o0hVSbnkdvDDKKVNaUxnB               La bohème           4   \n",
       "599  226aaHSePv2kRAiGEmTlsz       Vivre ou survivre          48   \n",
       "\n",
       "                                   track_artists_id        track_artists_name  \\\n",
       "0    7GWvguZN6WpXDVaMDjg97v, 5OVwoZ9WDfQiyUkblkOGLe    pauldscrga, Freeze Cee   \n",
       "1    4FjcWWBsbgD3TAEf2jQuVv, 43mlbNLGRuLXwqTE8G61JB              667, Lyonzon   \n",
       "2                            43mlbNLGRuLXwqTE8G61JB                   Lyonzon   \n",
       "3    3tTvSeZiFDP3CY5EdPGcR4, 76Pl0epAMXVXJspaSuz8im  ASHE 22, Freeze corleone   \n",
       "4    76Pl0epAMXVXJspaSuz8im, 3tTvSeZiFDP3CY5EdPGcR4  Freeze corleone, ASHE 22   \n",
       "..                                              ...                       ...   \n",
       "595                          4RN2vlFWepLa46qQIU2PHs              Jacques Brel   \n",
       "596                          4CAsSAU842glNKJX71ndA9            Louise Attaque   \n",
       "597                          4RN2vlFWepLa46qQIU2PHs              Jacques Brel   \n",
       "598                          2hgP9Ap2tc10R5jrQaEpMT          Charles Aznavour   \n",
       "599                          28IqYhzq3UU46bbY0mRgn7          Daniel Balavoine   \n",
       "\n",
       "    track_listeners track_playcount  \\\n",
       "0              1519           11302   \n",
       "1              7697           88450   \n",
       "2              3132           25184   \n",
       "3              6826           62079   \n",
       "4             21597          272944   \n",
       "..              ...             ...   \n",
       "595           67069          274483   \n",
       "596           71231          334873   \n",
       "597           94675          440487   \n",
       "598          168330          923021   \n",
       "599           24275           97282   \n",
       "\n",
       "                                       similar_artists  \\\n",
       "0         Mini RTTCLAN, Adekhey, Swey Zen, 667, XIII B   \n",
       "1       Afro S, Mini RTTCLAN, Sazamyzy, DOC OVG, EniMa   \n",
       "2                                                        \n",
       "3    Kaaris, Kpri, Osirus Jack, Alpha Wann, Ziak, L...   \n",
       "4    Kaaris, Kpri, Osirus Jack, Ziak, Alpha Wann, L...   \n",
       "..                                                 ...   \n",
       "595  Barbara, Charles Aznavour, Georges Brassens, L...   \n",
       "596  Tarmac, La Rue Kétanou, Gaëtan Roussel, Noir D...   \n",
       "597  Barbara, Charles Aznavour, Georges Brassens, L...   \n",
       "598  Jacques Brel, Yves Montand, Joe Dassin, Johnny...   \n",
       "599  Jean-Jacques Goldman, Francis Cabrel, Fabienne...   \n",
       "\n",
       "                                            track_tags  \n",
       "0                                                       \n",
       "1    cover, metal, hip hop, punk, rock, french, rap...  \n",
       "2                  hip hop, french, rap, trap, Hip-Hop  \n",
       "3         lyonzon, french, rap, france, Hip-Hop, drill  \n",
       "4         lyonzon, french, rap, france, Hip-Hop, drill  \n",
       "..                                                 ...  \n",
       "595  belgian, chanson francaise, french, chanson, s...  \n",
       "596  alternative, rock, french, chanson francaise, ...  \n",
       "597  belgian, chanson francaise, french, chanson, s...  \n",
       "598  french, chanson francaise, jazz, chanson, fran...  \n",
       "599  pop, Daniel Balavoine, chanson francaise, fren...  \n",
       "\n",
       "[600 rows x 15 columns]"
      ]
     },
     "execution_count": 409,
     "metadata": {},
     "output_type": "execute_result"
    }
   ],
   "source": [
    "dataset_list = []\n",
    "for playlist_id in playlist_ids:\n",
    "    playlist = spotify.get_playlist_tracks(playlist_id)\n",
    "    dataset_list.append(playlist)\n",
    "dataset = pd.concat(dataset_list, axis=0, ignore_index=True)\n",
    "dataset"
   ]
  },
  {
   "cell_type": "code",
   "execution_count": 452,
   "metadata": {},
   "outputs": [
    {
     "data": {
      "text/html": [
       "<div>\n",
       "<style scoped>\n",
       "    .dataframe tbody tr th:only-of-type {\n",
       "        vertical-align: middle;\n",
       "    }\n",
       "\n",
       "    .dataframe tbody tr th {\n",
       "        vertical-align: top;\n",
       "    }\n",
       "\n",
       "    .dataframe thead th {\n",
       "        text-align: right;\n",
       "    }\n",
       "</style>\n",
       "<table border=\"1\" class=\"dataframe\">\n",
       "  <thead>\n",
       "    <tr style=\"text-align: right;\">\n",
       "      <th></th>\n",
       "      <th>popularity</th>\n",
       "      <th>duration</th>\n",
       "      <th>track_listeners</th>\n",
       "      <th>track_playcount</th>\n",
       "      <th>release_date</th>\n",
       "      <th>album_id</th>\n",
       "      <th>track_id</th>\n",
       "      <th>similar_artists_1</th>\n",
       "      <th>similar_artists_2</th>\n",
       "      <th>similar_artists_3</th>\n",
       "      <th>...</th>\n",
       "      <th>album_artists_id_141</th>\n",
       "      <th>album_artists_id_142</th>\n",
       "      <th>album_artists_id_143</th>\n",
       "      <th>album_artists_id_144</th>\n",
       "      <th>album_artists_id_145</th>\n",
       "      <th>album_artists_id_146</th>\n",
       "      <th>album_artists_id_147</th>\n",
       "      <th>album_artists_id_148</th>\n",
       "      <th>album_artists_id_149</th>\n",
       "      <th>album_artists_id_150</th>\n",
       "    </tr>\n",
       "  </thead>\n",
       "  <tbody>\n",
       "    <tr>\n",
       "      <th>0</th>\n",
       "      <td>0</td>\n",
       "      <td>176.427</td>\n",
       "      <td>1519</td>\n",
       "      <td>11302</td>\n",
       "      <td>7805.0</td>\n",
       "      <td>127</td>\n",
       "      <td>444</td>\n",
       "      <td>-0.181376</td>\n",
       "      <td>-0.058655</td>\n",
       "      <td>0.000609</td>\n",
       "      <td>...</td>\n",
       "      <td>-0.005250</td>\n",
       "      <td>-0.005749</td>\n",
       "      <td>0.002589</td>\n",
       "      <td>-0.000607</td>\n",
       "      <td>-0.003039</td>\n",
       "      <td>-0.002465</td>\n",
       "      <td>0.000543</td>\n",
       "      <td>0.001495</td>\n",
       "      <td>-0.015465</td>\n",
       "      <td>-0.008610</td>\n",
       "    </tr>\n",
       "    <tr>\n",
       "      <th>1</th>\n",
       "      <td>37</td>\n",
       "      <td>478.693</td>\n",
       "      <td>7697</td>\n",
       "      <td>88450</td>\n",
       "      <td>7806.0</td>\n",
       "      <td>95</td>\n",
       "      <td>396</td>\n",
       "      <td>-0.180479</td>\n",
       "      <td>-0.077271</td>\n",
       "      <td>-0.001546</td>\n",
       "      <td>...</td>\n",
       "      <td>-0.015270</td>\n",
       "      <td>-0.043621</td>\n",
       "      <td>-0.008966</td>\n",
       "      <td>0.018754</td>\n",
       "      <td>-0.002032</td>\n",
       "      <td>0.038988</td>\n",
       "      <td>-0.017273</td>\n",
       "      <td>0.028867</td>\n",
       "      <td>-0.031002</td>\n",
       "      <td>-0.009926</td>\n",
       "    </tr>\n",
       "    <tr>\n",
       "      <th>2</th>\n",
       "      <td>25</td>\n",
       "      <td>305.600</td>\n",
       "      <td>3132</td>\n",
       "      <td>25184</td>\n",
       "      <td>6837.0</td>\n",
       "      <td>9</td>\n",
       "      <td>294</td>\n",
       "      <td>-0.149785</td>\n",
       "      <td>-0.023950</td>\n",
       "      <td>0.002652</td>\n",
       "      <td>...</td>\n",
       "      <td>-0.000537</td>\n",
       "      <td>-0.000486</td>\n",
       "      <td>0.000415</td>\n",
       "      <td>-0.000937</td>\n",
       "      <td>-0.000145</td>\n",
       "      <td>-0.000256</td>\n",
       "      <td>-0.000072</td>\n",
       "      <td>0.000248</td>\n",
       "      <td>0.001549</td>\n",
       "      <td>0.000840</td>\n",
       "    </tr>\n",
       "    <tr>\n",
       "      <th>3</th>\n",
       "      <td>0</td>\n",
       "      <td>227.040</td>\n",
       "      <td>6826</td>\n",
       "      <td>62079</td>\n",
       "      <td>7769.0</td>\n",
       "      <td>192</td>\n",
       "      <td>2</td>\n",
       "      <td>-0.440156</td>\n",
       "      <td>-0.815865</td>\n",
       "      <td>-0.070337</td>\n",
       "      <td>...</td>\n",
       "      <td>0.000108</td>\n",
       "      <td>-0.000522</td>\n",
       "      <td>0.000553</td>\n",
       "      <td>-0.000827</td>\n",
       "      <td>-0.000163</td>\n",
       "      <td>0.000190</td>\n",
       "      <td>-0.000008</td>\n",
       "      <td>0.000431</td>\n",
       "      <td>0.001080</td>\n",
       "      <td>0.001002</td>\n",
       "    </tr>\n",
       "    <tr>\n",
       "      <th>4</th>\n",
       "      <td>45</td>\n",
       "      <td>170.106</td>\n",
       "      <td>21597</td>\n",
       "      <td>272944</td>\n",
       "      <td>7559.0</td>\n",
       "      <td>489</td>\n",
       "      <td>419</td>\n",
       "      <td>-0.440156</td>\n",
       "      <td>-0.815865</td>\n",
       "      <td>-0.070337</td>\n",
       "      <td>...</td>\n",
       "      <td>-0.002362</td>\n",
       "      <td>0.001072</td>\n",
       "      <td>-0.001693</td>\n",
       "      <td>0.000543</td>\n",
       "      <td>0.000303</td>\n",
       "      <td>-0.002144</td>\n",
       "      <td>-0.000271</td>\n",
       "      <td>-0.001276</td>\n",
       "      <td>-0.000159</td>\n",
       "      <td>-0.002395</td>\n",
       "    </tr>\n",
       "    <tr>\n",
       "      <th>...</th>\n",
       "      <td>...</td>\n",
       "      <td>...</td>\n",
       "      <td>...</td>\n",
       "      <td>...</td>\n",
       "      <td>...</td>\n",
       "      <td>...</td>\n",
       "      <td>...</td>\n",
       "      <td>...</td>\n",
       "      <td>...</td>\n",
       "      <td>...</td>\n",
       "      <td>...</td>\n",
       "      <td>...</td>\n",
       "      <td>...</td>\n",
       "      <td>...</td>\n",
       "      <td>...</td>\n",
       "      <td>...</td>\n",
       "      <td>...</td>\n",
       "      <td>...</td>\n",
       "      <td>...</td>\n",
       "      <td>...</td>\n",
       "      <td>...</td>\n",
       "    </tr>\n",
       "    <tr>\n",
       "      <th>595</th>\n",
       "      <td>44</td>\n",
       "      <td>229.906</td>\n",
       "      <td>67069</td>\n",
       "      <td>274483</td>\n",
       "      <td>-4383.0</td>\n",
       "      <td>407</td>\n",
       "      <td>43</td>\n",
       "      <td>-0.178332</td>\n",
       "      <td>0.008033</td>\n",
       "      <td>0.002073</td>\n",
       "      <td>...</td>\n",
       "      <td>-0.175831</td>\n",
       "      <td>-0.172657</td>\n",
       "      <td>0.157244</td>\n",
       "      <td>-0.035906</td>\n",
       "      <td>-0.033563</td>\n",
       "      <td>-0.050493</td>\n",
       "      <td>0.023108</td>\n",
       "      <td>0.004841</td>\n",
       "      <td>-0.002218</td>\n",
       "      <td>0.023020</td>\n",
       "    </tr>\n",
       "    <tr>\n",
       "      <th>596</th>\n",
       "      <td>57</td>\n",
       "      <td>159.866</td>\n",
       "      <td>71231</td>\n",
       "      <td>334873</td>\n",
       "      <td>-984.0</td>\n",
       "      <td>146</td>\n",
       "      <td>152</td>\n",
       "      <td>-0.157774</td>\n",
       "      <td>-0.025856</td>\n",
       "      <td>0.002875</td>\n",
       "      <td>...</td>\n",
       "      <td>-0.008820</td>\n",
       "      <td>0.104692</td>\n",
       "      <td>0.034091</td>\n",
       "      <td>-0.011022</td>\n",
       "      <td>0.007023</td>\n",
       "      <td>-0.022541</td>\n",
       "      <td>-0.003062</td>\n",
       "      <td>-0.015274</td>\n",
       "      <td>0.024606</td>\n",
       "      <td>0.018668</td>\n",
       "    </tr>\n",
       "    <tr>\n",
       "      <th>597</th>\n",
       "      <td>45</td>\n",
       "      <td>171.445</td>\n",
       "      <td>94675</td>\n",
       "      <td>440487</td>\n",
       "      <td>7042.0</td>\n",
       "      <td>212</td>\n",
       "      <td>513</td>\n",
       "      <td>-0.178332</td>\n",
       "      <td>0.008033</td>\n",
       "      <td>0.002073</td>\n",
       "      <td>...</td>\n",
       "      <td>-0.175831</td>\n",
       "      <td>-0.172657</td>\n",
       "      <td>0.157244</td>\n",
       "      <td>-0.035906</td>\n",
       "      <td>-0.033563</td>\n",
       "      <td>-0.050493</td>\n",
       "      <td>0.023108</td>\n",
       "      <td>0.004841</td>\n",
       "      <td>-0.002218</td>\n",
       "      <td>0.023020</td>\n",
       "    </tr>\n",
       "    <tr>\n",
       "      <th>598</th>\n",
       "      <td>4</td>\n",
       "      <td>245.186</td>\n",
       "      <td>168330</td>\n",
       "      <td>923021</td>\n",
       "      <td>NaN</td>\n",
       "      <td>236</td>\n",
       "      <td>223</td>\n",
       "      <td>-0.263609</td>\n",
       "      <td>0.358559</td>\n",
       "      <td>-0.008943</td>\n",
       "      <td>...</td>\n",
       "      <td>-0.045290</td>\n",
       "      <td>0.246366</td>\n",
       "      <td>-0.093227</td>\n",
       "      <td>-0.040710</td>\n",
       "      <td>0.009704</td>\n",
       "      <td>0.051100</td>\n",
       "      <td>-0.029620</td>\n",
       "      <td>0.004701</td>\n",
       "      <td>0.088893</td>\n",
       "      <td>0.003035</td>\n",
       "    </tr>\n",
       "    <tr>\n",
       "      <th>599</th>\n",
       "      <td>48</td>\n",
       "      <td>214.285</td>\n",
       "      <td>24275</td>\n",
       "      <td>97282</td>\n",
       "      <td>-6484.0</td>\n",
       "      <td>117</td>\n",
       "      <td>157</td>\n",
       "      <td>-0.588266</td>\n",
       "      <td>1.558060</td>\n",
       "      <td>-0.045941</td>\n",
       "      <td>...</td>\n",
       "      <td>-0.000352</td>\n",
       "      <td>-0.000319</td>\n",
       "      <td>0.000273</td>\n",
       "      <td>-0.000612</td>\n",
       "      <td>-0.000095</td>\n",
       "      <td>-0.000166</td>\n",
       "      <td>-0.000047</td>\n",
       "      <td>0.000163</td>\n",
       "      <td>0.001015</td>\n",
       "      <td>0.000551</td>\n",
       "    </tr>\n",
       "  </tbody>\n",
       "</table>\n",
       "<p>600 rows × 607 columns</p>\n",
       "</div>"
      ],
      "text/plain": [
       "     popularity  duration track_listeners track_playcount  release_date  \\\n",
       "0             0   176.427            1519           11302        7805.0   \n",
       "1            37   478.693            7697           88450        7806.0   \n",
       "2            25   305.600            3132           25184        6837.0   \n",
       "3             0   227.040            6826           62079        7769.0   \n",
       "4            45   170.106           21597          272944        7559.0   \n",
       "..          ...       ...             ...             ...           ...   \n",
       "595          44   229.906           67069          274483       -4383.0   \n",
       "596          57   159.866           71231          334873        -984.0   \n",
       "597          45   171.445           94675          440487        7042.0   \n",
       "598           4   245.186          168330          923021           NaN   \n",
       "599          48   214.285           24275           97282       -6484.0   \n",
       "\n",
       "     album_id  track_id  similar_artists_1  similar_artists_2  \\\n",
       "0         127       444          -0.181376          -0.058655   \n",
       "1          95       396          -0.180479          -0.077271   \n",
       "2           9       294          -0.149785          -0.023950   \n",
       "3         192         2          -0.440156          -0.815865   \n",
       "4         489       419          -0.440156          -0.815865   \n",
       "..        ...       ...                ...                ...   \n",
       "595       407        43          -0.178332           0.008033   \n",
       "596       146       152          -0.157774          -0.025856   \n",
       "597       212       513          -0.178332           0.008033   \n",
       "598       236       223          -0.263609           0.358559   \n",
       "599       117       157          -0.588266           1.558060   \n",
       "\n",
       "     similar_artists_3  ...  album_artists_id_141  album_artists_id_142  \\\n",
       "0             0.000609  ...             -0.005250             -0.005749   \n",
       "1            -0.001546  ...             -0.015270             -0.043621   \n",
       "2             0.002652  ...             -0.000537             -0.000486   \n",
       "3            -0.070337  ...              0.000108             -0.000522   \n",
       "4            -0.070337  ...             -0.002362              0.001072   \n",
       "..                 ...  ...                   ...                   ...   \n",
       "595           0.002073  ...             -0.175831             -0.172657   \n",
       "596           0.002875  ...             -0.008820              0.104692   \n",
       "597           0.002073  ...             -0.175831             -0.172657   \n",
       "598          -0.008943  ...             -0.045290              0.246366   \n",
       "599          -0.045941  ...             -0.000352             -0.000319   \n",
       "\n",
       "     album_artists_id_143  album_artists_id_144  album_artists_id_145  \\\n",
       "0                0.002589             -0.000607             -0.003039   \n",
       "1               -0.008966              0.018754             -0.002032   \n",
       "2                0.000415             -0.000937             -0.000145   \n",
       "3                0.000553             -0.000827             -0.000163   \n",
       "4               -0.001693              0.000543              0.000303   \n",
       "..                    ...                   ...                   ...   \n",
       "595              0.157244             -0.035906             -0.033563   \n",
       "596              0.034091             -0.011022              0.007023   \n",
       "597              0.157244             -0.035906             -0.033563   \n",
       "598             -0.093227             -0.040710              0.009704   \n",
       "599              0.000273             -0.000612             -0.000095   \n",
       "\n",
       "     album_artists_id_146  album_artists_id_147  album_artists_id_148  \\\n",
       "0               -0.002465              0.000543              0.001495   \n",
       "1                0.038988             -0.017273              0.028867   \n",
       "2               -0.000256             -0.000072              0.000248   \n",
       "3                0.000190             -0.000008              0.000431   \n",
       "4               -0.002144             -0.000271             -0.001276   \n",
       "..                    ...                   ...                   ...   \n",
       "595             -0.050493              0.023108              0.004841   \n",
       "596             -0.022541             -0.003062             -0.015274   \n",
       "597             -0.050493              0.023108              0.004841   \n",
       "598              0.051100             -0.029620              0.004701   \n",
       "599             -0.000166             -0.000047              0.000163   \n",
       "\n",
       "     album_artists_id_149  album_artists_id_150  \n",
       "0               -0.015465             -0.008610  \n",
       "1               -0.031002             -0.009926  \n",
       "2                0.001549              0.000840  \n",
       "3                0.001080              0.001002  \n",
       "4               -0.000159             -0.002395  \n",
       "..                    ...                   ...  \n",
       "595             -0.002218              0.023020  \n",
       "596              0.024606              0.018668  \n",
       "597             -0.002218              0.023020  \n",
       "598              0.088893              0.003035  \n",
       "599              0.001015              0.000551  \n",
       "\n",
       "[600 rows x 607 columns]"
      ]
     },
     "execution_count": 452,
     "metadata": {},
     "output_type": "execute_result"
    }
   ],
   "source": [
    "dataset_vect = spotify.vectorize_recent_tracks(dataset, n_components=150, played_date=False)\n",
    "dataset_vect"
   ]
  },
  {
   "cell_type": "code",
   "execution_count": 455,
   "metadata": {},
   "outputs": [
    {
     "data": {
      "text/html": [
       "<div>\n",
       "<style scoped>\n",
       "    .dataframe tbody tr th:only-of-type {\n",
       "        vertical-align: middle;\n",
       "    }\n",
       "\n",
       "    .dataframe tbody tr th {\n",
       "        vertical-align: top;\n",
       "    }\n",
       "\n",
       "    .dataframe thead th {\n",
       "        text-align: right;\n",
       "    }\n",
       "</style>\n",
       "<table border=\"1\" class=\"dataframe\">\n",
       "  <thead>\n",
       "    <tr style=\"text-align: right;\">\n",
       "      <th></th>\n",
       "      <th>popularity</th>\n",
       "      <th>duration</th>\n",
       "      <th>track_listeners</th>\n",
       "      <th>track_playcount</th>\n",
       "      <th>release_date</th>\n",
       "      <th>album_id</th>\n",
       "      <th>track_id</th>\n",
       "      <th>similar_artists_1</th>\n",
       "      <th>similar_artists_2</th>\n",
       "      <th>similar_artists_3</th>\n",
       "      <th>...</th>\n",
       "      <th>album_artists_id_141</th>\n",
       "      <th>album_artists_id_142</th>\n",
       "      <th>album_artists_id_143</th>\n",
       "      <th>album_artists_id_144</th>\n",
       "      <th>album_artists_id_145</th>\n",
       "      <th>album_artists_id_146</th>\n",
       "      <th>album_artists_id_147</th>\n",
       "      <th>album_artists_id_148</th>\n",
       "      <th>album_artists_id_149</th>\n",
       "      <th>album_artists_id_150</th>\n",
       "    </tr>\n",
       "  </thead>\n",
       "  <tbody>\n",
       "    <tr>\n",
       "      <th>0</th>\n",
       "      <td>0.000000</td>\n",
       "      <td>0.043280</td>\n",
       "      <td>0.0</td>\n",
       "      <td>0.000475</td>\n",
       "      <td>374.984115</td>\n",
       "      <td>259.713701</td>\n",
       "      <td>0.744966</td>\n",
       "      <td>164.860123</td>\n",
       "      <td>456.622811</td>\n",
       "      <td>582.465821</td>\n",
       "      <td>...</td>\n",
       "      <td>822.605333</td>\n",
       "      <td>904.462674</td>\n",
       "      <td>547.200998</td>\n",
       "      <td>571.181387</td>\n",
       "      <td>451.033066</td>\n",
       "      <td>727.951676</td>\n",
       "      <td>561.467279</td>\n",
       "      <td>541.197635</td>\n",
       "      <td>649.411893</td>\n",
       "      <td>675.236449</td>\n",
       "    </tr>\n",
       "    <tr>\n",
       "      <th>1</th>\n",
       "      <td>0.217647</td>\n",
       "      <td>0.200000</td>\n",
       "      <td>0.0</td>\n",
       "      <td>0.003719</td>\n",
       "      <td>375.002269</td>\n",
       "      <td>194.274029</td>\n",
       "      <td>0.664430</td>\n",
       "      <td>165.143506</td>\n",
       "      <td>451.539902</td>\n",
       "      <td>581.792176</td>\n",
       "      <td>...</td>\n",
       "      <td>806.069939</td>\n",
       "      <td>828.269569</td>\n",
       "      <td>525.538111</td>\n",
       "      <td>596.075257</td>\n",
       "      <td>452.308192</td>\n",
       "      <td>791.066341</td>\n",
       "      <td>539.017039</td>\n",
       "      <td>583.076399</td>\n",
       "      <td>625.569121</td>\n",
       "      <td>673.115086</td>\n",
       "    </tr>\n",
       "    <tr>\n",
       "      <th>2</th>\n",
       "      <td>0.147059</td>\n",
       "      <td>0.110254</td>\n",
       "      <td>0.0</td>\n",
       "      <td>0.001059</td>\n",
       "      <td>357.411273</td>\n",
       "      <td>18.404908</td>\n",
       "      <td>0.493289</td>\n",
       "      <td>174.833421</td>\n",
       "      <td>466.098645</td>\n",
       "      <td>583.104506</td>\n",
       "      <td>...</td>\n",
       "      <td>830.382435</td>\n",
       "      <td>915.050878</td>\n",
       "      <td>543.124024</td>\n",
       "      <td>570.757371</td>\n",
       "      <td>454.697544</td>\n",
       "      <td>731.315174</td>\n",
       "      <td>560.692372</td>\n",
       "      <td>539.291030</td>\n",
       "      <td>675.520011</td>\n",
       "      <td>690.459184</td>\n",
       "    </tr>\n",
       "    <tr>\n",
       "      <th>3</th>\n",
       "      <td>0.000000</td>\n",
       "      <td>0.069522</td>\n",
       "      <td>0.0</td>\n",
       "      <td>0.002610</td>\n",
       "      <td>374.330580</td>\n",
       "      <td>392.638037</td>\n",
       "      <td>0.003356</td>\n",
       "      <td>83.164061</td>\n",
       "      <td>249.877461</td>\n",
       "      <td>560.286127</td>\n",
       "      <td>...</td>\n",
       "      <td>831.448210</td>\n",
       "      <td>914.978279</td>\n",
       "      <td>543.382682</td>\n",
       "      <td>570.898088</td>\n",
       "      <td>454.675614</td>\n",
       "      <td>731.993174</td>\n",
       "      <td>560.772440</td>\n",
       "      <td>539.570404</td>\n",
       "      <td>674.800608</td>\n",
       "      <td>690.719660</td>\n",
       "    </tr>\n",
       "    <tr>\n",
       "      <th>4</th>\n",
       "      <td>0.264706</td>\n",
       "      <td>0.040003</td>\n",
       "      <td>0.0</td>\n",
       "      <td>0.011476</td>\n",
       "      <td>370.518290</td>\n",
       "      <td>1000.000000</td>\n",
       "      <td>0.703020</td>\n",
       "      <td>83.164061</td>\n",
       "      <td>249.877461</td>\n",
       "      <td>560.286127</td>\n",
       "      <td>...</td>\n",
       "      <td>827.371624</td>\n",
       "      <td>918.184941</td>\n",
       "      <td>539.172803</td>\n",
       "      <td>572.659752</td>\n",
       "      <td>455.265156</td>\n",
       "      <td>728.439280</td>\n",
       "      <td>560.440921</td>\n",
       "      <td>536.959508</td>\n",
       "      <td>672.899158</td>\n",
       "      <td>685.247490</td>\n",
       "    </tr>\n",
       "    <tr>\n",
       "      <th>...</th>\n",
       "      <td>...</td>\n",
       "      <td>...</td>\n",
       "      <td>...</td>\n",
       "      <td>...</td>\n",
       "      <td>...</td>\n",
       "      <td>...</td>\n",
       "      <td>...</td>\n",
       "      <td>...</td>\n",
       "      <td>...</td>\n",
       "      <td>...</td>\n",
       "      <td>...</td>\n",
       "      <td>...</td>\n",
       "      <td>...</td>\n",
       "      <td>...</td>\n",
       "      <td>...</td>\n",
       "      <td>...</td>\n",
       "      <td>...</td>\n",
       "      <td>...</td>\n",
       "      <td>...</td>\n",
       "      <td>...</td>\n",
       "      <td>...</td>\n",
       "    </tr>\n",
       "    <tr>\n",
       "      <th>595</th>\n",
       "      <td>0.258824</td>\n",
       "      <td>0.071008</td>\n",
       "      <td>0.0</td>\n",
       "      <td>0.011541</td>\n",
       "      <td>153.726060</td>\n",
       "      <td>832.310838</td>\n",
       "      <td>0.072148</td>\n",
       "      <td>165.821383</td>\n",
       "      <td>474.830957</td>\n",
       "      <td>582.923412</td>\n",
       "      <td>...</td>\n",
       "      <td>541.109816</td>\n",
       "      <td>568.671258</td>\n",
       "      <td>837.143316</td>\n",
       "      <td>525.795977</td>\n",
       "      <td>412.370539</td>\n",
       "      <td>654.825150</td>\n",
       "      <td>589.900230</td>\n",
       "      <td>546.317932</td>\n",
       "      <td>669.739941</td>\n",
       "      <td>726.189633</td>\n",
       "    </tr>\n",
       "    <tr>\n",
       "      <th>596</th>\n",
       "      <td>0.335294</td>\n",
       "      <td>0.034694</td>\n",
       "      <td>0.0</td>\n",
       "      <td>0.014080</td>\n",
       "      <td>215.430698</td>\n",
       "      <td>298.568507</td>\n",
       "      <td>0.255034</td>\n",
       "      <td>172.311423</td>\n",
       "      <td>465.578189</td>\n",
       "      <td>583.174433</td>\n",
       "      <td>...</td>\n",
       "      <td>816.713915</td>\n",
       "      <td>1126.650671</td>\n",
       "      <td>606.260243</td>\n",
       "      <td>557.790140</td>\n",
       "      <td>463.777728</td>\n",
       "      <td>697.384199</td>\n",
       "      <td>556.924863</td>\n",
       "      <td>515.541881</td>\n",
       "      <td>710.902141</td>\n",
       "      <td>719.179256</td>\n",
       "    </tr>\n",
       "    <tr>\n",
       "      <th>597</th>\n",
       "      <td>0.264706</td>\n",
       "      <td>0.040697</td>\n",
       "      <td>0.0</td>\n",
       "      <td>0.018521</td>\n",
       "      <td>361.132795</td>\n",
       "      <td>433.537832</td>\n",
       "      <td>0.860738</td>\n",
       "      <td>165.821383</td>\n",
       "      <td>474.830957</td>\n",
       "      <td>582.923412</td>\n",
       "      <td>...</td>\n",
       "      <td>541.109816</td>\n",
       "      <td>568.671258</td>\n",
       "      <td>837.143316</td>\n",
       "      <td>525.795977</td>\n",
       "      <td>412.370539</td>\n",
       "      <td>654.825150</td>\n",
       "      <td>589.900230</td>\n",
       "      <td>546.317932</td>\n",
       "      <td>669.739941</td>\n",
       "      <td>726.189633</td>\n",
       "    </tr>\n",
       "    <tr>\n",
       "      <th>598</th>\n",
       "      <td>0.023529</td>\n",
       "      <td>0.078931</td>\n",
       "      <td>0.0</td>\n",
       "      <td>0.038810</td>\n",
       "      <td>NaN</td>\n",
       "      <td>482.617587</td>\n",
       "      <td>0.374161</td>\n",
       "      <td>138.899708</td>\n",
       "      <td>570.537199</td>\n",
       "      <td>579.479559</td>\n",
       "      <td>...</td>\n",
       "      <td>756.530700</td>\n",
       "      <td>1411.673831</td>\n",
       "      <td>367.566467</td>\n",
       "      <td>519.618357</td>\n",
       "      <td>467.172981</td>\n",
       "      <td>809.506863</td>\n",
       "      <td>523.459144</td>\n",
       "      <td>546.103056</td>\n",
       "      <td>809.555292</td>\n",
       "      <td>693.995949</td>\n",
       "    </tr>\n",
       "    <tr>\n",
       "      <th>599</th>\n",
       "      <td>0.282353</td>\n",
       "      <td>0.062909</td>\n",
       "      <td>0.0</td>\n",
       "      <td>0.004090</td>\n",
       "      <td>115.585005</td>\n",
       "      <td>239.263804</td>\n",
       "      <td>0.263423</td>\n",
       "      <td>36.406198</td>\n",
       "      <td>898.044164</td>\n",
       "      <td>567.912937</td>\n",
       "      <td>...</td>\n",
       "      <td>830.687803</td>\n",
       "      <td>915.386597</td>\n",
       "      <td>542.858149</td>\n",
       "      <td>571.175097</td>\n",
       "      <td>454.761199</td>\n",
       "      <td>731.451711</td>\n",
       "      <td>560.723617</td>\n",
       "      <td>539.159876</td>\n",
       "      <td>674.701466</td>\n",
       "      <td>689.994118</td>\n",
       "    </tr>\n",
       "  </tbody>\n",
       "</table>\n",
       "<p>600 rows × 607 columns</p>\n",
       "</div>"
      ],
      "text/plain": [
       "     popularity  duration  track_listeners  track_playcount  release_date  \\\n",
       "0      0.000000  0.043280              0.0         0.000475    374.984115   \n",
       "1      0.217647  0.200000              0.0         0.003719    375.002269   \n",
       "2      0.147059  0.110254              0.0         0.001059    357.411273   \n",
       "3      0.000000  0.069522              0.0         0.002610    374.330580   \n",
       "4      0.264706  0.040003              0.0         0.011476    370.518290   \n",
       "..          ...       ...              ...              ...           ...   \n",
       "595    0.258824  0.071008              0.0         0.011541    153.726060   \n",
       "596    0.335294  0.034694              0.0         0.014080    215.430698   \n",
       "597    0.264706  0.040697              0.0         0.018521    361.132795   \n",
       "598    0.023529  0.078931              0.0         0.038810           NaN   \n",
       "599    0.282353  0.062909              0.0         0.004090    115.585005   \n",
       "\n",
       "        album_id  track_id  similar_artists_1  similar_artists_2  \\\n",
       "0     259.713701  0.744966         164.860123         456.622811   \n",
       "1     194.274029  0.664430         165.143506         451.539902   \n",
       "2      18.404908  0.493289         174.833421         466.098645   \n",
       "3     392.638037  0.003356          83.164061         249.877461   \n",
       "4    1000.000000  0.703020          83.164061         249.877461   \n",
       "..           ...       ...                ...                ...   \n",
       "595   832.310838  0.072148         165.821383         474.830957   \n",
       "596   298.568507  0.255034         172.311423         465.578189   \n",
       "597   433.537832  0.860738         165.821383         474.830957   \n",
       "598   482.617587  0.374161         138.899708         570.537199   \n",
       "599   239.263804  0.263423          36.406198         898.044164   \n",
       "\n",
       "     similar_artists_3  ...  album_artists_id_141  album_artists_id_142  \\\n",
       "0           582.465821  ...            822.605333            904.462674   \n",
       "1           581.792176  ...            806.069939            828.269569   \n",
       "2           583.104506  ...            830.382435            915.050878   \n",
       "3           560.286127  ...            831.448210            914.978279   \n",
       "4           560.286127  ...            827.371624            918.184941   \n",
       "..                 ...  ...                   ...                   ...   \n",
       "595         582.923412  ...            541.109816            568.671258   \n",
       "596         583.174433  ...            816.713915           1126.650671   \n",
       "597         582.923412  ...            541.109816            568.671258   \n",
       "598         579.479559  ...            756.530700           1411.673831   \n",
       "599         567.912937  ...            830.687803            915.386597   \n",
       "\n",
       "     album_artists_id_143  album_artists_id_144  album_artists_id_145  \\\n",
       "0              547.200998            571.181387            451.033066   \n",
       "1              525.538111            596.075257            452.308192   \n",
       "2              543.124024            570.757371            454.697544   \n",
       "3              543.382682            570.898088            454.675614   \n",
       "4              539.172803            572.659752            455.265156   \n",
       "..                    ...                   ...                   ...   \n",
       "595            837.143316            525.795977            412.370539   \n",
       "596            606.260243            557.790140            463.777728   \n",
       "597            837.143316            525.795977            412.370539   \n",
       "598            367.566467            519.618357            467.172981   \n",
       "599            542.858149            571.175097            454.761199   \n",
       "\n",
       "     album_artists_id_146  album_artists_id_147  album_artists_id_148  \\\n",
       "0              727.951676            561.467279            541.197635   \n",
       "1              791.066341            539.017039            583.076399   \n",
       "2              731.315174            560.692372            539.291030   \n",
       "3              731.993174            560.772440            539.570404   \n",
       "4              728.439280            560.440921            536.959508   \n",
       "..                    ...                   ...                   ...   \n",
       "595            654.825150            589.900230            546.317932   \n",
       "596            697.384199            556.924863            515.541881   \n",
       "597            654.825150            589.900230            546.317932   \n",
       "598            809.506863            523.459144            546.103056   \n",
       "599            731.451711            560.723617            539.159876   \n",
       "\n",
       "     album_artists_id_149  album_artists_id_150  \n",
       "0              649.411893            675.236449  \n",
       "1              625.569121            673.115086  \n",
       "2              675.520011            690.459184  \n",
       "3              674.800608            690.719660  \n",
       "4              672.899158            685.247490  \n",
       "..                    ...                   ...  \n",
       "595            669.739941            726.189633  \n",
       "596            710.902141            719.179256  \n",
       "597            669.739941            726.189633  \n",
       "598            809.555292            693.995949  \n",
       "599            674.701466            689.994118  \n",
       "\n",
       "[600 rows x 607 columns]"
      ]
     },
     "execution_count": 455,
     "metadata": {},
     "output_type": "execute_result"
    }
   ],
   "source": [
    "dataset_scaled = spotify.scale_and_weight(dataset_vect, weighted_features=['track_listeners', 'tracks_playcount', 'popularity', 'duration', 'release_date', 'album_id', 'track_tags', 'similar_artists', 'track_artists_id', 'album_artists_id'], weights=[0, 0, 0.5, 0.2, 400, 1000, 10000, 1000, 1500, 1500], n_components=150)\n",
    "dataset_scaled"
   ]
  },
  {
   "cell_type": "code",
   "execution_count": 456,
   "metadata": {},
   "outputs": [
    {
     "data": {
      "image/png": "[encoded data removed]",
      "text/plain": [
       "<Figure size 640x480 with 1 Axes>"
      ]
     },
     "metadata": {},
     "output_type": "display_data"
    },
    {
     "data": {
      "application/vnd.plotly.v1+json": {
       "config": {
        "plotlyServerURL": "https://plot.ly"
       },
       "data": [
        {
         "customdata": [
          [
           "Polémique"
          ],
          [
           "669, Pt. 2"
          ],
          [
           "669"
          ],
          [
           "Scellé Part. 3"
          ],
          [
           "Scellé part.2"
          ],
          [
           "Scellé"
          ],
          [
           "Drill FR 4"
          ],
          [
           "DRILL FR 5 (feat. Hamza)"
          ],
          [
           "KASSAV (feat. Tiakola)"
          ],
          [
           "TCHIN 2X"
          ],
          [
           "EUPHON"
          ],
          [
           "HAINE&SEX"
          ],
          [
           "Benibla freestyle"
          ],
          [
           "Arah 1"
          ],
          [
           "Arah 3"
          ],
          [
           "Confinato"
          ],
          [
           "Flamengo"
          ],
          [
           "Barceloneta"
          ],
          [
           "Climatisé"
          ],
          [
           "Flash"
          ],
          [
           "Cactus"
          ],
          [
           "Katana"
          ],
          [
           "Boisson"
          ],
          [
           "Méthode"
          ],
          [
           "X3 (feat. Gazo)"
          ],
          [
           "Sunset"
          ],
          [
           "Tah sah"
          ],
          [
           "7 vies - Saison 999"
          ],
          [
           "Savage - Saison 999"
          ],
          [
           "Juicy - Saison 999"
          ],
          [
           "AR - Saison 999"
          ],
          [
           "Don’t Tell (feat. Headie One)"
          ],
          [
           "PAPI"
          ],
          [
           "Téléphone - Extrait de CRCLR MVT SAISON II"
          ],
          [
           "Intro"
          ],
          [
           "Baton Rouge"
          ],
          [
           "Pour It Up"
          ],
          [
           "Welcome to the Party"
          ],
          [
           "Keke"
          ],
          [
           "Gang Gang"
          ],
          [
           "Travail d'Ekip"
          ],
          [
           "Bicrave bitch"
          ],
          [
           "Crystal Lake (feat. Freeze Corleone)"
          ],
          [
           "Purge 5"
          ],
          [
           "Desiigner - A COLORS SHOW"
          ],
          [
           "7 sur 7"
          ],
          [
           "Mannschaft (feat. Freeze Corleone)"
          ],
          [
           "Origami"
          ],
          [
           "LY City"
          ],
          [
           "Ghini Ghini"
          ],
          [
           "Acte de Burberry"
          ],
          [
           "Bad Bi"
          ],
          [
           "Daddy chocolat"
          ],
          [
           "Lyonzon Lyonzon"
          ],
          [
           "Booska'Purge"
          ],
          [
           "GO (feat. Franglish & Landy)"
          ],
          [
           "Pousse toi"
          ],
          [
           "Elle veut"
          ],
          [
           "Où est la nina ?"
          ],
          [
           "Manger"
          ],
          [
           "Problèmes du matin"
          ],
          [
           "Invincible"
          ],
          [
           "Dior"
          ],
          [
           "ZEZE (feat. Travis Scott & Offset)"
          ],
          [
           "Kalitada (feat. SLK)"
          ],
          [
           "FUM22 NOCIVE"
          ],
          [
           "Swipe up"
          ],
          [
           "Kitchen"
          ],
          [
           "Taste (feat. Offset)"
          ],
          [
           "Qatari"
          ],
          [
           "Wow"
          ],
          [
           "Mia Wallace"
          ],
          [
           "H24"
          ],
          [
           "Tous les jours"
          ],
          [
           "Grammy"
          ],
          [
           "Drip or Drown"
          ],
          [
           "Off White"
          ],
          [
           "Alice"
          ],
          [
           "CARTIER"
          ],
          [
           "Batards"
          ],
          [
           "PARFUM"
          ],
          [
           "GROKUWA"
          ],
          [
           "My Men"
          ],
          [
           "Mercedes"
          ],
          [
           "Big Meech"
          ],
          [
           "Kobe (feat. Zola)"
          ],
          [
           "Freestyle Hors Série"
          ],
          [
           "Strict minimum"
          ],
          [
           "PAPEL"
          ],
          [
           "LETTRE À UN OPPS"
          ],
          [
           "HENNESSY"
          ],
          [
           "CELINE 3X"
          ],
          [
           "Mode Avion"
          ],
          [
           "M.A.L.A (feat. M Huncho)"
          ],
          [
           "Pablo Picasso (feat. 1PLIKÉ140)"
          ],
          [
           "Spaghetti (feat. Gazo & Guy2Bezbar)"
          ],
          [
           "A$AP"
          ],
          [
           "1PLIKÉ140 x Fumez The Engineer - Plugged In Freestyle"
          ],
          [
           "1PLIKTOI BIEN"
          ],
          [
           "Pas de ralentir 2"
          ],
          [
           "You & Me - Rivo Remix"
          ],
          [
           "Forever (feat. Malou & Yuna)"
          ],
          [
           "Move"
          ],
          [
           "I Adore You (feat. Daecolm)"
          ],
          [
           "Ride It"
          ],
          [
           "Only One"
          ],
          [
           "Hold On Me"
          ],
          [
           "Pull Me Under"
          ],
          [
           "Catch & Release - Deepend Remix"
          ],
          [
           "Maze Of Memories"
          ],
          [
           "10:35"
          ],
          [
           "How Deep"
          ],
          [
           "Location"
          ],
          [
           "Inertia"
          ],
          [
           "Si Ai - Marshmello & UKAY Remix"
          ],
          [
           "Only You"
          ],
          [
           "Shotgun"
          ],
          [
           "Mwaki"
          ],
          [
           "Woke Up in Love"
          ],
          [
           "Lose It All"
          ],
          [
           "Stolen Dance"
          ],
          [
           "Need To Feel Loved"
          ],
          [
           "Miss a Thing"
          ],
          [
           "Whatever"
          ],
          [
           "Saving All My Love"
          ],
          [
           "Take My Breath Away"
          ],
          [
           "Californication"
          ],
          [
           "Losing My Way"
          ],
          [
           "Giving Me"
          ],
          [
           "Sunset"
          ],
          [
           "Circles"
          ],
          [
           "Gypsy Woman"
          ],
          [
           "Back To You"
          ],
          [
           "Miss U"
          ],
          [
           "Aurora"
          ],
          [
           "Don’t Forget My Love"
          ],
          [
           "froze"
          ],
          [
           "Fleurs"
          ],
          [
           "This Sunset"
          ],
          [
           "Dance Alone"
          ],
          [
           "All Night Long"
          ],
          [
           "True"
          ],
          [
           "If The Moon Could Talk"
          ],
          [
           "Dancing in the Moonlight (feat. Neimy)"
          ],
          [
           "Melodies of Love"
          ],
          [
           "Black Friday (pretty like the sun)"
          ],
          [
           "Alta"
          ],
          [
           "I Saw It Coming"
          ],
          [
           "Stumblin' In"
          ],
          [
           "Eyes"
          ],
          [
           "Chasing Paradise"
          ],
          [
           "Passing By"
          ],
          [
           "Without You"
          ],
          [
           "Place We Know"
          ],
          [
           "Addicted"
          ],
          [
           "Morning Sun"
          ],
          [
           "Floating"
          ],
          [
           "For Life (feat. Nile Rodgers)"
          ],
          [
           "Find You"
          ],
          [
           "been lost"
          ],
          [
           "Ocean Eyes"
          ],
          [
           "Hey Ya!"
          ],
          [
           "Let You Go"
          ],
          [
           "Enfants"
          ],
          [
           "Long Way Home"
          ],
          [
           "Ocean Pass"
          ],
          [
           "Circles"
          ],
          [
           "Escape"
          ],
          [
           "Call You Mine"
          ],
          [
           "Dive"
          ],
          [
           "Gloaming"
          ],
          [
           "True"
          ],
          [
           "Walking On a Dream"
          ],
          [
           "Tore Me Up"
          ],
          [
           "Love Is The Only Thing"
          ],
          [
           "Sex, Drugs, Etc."
          ],
          [
           "Gaia"
          ],
          [
           "Breeze"
          ],
          [
           "Summer"
          ],
          [
           "Follow the Sun"
          ],
          [
           "Lights"
          ],
          [
           "Places"
          ],
          [
           "All My Life"
          ],
          [
           "Children"
          ],
          [
           "Hyperreal (Middle of the Night)"
          ],
          [
           "Sunroof"
          ],
          [
           "Moments"
          ],
          [
           "The Other Side"
          ],
          [
           "Wanderlust"
          ],
          [
           "I Don't Wanna Wait"
          ],
          [
           "Sweet Disposition"
          ],
          [
           "Sunshine"
          ],
          [
           "Ain't Deep Enough - Bonsai Mammal Chill Mix"
          ],
          [
           "Lovers In A Past Life (with Rag'n'Bone Man)"
          ],
          [
           "Illusion"
          ],
          [
           "Sun Goes Down"
          ],
          [
           "Summer Ending"
          ],
          [
           "Spring Embers"
          ],
          [
           "Dilemma"
          ],
          [
           "Cold Heart - PNAU Remix"
          ],
          [
           "Invincible"
          ],
          [
           "Pop Out (feat. Lil Tjay)"
          ],
          [
           "Drip Too Hard (Lil Baby & Gunna)"
          ],
          [
           "Dior"
          ],
          [
           "DRUGS CANT H3LP ME"
          ],
          [
           "Tyler Herro"
          ],
          [
           "HIGHEST IN THE ROOM"
          ],
          [
           "Scrupulous Sluhh"
          ],
          [
           "Avengers Assemble"
          ],
          [
           "Can't Relate"
          ],
          [
           "THE SCOTTS"
          ],
          [
           "Dark Knight Dummo"
          ],
          [
           "5% TINT"
          ],
          [
           "Bubbly (with Drake & Travis Scott)"
          ],
          [
           "WHATS POPPIN"
          ],
          [
           "Lemonade (feat. Gunna, Don Toliver & NAV)"
          ],
          [
           "RAPSTAR"
          ],
          [
           "Space Cadet (feat. Gunna)"
          ],
          [
           "XO Tour Llif3"
          ],
          [
           "Life Goes On"
          ],
          [
           "Love Sosa"
          ],
          [
           "44 BullDog"
          ],
          [
           "Broke In A Minute"
          ],
          [
           "Hot (Remix) [feat. Gunna and Travis Scott]"
          ],
          [
           "Walk Em Down (feat. Roddy Ricch)"
          ],
          [
           "goosebumps"
          ],
          [
           "Murder on My Mind"
          ],
          [
           "Get Back"
          ],
          [
           "6 Kiss"
          ],
          [
           "Myron"
          ],
          [
           "GATTI"
          ],
          [
           "Close Friends (Lil Baby & Gunna)"
          ],
          [
           "Baby Pluto"
          ],
          [
           "Shoota (feat. Lil Uzi Vert)"
          ],
          [
           "Hawk Em"
          ],
          [
           "Sum 2 Prove"
          ],
          [
           "Futsal Shuffle 2020"
          ],
          [
           "YOSEMITE"
          ],
          [
           "MIDDLE CHILD"
          ],
          [
           "No Role Modelz"
          ],
          [
           "Sanguine Paradise"
          ],
          [
           "Ransom"
          ],
          [
           "The Box"
          ],
          [
           "ROCKSTAR (feat. Roddy Ricch)"
          ],
          [
           "Lemonade - Remix"
          ],
          [
           "Noticed"
          ],
          [
           "ZEZE (feat. Travis Scott & Offset)"
          ],
          [
           "Champion (feat. Travis Scott)"
          ],
          [
           "OUT WEST (feat. Young Thug)"
          ],
          [
           "Element"
          ],
          [
           "WUNNA"
          ],
          [
           "Flex (feat. Juice WRLD)"
          ],
          [
           "Headshot (feat. Polo G & Fivio Foreign)"
          ],
          [
           "Heartless (feat. Mustard)"
          ],
          [
           "BookBag 2.0 (feat. Polo G)"
          ],
          [
           "21"
          ],
          [
           "33"
          ],
          [
           "I Know"
          ],
          [
           "No Matter What"
          ],
          [
           "Out Of Love (feat. Internet Money)"
          ],
          [
           "Be Something"
          ],
          [
           "Relentless"
          ],
          [
           "DND"
          ],
          [
           "Chinatown"
          ],
          [
           "Wishing For A Hero (feat. BJ The Chicago Kid)"
          ],
          [
           "Love Sosa"
          ],
          [
           "Mask Off"
          ],
          [
           "SICKO MODE"
          ],
          [
           "HUMBLE."
          ],
          [
           "infinity (888)"
          ],
          [
           "Moonlight"
          ],
          [
           "Fine China"
          ],
          [
           "Black & White"
          ],
          [
           "Suicidal (feat. Juice WRLD) - Remix"
          ],
          [
           "Conversations"
          ],
          [
           "Sauce!"
          ],
          [
           "Erase Your Social"
          ],
          [
           "PTSD"
          ],
          [
           "Got It On Me"
          ],
          [
           "Laugh Now Cry Later (feat. Lil Durk)"
          ],
          [
           "What You Know Bout Love"
          ],
          [
           "For The Night (feat. Lil Baby & DaBaby)"
          ],
          [
           "Gangstas"
          ],
          [
           "Moonlight (feat. Big Sean)"
          ],
          [
           "I"
          ],
          [
           "World Cup"
          ],
          [
           "6:30"
          ],
          [
           "Russ Millions x Fumez The Engineer - Plugged In"
          ],
          [
           "Je M'appelle"
          ],
          [
           "Lollipop"
          ],
          [
           "INDUSTRY BABY (feat. Jack Harlow)"
          ],
          [
           "Body"
          ],
          [
           "Reggae & Calypso (Russ Millions x Buni x YV)"
          ],
          [
           "Night Away (Dance) (feat. Tion Wayne)"
          ],
          [
           "Day in the Life"
          ],
          [
           "Latest Trends"
          ],
          [
           "PR SAD x Fumez The Engineer - Plugged In"
          ],
          [
           "Obsessed With You"
          ],
          [
           "Martin & Gina"
          ],
          [
           "Black and Yellow"
          ],
          [
           "Praise The Lord (Da Shine) (feat. Skepta)"
          ],
          [
           "Doja"
          ],
          [
           "F.N"
          ],
          [
           "Blueberry Faygo"
          ],
          [
           "ROXANNE"
          ],
          [
           "Mood (feat. iann dior)"
          ],
          [
           "Bandit (with YoungBoy Never Broke Again)"
          ],
          [
           "Life Is Good (feat. Drake)"
          ],
          [
           "I Don't Like"
          ],
          [
           "P2"
          ],
          [
           "BOP"
          ],
          [
           "Sunflower - Spider-Man: Into the Spider-Verse"
          ],
          [
           "LET GO"
          ],
          [
           "HOTEL LOBBY (Unc & Phew)"
          ],
          [
           "Kush - Main"
          ],
          [
           "Turks (with Gunna & ft. Travis Scott)"
          ],
          [
           "Stuck In A Dream (feat. Gunna)"
          ],
          [
           "Did It Again"
          ],
          [
           "10 Freaky Girls (with 21 Savage)"
          ],
          [
           "Sing For The Moment"
          ],
          [
           "Hello (feat. A Boogie Wit da Hoodie)"
          ],
          [
           "A Milli - SIDEPIECE Remix"
          ],
          [
           "One Up"
          ],
          [
           "Dior Freestyle"
          ],
          [
           "SAD!"
          ],
          [
           "Many Men (Wish Death)"
          ],
          [
           "Get Low"
          ],
          [
           "Rolando (Caught In The Rain)"
          ],
          [
           "Flexin'"
          ],
          [
           "Heatin Up (feat. Gunna)"
          ],
          [
           "Bryson"
          ],
          [
           "Twin Flame"
          ],
          [
           "Taliban"
          ],
          [
           "100 Grapes"
          ],
          [
           "Done"
          ],
          [
           "Top Shotta Flow"
          ],
          [
           "Tyler Herro"
          ],
          [
           "Commercial (feat. Lil Uzi Vert)"
          ],
          [
           "MET GALA"
          ],
          [
           "Effortless"
          ],
          [
           "Posted With Demons"
          ],
          [
           "ARGENTINA"
          ],
          [
           "Narrow Road (feat. Lil Baby)"
          ],
          [
           "Neva Cared"
          ],
          [
           "RELENTLESS (feat. Lil Uzi Vert)"
          ],
          [
           "Party Girl (Remix)"
          ],
          [
           "Never Recover (Lil Baby & Gunna, Drake)"
          ],
          [
           "March Madness"
          ],
          [
           "TOP FLOOR (feat. Travis Scott)"
          ],
          [
           "Codeine (feat. Gunna)"
          ],
          [
           "Shotta Flow 5"
          ],
          [
           "Under Enemy Arms"
          ],
          [
           "The Bigger Picture"
          ],
          [
           "Dope Lamp"
          ],
          [
           "Emotionally Scarred"
          ],
          [
           "Diamonds"
          ],
          [
           "Solitaires (feat. Travis Scott)"
          ],
          [
           "COOLER THAN A BITCH (feat. Roddy Ricch)"
          ],
          [
           "Social Distancing"
          ],
          [
           "Havin My Way (feat. Lil Durk)"
          ],
          [
           "Trials & Tribulations"
          ],
          [
           "Don't Believe The Hype"
          ],
          [
           "Heartless (feat. Mustard)"
          ],
          [
           "Live Off My Closet (feat. Future)"
          ],
          [
           "through the late night"
          ],
          [
           "Turks (feat. Travis Scott)"
          ],
          [
           "Toosie Slide"
          ],
          [
           "Deja Vu"
          ],
          [
           "Outside Today"
          ],
          [
           "Slime Belief"
          ],
          [
           "ROCKSTAR (feat. Roddy Ricch)"
          ],
          [
           "THE SCOTTS"
          ],
          [
           "Mamacita (feat. Rich Homie Quan & Young Thug)"
          ],
          [
           "Blueberry Faygo"
          ],
          [
           "FIND MY WAY"
          ],
          [
           "Famous Hoes"
          ],
          [
           "Life Is Good (feat. Drake)"
          ],
          [
           "3500 (feat. Future & 2 Chainz)"
          ],
          [
           "Dior - Bonus"
          ],
          [
           "Venetia"
          ],
          [
           "No Role Modelz"
          ],
          [
           "Drip Too Hard"
          ],
          [
           "Pop Out (feat. Lil Tjay)"
          ],
          [
           "06 Gucci (feat. DaBaby & 21 Savage)"
          ],
          [
           "3 Headed Goat (feat. Lil Baby & Polo G)"
          ],
          [
           "Go Stupid"
          ],
          [
           "DOLLAZ ON MY HEAD (feat. Young Thug)"
          ],
          [
           "PTSD"
          ],
          [
           "Moonwalking in Calabasas (feat. Blueface) - Remix"
          ],
          [
           "Down Below"
          ],
          [
           "The Woo (feat. 50 Cent & Roddy Ricch)"
          ],
          [
           "1400 / 999 Freestyle"
          ],
          [
           "Go Hard"
          ],
          [
           "24 (feat. Lil Baby)"
          ],
          [
           "Whats Poppin (feat. DaBaby, Tory Lanez & Lil Wayne) [Remix] - Bonus Track"
          ],
          [
           "Diva (feat. Lil Tecca)"
          ],
          [
           "Camelot"
          ],
          [
           "We Paid (feat. 42 Dugg)"
          ],
          [
           "GO (feat. Juice WRLD)"
          ],
          [
           "Ransom (with Juice WRLD) - Remix"
          ],
          [
           "Runaway"
          ],
          [
           "Water"
          ],
          [
           "Monalisa"
          ],
          [
           "Rush"
          ],
          [
           "MESMERIZED"
          ],
          [
           "KANTE (feat. Fave)"
          ],
          [
           "Last Last"
          ],
          [
           "Soweto (with Don Toliver, Rema & Tempoe)"
          ],
          [
           "Obimo"
          ],
          [
           "Peru"
          ],
          [
           "International Lovin"
          ],
          [
           "soso"
          ],
          [
           "PRITI PRITI"
          ],
          [
           "In My Bed"
          ],
          [
           "Jump"
          ],
          [
           "SAFE"
          ],
          [
           "KPA"
          ],
          [
           "Calm Down (with Selena Gomez)"
          ],
          [
           "CUT YOU OFF"
          ],
          [
           "Up Or Down"
          ],
          [
           "Sensational (feat. Davido & Lojay)"
          ],
          [
           "Stallin'"
          ],
          [
           "PON MY MIND"
          ],
          [
           "love nwantiti (ah ah ah)"
          ],
          [
           "Truth or Dare"
          ],
          [
           "NEXT TO ME"
          ],
          [
           "MMS"
          ],
          [
           "Carry"
          ],
          [
           "People"
          ],
          [
           "SHE BE"
          ],
          [
           "Mi Casa"
          ],
          [
           "Mr Lover"
          ],
          [
           "Baby (Is it a Crime)"
          ],
          [
           "Isolated"
          ],
          [
           "Sip (Alcohol)"
          ],
          [
           "Piece of My Heart (feat. Brent Faiyaz)"
          ],
          [
           "RABA"
          ],
          [
           "Comment Faire"
          ],
          [
           "KU LO SA - A COLORS SHOW"
          ],
          [
           "Commas"
          ],
          [
           "Bend"
          ],
          [
           "Moving"
          ],
          [
           "LOVE OR LAMBA"
          ],
          [
           "City Boys"
          ],
          [
           "UNAVAILABLE (feat. Musa Keys)"
          ],
          [
           "Bundle By Bundle"
          ],
          [
           "FEEL"
          ],
          [
           "Ngozi"
          ],
          [
           "Your Body"
          ],
          [
           "Essence (feat. Tems)"
          ],
          [
           "FEELINGS EVERYTIME"
          ],
          [
           "Bad Vibes (feat. Seyi Vibez)"
          ],
          [
           "Kese (Dance)"
          ],
          [
           "Ta Ta Ta"
          ],
          [
           "It's You"
          ],
          [
           "Soundgasm"
          ],
          [
           "Cough (Odo)"
          ],
          [
           "PUSH 2 START"
          ],
          [
           "BETTER4U"
          ],
          [
           "Playboy"
          ],
          [
           "FEEL"
          ],
          [
           "Charm"
          ],
          [
           "Asiwaju"
          ],
          [
           "Bandana"
          ],
          [
           "Call Me Every Day (feat. Wizkid)"
          ],
          [
           "Formation"
          ],
          [
           "Awuke"
          ],
          [
           "If"
          ],
          [
           "Last Heartbreak Song (feat. Giveon)"
          ],
          [
           "On the Low"
          ],
          [
           "understand"
          ],
          [
           "Party No Dey Stop (with Zinoleesky)"
          ],
          [
           "N'y pense plus"
          ],
          [
           "High"
          ],
          [
           "For My Hand (feat. Ed Sheeran)"
          ],
          [
           "Fall"
          ],
          [
           "SHE BE - Sped Up"
          ],
          [
           "Le temps"
          ],
          [
           "Tu es qui"
          ],
          [
           "Copines"
          ],
          [
           "Mad Over You"
          ],
          [
           "D O D O"
          ],
          [
           "BABY BLUE JEANS"
          ],
          [
           "Blessed"
          ],
          [
           "I love you"
          ],
          [
           "Comment Faire - Sped Up"
          ],
          [
           "It's Plenty"
          ],
          [
           "Blessed (feat. Damian Marley)"
          ],
          [
           "Drogba (Joanna)"
          ],
          [
           "No Wahala"
          ],
          [
           "Location (feat. Burna Boy)"
          ],
          [
           "Romeo Must Die (RMD)"
          ],
          [
           "Move"
          ],
          [
           "Active"
          ],
          [
           "Fi Kan We Kan"
          ],
          [
           "Terminator"
          ],
          [
           "Petit génie"
          ],
          [
           "YAYO"
          ],
          [
           "Metaverse"
          ],
          [
           "Runaway - Sped Up"
          ],
          [
           "Chacun fait (C'qui lui plaît)"
          ],
          [
           "Les démons de minuit"
          ],
          [
           "Quand la musique est bonne"
          ],
          [
           "Une autre histoire"
          ],
          [
           "Mistral gagnant"
          ],
          [
           "Ella, elle l'a - Remasterisé en 2004"
          ],
          [
           "Il est libre Max"
          ],
          [
           "Être une femme"
          ],
          [
           "Trois nuits par semaine"
          ],
          [
           "L'Aziza"
          ],
          [
           "Tous les cris les S.O.S."
          ],
          [
           "Encore et encore - Remastered"
          ],
          [
           "Le géant de papier - Version originale 1985"
          ],
          [
           "L'envie"
          ],
          [
           "Casser la voix"
          ],
          [
           "Mon mec à moi"
          ],
          [
           "Le parking des anges"
          ],
          [
           "J't'emmène au vent"
          ],
          [
           "Pour que tu m'aimes encore"
          ],
          [
           "Le temps des cathédrales - Extrait du spectacle «Notre Dame de Paris 1998» (Live)"
          ],
          [
           "Foule sentimentale"
          ],
          [
           "Allumer le feu"
          ],
          [
           "Face à la mer"
          ],
          [
           "Il avait les mots"
          ],
          [
           "Manhattan-Kaboul"
          ],
          [
           "On s'attache"
          ],
          [
           "Tout Le Bonheur Du Monde"
          ],
          [
           "J'ai demandé à la lune"
          ],
          [
           "L'envie d'aimer"
          ],
          [
           "Toi + Moi"
          ],
          [
           "Le déserteur"
          ],
          [
           "Comme toi"
          ],
          [
           "Maman est folle"
          ],
          [
           "San Francisco"
          ],
          [
           "Nicolas"
          ],
          [
           "Mon fils ma bataille"
          ],
          [
           "Le chanteur"
          ],
          [
           "Je ne suis pas un héros"
          ],
          [
           "Eve lève-toi"
          ],
          [
           "Pour un flirt"
          ],
          [
           "Partenaire Particulier"
          ],
          [
           "Résiste - Remasterisé en 2004"
          ],
          [
           "On va s'aimer"
          ],
          [
           "Envole-moi"
          ],
          [
           "Voyage voyage"
          ],
          [
           "Il changeait la vie"
          ],
          [
           "Mon amant de Saint-Jean"
          ],
          [
           "Je marche seul"
          ],
          [
           "Je te donne"
          ],
          [
           "Encore un matin"
          ],
          [
           "Ma liberté de penser"
          ],
          [
           "Au bout de mes rêves"
          ],
          [
           "Belles belles belles"
          ],
          [
           "Les lacs du Connemara"
          ],
          [
           "Dès que le vent soufflera"
          ],
          [
           "Siffler sur la colline"
          ],
          [
           "L'aventurier"
          ],
          [
           "Le lundi au soleil"
          ],
          [
           "Petite Marie"
          ],
          [
           "La vie par procuration"
          ],
          [
           "Cette année-là"
          ],
          [
           "Je l'aime à mourir - Remastered"
          ],
          [
           "S.O.S. d'un terrien en détresse - Remasterisé en 2009"
          ],
          [
           "Et si tu n'existais pas"
          ],
          [
           "Nuit de folie"
          ],
          [
           "Emmenez-moi"
          ],
          [
           "L'enfant du 92ème - Version 1991"
          ],
          [
           "Mourir sur scène"
          ],
          [
           "Monday, Tuesday... Laissez-moi danser"
          ],
          [
           "Il jouait du piano debout - Remasterisé en 2004"
          ],
          [
           "En rouge et noir"
          ],
          [
           "Le pouvoir des fleurs"
          ],
          [
           "Lady Marlène"
          ],
          [
           "Les aventures de Simon et Gunther Stein"
          ],
          [
           "Lise Altmann"
          ],
          [
           "J'entends cogner ton cœur"
          ],
          [
           "Mon pauvre Gunther"
          ],
          [
           "La réponse"
          ],
          [
           "Ma musique et mon patois"
          ],
          [
           "La lettre à Marie"
          ],
          [
           "Paroles… paroles…"
          ],
          [
           "Confidence pour confidence - Version originale 1981"
          ],
          [
           "Le pénitencier"
          ],
          [
           "Le galérien"
          ],
          [
           "La vie ne m'apprend rien"
          ],
          [
           "J'ai encore rêvé d'elle"
          ],
          [
           "A nos actes manqués"
          ],
          [
           "Elle a les yeux revolver"
          ],
          [
           "L'été indien"
          ],
          [
           "Macumba"
          ],
          [
           "Nos célébrations"
          ],
          [
           "À nos souvenirs"
          ],
          [
           "Sauver l'amour"
          ],
          [
           "Savoir aimer"
          ],
          [
           "Et un jour une femme"
          ],
          [
           "La valse à mille temps"
          ],
          [
           "Ton invitation"
          ],
          [
           "Amsterdam"
          ],
          [
           "La bohème"
          ],
          [
           "Vivre ou survivre"
          ]
         ],
         "hovertemplate": "PCA1=%{x}<br>PCA2=%{y}<br>Track_ID=%{customdata[0]}<br>Cluster=%{marker.color}<extra></extra>",
         "legendgroup": "",
         "marker": {
          "color": [
           3,
           6,
           6,
           2,
           2,
           2,
           2,
           2,
           2,
           2,
           2,
           2,
           6,
           6,
           6,
           6,
           6,
           3,
           3,
           3,
           3,
           3,
           3,
           3,
           2,
           2,
           6,
           3,
           3,
           3,
           2,
           3,
           3,
           2,
           2,
           2,
           2,
           3,
           3,
           6,
           2,
           2,
           2,
           2,
           2,
           2,
           2,
           6,
           6,
           3,
           2,
           3,
           2,
           6,
           3,
           2,
           6,
           3,
           3,
           3,
           3,
           1,
           1,
           6,
           2,
           6,
           3,
           6,
           6,
           3,
           3,
           3,
           2,
           3,
           2,
           6,
           3,
           3,
           2,
           6,
           6,
           2,
           2,
           3,
           2,
           3,
           3,
           3,
           3,
           2,
           2,
           2,
           3,
           2,
           3,
           2,
           2,
           1,
           3,
           3,
           3,
           3,
           3,
           3,
           3,
           3,
           3,
           3,
           3,
           3,
           3,
           3,
           6,
           3,
           3,
           3,
           3,
           3,
           3,
           3,
           3,
           3,
           3,
           3,
           3,
           3,
           3,
           3,
           3,
           3,
           3,
           3,
           3,
           3,
           3,
           3,
           3,
           3,
           3,
           3,
           3,
           3,
           3,
           3,
           3,
           3,
           3,
           3,
           3,
           3,
           3,
           3,
           3,
           3,
           3,
           3,
           3,
           3,
           3,
           3,
           3,
           3,
           3,
           3,
           3,
           3,
           6,
           3,
           3,
           3,
           3,
           3,
           3,
           3,
           3,
           3,
           3,
           3,
           3,
           3,
           3,
           3,
           3,
           3,
           3,
           3,
           3,
           3,
           3,
           3,
           3,
           3,
           3,
           3,
           3,
           3,
           3,
           3,
           3,
           3,
           1,
           6,
           6,
           1,
           3,
           1,
           6,
           3,
           3,
           6,
           1,
           6,
           6,
           6,
           1,
           6,
           6,
           6,
           1,
           1,
           1,
           1,
           6,
           6,
           6,
           6,
           1,
           1,
           6,
           6,
           1,
           6,
           1,
           1,
           1,
           1,
           1,
           6,
           6,
           6,
           1,
           6,
           6,
           1,
           6,
           3,
           6,
           6,
           6,
           1,
           6,
           6,
           6,
           6,
           6,
           6,
           6,
           6,
           6,
           6,
           6,
           6,
           6,
           6,
           6,
           1,
           6,
           6,
           6,
           6,
           6,
           6,
           6,
           6,
           6,
           6,
           1,
           1,
           1,
           6,
           1,
           1,
           1,
           6,
           6,
           3,
           3,
           6,
           3,
           6,
           1,
           6,
           3,
           1,
           6,
           6,
           1,
           6,
           6,
           3,
           3,
           1,
           6,
           6,
           3,
           6,
           6,
           6,
           1,
           1,
           6,
           6,
           6,
           6,
           3,
           6,
           6,
           6,
           6,
           6,
           1,
           3,
           1,
           1,
           6,
           6,
           6,
           6,
           1,
           6,
           6,
           6,
           6,
           6,
           6,
           6,
           1,
           6,
           6,
           6,
           6,
           6,
           6,
           6,
           6,
           6,
           6,
           6,
           6,
           6,
           6,
           6,
           1,
           6,
           6,
           6,
           6,
           6,
           1,
           1,
           6,
           6,
           6,
           6,
           6,
           6,
           6,
           6,
           6,
           6,
           1,
           6,
           6,
           3,
           6,
           6,
           6,
           6,
           1,
           6,
           6,
           6,
           6,
           1,
           6,
           6,
           6,
           6,
           6,
           6,
           1,
           6,
           6,
           6,
           1,
           1,
           6,
           1,
           6,
           6,
           0,
           3,
           3,
           3,
           0,
           3,
           3,
           3,
           3,
           3,
           0,
           3,
           0,
           6,
           6,
           0,
           3,
           3,
           0,
           1,
           3,
           0,
           3,
           3,
           3,
           3,
           3,
           3,
           3,
           0,
           3,
           3,
           3,
           0,
           3,
           3,
           3,
           0,
           3,
           3,
           3,
           3,
           3,
           3,
           3,
           3,
           3,
           3,
           3,
           3,
           3,
           3,
           3,
           3,
           3,
           3,
           3,
           3,
           3,
           3,
           3,
           3,
           3,
           3,
           3,
           3,
           3,
           3,
           3,
           3,
           3,
           3,
           3,
           3,
           3,
           3,
           0,
           3,
           3,
           3,
           3,
           3,
           3,
           3,
           3,
           0,
           3,
           3,
           3,
           3,
           3,
           3,
           3,
           1,
           3,
           3,
           3,
           3,
           3,
           0,
           3,
           3,
           4,
           4,
           4,
           3,
           3,
           4,
           5,
           4,
           4,
           4,
           3,
           4,
           4,
           4,
           4,
           4,
           3,
           3,
           4,
           4,
           4,
           3,
           4,
           3,
           3,
           5,
           3,
           3,
           3,
           4,
           4,
           3,
           4,
           4,
           4,
           4,
           4,
           4,
           3,
           3,
           4,
           4,
           3,
           4,
           4,
           4,
           4,
           4,
           4,
           4,
           4,
           4,
           4,
           4,
           5,
           4,
           4,
           4,
           4,
           4,
           4,
           4,
           4,
           3,
           3,
           4,
           4,
           3,
           4,
           4,
           4,
           4,
           4,
           4,
           4,
           4,
           4,
           4,
           4,
           3,
           4,
           3,
           4,
           4,
           4,
           4,
           4,
           3,
           5,
           3,
           4,
           4,
           4,
           4,
           4,
           3,
           3,
           4
          ],
          "coloraxis": "coloraxis",
          "symbol": "circle"
         },
         "mode": "markers",
         "name": "",
         "orientation": "v",
         "showlegend": false,
         "type": "scatter",
         "x": [
          -0.2894332028171066,
          0.11071341417177945,
          0.1394031253078076,
          -0.172648497554376,
          -0.05252988532664309,
          -0.17341837262404625,
          -0.059656977113359606,
          -0.23210799845658858,
          0.07471676464147185,
          -0.1619966603062199,
          -0.14203263773947286,
          -0.1153971144996821,
          0.13626483458299612,
          0.13589750089749417,
          0.14176899701408846,
          0.15529008877106357,
          0.12532868422048443,
          -0.0031130439358858365,
          -0.027676853131682985,
          0.004533729943108082,
          -0.05223175761444411,
          -0.05932057591207931,
          -0.005632085268550941,
          -0.015648197280115107,
          -0.19025295537688883,
          -0.14021974282255503,
          0.1360833296036185,
          -0.1228331277112117,
          -0.22482428387143583,
          -0.16296503034097923,
          -0.045347994207070565,
          0.10357590650626379,
          -0.3925122311832398,
          -0.04475700296691877,
          -0.04276782401011112,
          -0.045905037121530635,
          -0.15627844890705916,
          -0.3087408593940056,
          -0.12130555604922859,
          0.12449371589993115,
          -0.0563075218587357,
          -0.08874125519671301,
          0.049273597768978335,
          -0.0963085059110586,
          -0.15183663922004736,
          -0.060717151728206735,
          -0.05388004524089884,
          0.140005428456553,
          0.13521131613536155,
          0.0993664942236139,
          -0.1760466614679498,
          -0.06096659654133698,
          -0.1414317521770586,
          0.16384759183977174,
          -0.308207495650602,
          -0.13582371171639362,
          -0.005975686596139237,
          -0.06896514352752375,
          -0.01316505995889303,
          -0.2969524221870349,
          0.025190293297687752,
          0.5928701076199314,
          0.5964384135970637,
          0.47020246633688084,
          -0.17899633215722777,
          0.2035767640139019,
          -0.24970050994812273,
          0.0500769754584709,
          0.34569312682407405,
          -0.049338702126960156,
          -0.07604738778414728,
          -0.30050758752384027,
          -0.11069888828519377,
          -0.1424494801430256,
          -0.12058182370663664,
          0.5869019659353351,
          -0.24469182510448947,
          -0.4238428926279979,
          -0.11577998718474469,
          0.07817920014749125,
          0.14313413738787106,
          -0.17289141490945922,
          -0.21645261258241022,
          -0.3078513266522566,
          -0.19727715061636109,
          0.023797595585081113,
          -0.33187734645354283,
          -0.3122699888072155,
          -0.08019753030380883,
          -0.1543211949093869,
          -0.1797988298024728,
          -0.15070162669878473,
          -0.2952022356418679,
          0.035477324044174315,
          -0.21921881606344684,
          -0.3313916399765189,
          -0.16454357371301884,
          0.12346702438995973,
          -0.17137207437013063,
          -0.3079050260585785,
          -0.18798394418510658,
          -0.07231296752756074,
          -0.08080455034014658,
          0.0013360762453919134,
          -0.09138157510696833,
          -0.14776403223934642,
          -0.18062673185549374,
          -0.278437820003809,
          -0.27034895860394403,
          -0.14846511066197027,
          -0.17013622327377617,
          -0.16264568525380238,
          0.2762274191146333,
          -0.17651752339842963,
          0.01292580071990541,
          -0.3146652704980515,
          -0.07094467504376369,
          -0.11357008822987835,
          -0.2811294576001381,
          -0.1961220328263835,
          -0.08069444892031725,
          -0.2844850447252937,
          -0.15061477038949936,
          -0.11337219047250313,
          -0.18142742898909459,
          -0.34322460739190547,
          -0.2787723570541176,
          0.044486993258840805,
          -0.1536184165503896,
          -0.2762617775732425,
          -0.15512396631721473,
          -0.1768024086600628,
          -0.14341817832053047,
          -0.15242410756668381,
          -0.1568145534054185,
          -0.04347801438874037,
          -0.2772315548646056,
          -0.17100587357238134,
          -0.22278556699185306,
          -0.13012600202651992,
          -0.2723201759714042,
          -0.1513620991704399,
          -0.22474491036231056,
          -0.22771431504605727,
          -0.1803791009531059,
          -0.10792288238537921,
          -0.26379267557238845,
          -0.15266155649455093,
          -0.053357520547451506,
          -0.18798935680980383,
          -0.12297667379513966,
          -0.19135035221570681,
          -0.3695115859105434,
          -0.1675307705683822,
          -0.16344726758159453,
          -0.17167288301804337,
          -0.19260932716362997,
          -0.1838356150574723,
          -0.19078648542856888,
          -0.17376540929004874,
          -0.20246832536376325,
          -0.22849372161888684,
          -0.1885547703987133,
          -0.19690786334457644,
          -0.16864900087435666,
          -0.18199574367495244,
          0.30612259612498083,
          -0.19001156610589084,
          -0.16640748927757196,
          -0.2386778736880119,
          -0.17635628213685392,
          -0.18348546840210883,
          -0.18487774183582997,
          -0.2005455321153823,
          -0.10749926226953795,
          -0.06245156727366255,
          -0.18167165288140594,
          -0.1630030363549746,
          -0.06966874440832076,
          -0.18998793743420067,
          -0.19033348811402093,
          -0.17539740823217656,
          -0.15324347757050313,
          -0.08069655623077274,
          -0.17348380849175038,
          -0.19785995622597197,
          -0.17151657697964784,
          -0.20447140492470833,
          -0.18486062259578293,
          -0.06625536672667842,
          -0.23646889041699592,
          -0.176262543181408,
          -0.286141142361842,
          -0.01773587848972347,
          -0.2295489920916606,
          -0.1455798565914473,
          -0.2808022119353561,
          -0.16697116639727197,
          -0.13369083217774036,
          -0.16188307525262932,
          0.5928701076199315,
          0.7326766688244188,
          0.7680791770959883,
          0.5237127376780801,
          -0.14198601555545615,
          0.3841649830787224,
          0.5580326274687177,
          -0.18942883446805425,
          -0.18286079451921597,
          0.15145789437045895,
          0.48835995708258884,
          0.2835349997900305,
          0.4889317789941836,
          0.5751775094046996,
          0.3939449076629793,
          0.5395980654480127,
          0.7181886352310715,
          0.6332011600856566,
          0.5039388625176128,
          0.7374452846026687,
          0.39790774107345833,
          0.5216489491156331,
          0.29875575836391344,
          0.7185267083670476,
          0.6536458326697561,
          0.5473207574664214,
          0.3503638791879017,
          0.5736917812561914,
          0.2679090511492651,
          0.4143801022186297,
          0.6523159631245803,
          0.591839538808987,
          0.3796090306687152,
          0.4739168630720175,
          0.4947702956053997,
          0.5318556378534228,
          0.37393883814560563,
          0.4847381842074557,
          0.30300176935895545,
          0.3681722138211557,
          0.393489134384037,
          0.5065068018542443,
          0.6110690360582112,
          0.6149851944986423,
          0.4280375174589331,
          0.18857739278872088,
          0.47020246633688084,
          0.49502546820266985,
          0.6272839199665406,
          0.5879546970197062,
          0.5548366140062392,
          0.7694729659240159,
          0.6434396687140349,
          0.6955830305558452,
          0.6136185469195281,
          0.6906103358280452,
          0.6350813335291192,
          0.6664139512880876,
          0.60563456698347,
          0.464881388474875,
          0.8307199740331631,
          0.605936563854939,
          0.618931883918017,
          0.604486875628742,
          0.648241330488531,
          0.2112359186157807,
          0.5779738542521321,
          0.5143818440348942,
          0.39607225381176075,
          0.3115419518713084,
          0.2651976932934962,
          0.6136571062925169,
          0.30970184323553146,
          0.43668126946979696,
          0.3395976683723998,
          0.2360786964111172,
          0.39993584458818765,
          0.5259939453406449,
          0.572219519167255,
          0.5412851328386326,
          0.6031518184069902,
          0.8365478383365571,
          0.5492983540487516,
          0.45624274939199805,
          0.3279613048266257,
          -0.04922938420811865,
          0.12590399106123148,
          0.25486389482884186,
          0.013331340134809496,
          0.07607352021016033,
          0.46855106783963274,
          0.26200400037009136,
          0.15047217890054618,
          0.23437172503532952,
          0.29799820010564765,
          0.23301968250544394,
          0.19940207408241173,
          0.32127621341438406,
          0.6950229192615219,
          0.14771095635709494,
          0.22975744605494128,
          0.346705768030028,
          0.2849673174276269,
          0.2315135374797159,
          0.2008192173561136,
          0.2800451758794573,
          0.48800633205491584,
          0.5856005667906335,
          0.3451138959133888,
          0.3763286151517431,
          0.47391042240643083,
          0.45057996687340385,
          0.3226690029363529,
          0.3301407748423352,
          0.08530005440442305,
          0.69722686115314,
          0.6168411469198409,
          0.4503727181368919,
          0.46869037235420813,
          0.1045223844069865,
          0.5842289591852009,
          0.03972588313037171,
          0.2797900510124936,
          0.2891810882664918,
          0.33863100517083655,
          0.1916256226863989,
          0.12935057447963086,
          0.22094778319450914,
          0.5233343263250244,
          0.6897349066306188,
          0.43173559207031253,
          0.4141377560068387,
          0.41106190258742553,
          0.4316121913766725,
          0.41213505638292924,
          0.4514094666231371,
          0.3628198792870567,
          0.5830981107816134,
          0.5823844472313283,
          0.6181804590044696,
          0.4468358273340819,
          0.5416772821993059,
          0.4962964726340052,
          0.6569186286338649,
          0.5185612501899534,
          0.3603322258553696,
          0.7902924706825935,
          0.47492369288167247,
          0.6673469131565373,
          0.5469988982644479,
          0.48549161387228595,
          0.09581942382082106,
          0.4466161286068682,
          0.29706884679245,
          0.558262950584859,
          0.2858629771572977,
          0.5728386288535757,
          0.7112834008066309,
          0.4951304785884815,
          0.2491018858311845,
          0.6189292294724923,
          0.6163185867268659,
          0.6207347956518375,
          0.6154779967647043,
          0.40986169644273623,
          0.7222995072174077,
          0.2915628971212861,
          0.22631501767947088,
          0.3691871469489208,
          0.33830965226579707,
          0.5561274123928872,
          0.4386394703522008,
          0.5145782685302033,
          0.20867752294542008,
          0.26101173380163456,
          0.47932042919232903,
          0.602938063798072,
          0.5506624226512582,
          0.48382085397333,
          0.3485833849820484,
          0.15448941817190978,
          0.5673887492333447,
          0.5955559473871851,
          0.46575672916101507,
          0.8125005913229905,
          0.8062268997913075,
          0.6549363990959023,
          0.492148060005982,
          0.3598649110980705,
          0.5324925807501459,
          0.7371044339176198,
          0.19662593754176266,
          0.5363066171187023,
          0.5601661299772176,
          0.47565727086040743,
          0.35637748623034965,
          0.5337461544462567,
          0.5654925937701004,
          0.27921319710124465,
          0.5234827032012466,
          -0.17751751834231475,
          -0.06242378368001625,
          0.236243920870702,
          -0.1622000476527382,
          -0.1993336820172066,
          -0.04295702563031299,
          0.09822019737489403,
          0.20845842546599813,
          -0.13556675923031963,
          0.03620290453380538,
          -0.19670930784680973,
          -0.16680035857636175,
          -0.18549237878686348,
          0.22254840913348997,
          0.5478264693553173,
          -0.08172286698654063,
          -0.1622274439367366,
          -0.024862588805016565,
          -0.1942495820829688,
          0.24243140888934034,
          0.23104823121632487,
          -0.19056287668914956,
          -0.13864653337371463,
          -0.08471378179344043,
          -0.15134214810070537,
          -0.15140698348338458,
          -0.05483752640864044,
          -0.14457966534998193,
          -0.13110318967855428,
          -0.18186437864890984,
          -0.15025031273050385,
          -0.14524997647803875,
          -0.033732019670043974,
          -0.2237315735943116,
          -0.11946478847033391,
          0.052134794128118674,
          -0.18670758872575416,
          -0.20503702600813456,
          -0.10371261781436279,
          -0.15193113127706911,
          0.01067297111930277,
          -0.1828264314782533,
          -0.15917490123410802,
          0.1200418685364213,
          -0.1342151370410733,
          0.1109005114776475,
          -0.1758418524527036,
          -0.20267250482007604,
          -0.189886604496767,
          -0.06104396655874696,
          -0.14440786152018573,
          -0.18067856014375758,
          0.020788351322814782,
          -0.11654553683588341,
          -0.18654913677476118,
          -0.07180990693109802,
          -0.12266072176059045,
          -0.08020998538398862,
          -0.16945064093261034,
          0.09381492200305958,
          -0.14674898871156722,
          -0.05675105580854392,
          -0.0808480916415268,
          0.05759800348709877,
          0.22951688351111244,
          -0.17292049856361613,
          -0.12772004344100357,
          -0.20284638508008698,
          -0.15387297587819843,
          0.07157869941624435,
          -0.18653034785708938,
          -0.1389865993211895,
          -0.10542697631684411,
          -0.18635444983393906,
          0.0069276414727151925,
          -0.19872897131017397,
          -0.22170738816372648,
          -0.08654273179514647,
          -0.16265851598672917,
          -0.13317692711352974,
          -0.14010852727257528,
          -0.08516481887373416,
          -0.16549337304475636,
          -0.1563644587030245,
          -0.16864037220744887,
          -0.21328697076551723,
          0.07475416512127339,
          -0.050330449338444744,
          -0.14285237667635126,
          -0.11781110422971537,
          0.1350862054539137,
          -0.10242740624614269,
          -0.0808045503401466,
          0.37090050779909434,
          -0.06366117438812119,
          -0.15875781208825085,
          0.1303658992637563,
          -0.05862972594915403,
          -0.027028431821154504,
          -0.19658086309076234,
          -0.5478178758297633,
          -0.4195606012763914,
          -0.7521966190734555,
          -0.5661137928890382,
          -0.5670325096403893,
          -0.4024893825760346,
          -0.4263510149385727,
          -0.7054029809206315,
          -0.49147177738939823,
          -1.0165001116639258,
          -1.024120737616768,
          -0.5093419512410762,
          -0.506329110998339,
          -0.5744611965315914,
          -0.6571391127059825,
          -0.4929897723202521,
          -0.6034389853910607,
          -0.4190207541496118,
          -0.3815797939038761,
          -0.38193722017973947,
          -0.531729372151266,
          -0.5456953050254835,
          -0.2220542626715873,
          -0.44270555981002546,
          -0.756081067806822,
          -0.39044081853893364,
          -0.4658894375715966,
          -0.3979867636169766,
          -0.5316373962447062,
          -0.4013288371264445,
          -0.49986641547012967,
          -0.7754298188631813,
          -0.5707968309732158,
          -0.3925640204802798,
          -0.5839442266706577,
          -0.8690167842998567,
          -0.8937457288437165,
          -0.9015904915188871,
          -0.4868453898223678,
          -0.567071139614909,
          -0.3799991363403467,
          -0.39519739971878465,
          -0.5231177005070775,
          -0.7842584522715313,
          -0.2973935253253252,
          -0.7530862103420035,
          -0.590248471266295,
          -0.765564441142411,
          -0.7730022351432752,
          -0.7884232349667624,
          -0.5584315811740386,
          -0.7634655994864142,
          -0.5905713382146758,
          -0.5769110814880747,
          -0.6117804961348543,
          -0.6746281739376713,
          -0.354361681336365,
          -0.6993667604034489,
          -0.5523554838738941,
          -0.7726987147257571,
          -0.5686495461438261,
          -0.4792251694613667,
          -0.8131318237111462,
          -0.6164384400082478,
          -0.5243676593430308,
          -0.5365675546066984,
          -0.41858570707244824,
          -0.5162329486843126,
          -0.5152978160524464,
          -0.4068453644453268,
          -0.42458190320280714,
          -0.5782552189654241,
          -0.9640499221063542,
          -0.9624519741137479,
          -0.9607718570646333,
          -0.9742356300677851,
          -0.9668370191064448,
          -0.9645278898864819,
          -0.9783133607868247,
          -0.9814896900511496,
          -0.5433633218501217,
          -0.3476472816917948,
          -0.6786026896308949,
          -0.4536144694054821,
          -0.8896520780006718,
          -0.42333093374200725,
          -0.7685398975580477,
          -0.5734298748528739,
          -0.5308503455934983,
          -0.349477920491934,
          -0.383099029226211,
          -0.29214211169395937,
          -0.8947337278096188,
          -0.5894023945403036,
          -0.5833355399099965,
          -0.5492219797231473,
          -0.43237683065373056,
          -0.39691878869666297,
          -0.5357555962277593,
          -0.8800482943346638
         ],
         "xaxis": "x",
         "y": [
          0.029455129540753886,
          0.3706140239766844,
          0.478637943235539,
          0.518578656946982,
          0.2575569906213311,
          0.45613649768885106,
          0.4425165666689611,
          0.34716228492542806,
          0.4159224171571929,
          0.31391365729010196,
          0.27992906618757013,
          0.24880197067041868,
          0.47237452212309644,
          0.42517249957231695,
          0.42474786897652933,
          0.4400638091041599,
          0.39465004282409905,
          0.04792119201530237,
          0.08693738416415199,
          0.031907199870620746,
          0.11711168727607862,
          0.0799696303019928,
          0.01767687733212498,
          0.03488838133882824,
          0.6042153120288053,
          0.4472891017692258,
          0.42172149269059817,
          0.291571788844462,
          0.33057631009818,
          0.24407068769143545,
          0.5883350042640131,
          0.086246328086499,
          0.09835577098561736,
          0.23017182282529774,
          0.2842682139229814,
          0.28856686765450407,
          0.34156334214199696,
          -0.022125067636392312,
          -0.10727009525491848,
          0.4775973280689199,
          0.4249260537835858,
          0.28446981703492247,
          0.328610700893692,
          0.28398762469740807,
          0.4066757409333955,
          0.3105693199679861,
          0.17181362985592522,
          0.39784144325388593,
          0.40159401516621096,
          0.047434236343926045,
          0.326433963712193,
          -0.1763338503532615,
          0.2045391090108262,
          0.3875287786696616,
          0.0023936120466389356,
          0.3417009366239468,
          0.10315159511646321,
          -0.10464433059031551,
          0.1047194436366249,
          -0.009150422956499496,
          0.22671395473847944,
          0.11182970903051637,
          0.10350638565190506,
          0.008764164606395565,
          0.5647600058927181,
          0.04484856302355288,
          -0.08580623912972074,
          0.22604012433041268,
          0.04297347540246915,
          0.3290820432927696,
          -0.07724665788443585,
          -0.0016892398304376246,
          0.2998998744993968,
          0.18343163094991313,
          0.3798564673571114,
          0.15342862758812287,
          -0.12229927075320811,
          0.114155278028132,
          0.4045603372198875,
          0.3427850067634567,
          0.13239396046136956,
          0.3073862740824434,
          0.3529200526148796,
          0.03384674922959634,
          0.33647080740093377,
          0.13948850748961136,
          0.05266470088344708,
          0.29540958825301145,
          -0.12382224204893823,
          0.25682933795252116,
          0.30094912005606383,
          0.27622019578510915,
          0.07938843226622315,
          0.42706487118841246,
          -0.0615139746935832,
          0.4326688315602262,
          0.3159924288429273,
          0.10613843094104033,
          -0.1354576978395155,
          -0.01335233484381217,
          -0.550152916375957,
          -0.40599511378918696,
          -0.6662752099631171,
          -0.3597368361873437,
          -0.4043317115068745,
          -0.2848631457700944,
          -0.5180345143231718,
          0.005057485852653174,
          -0.3825707292247475,
          -0.35577907786038476,
          -0.5095438501756087,
          -0.26126968491061886,
          -0.3146407272175596,
          -0.18317644928590632,
          -0.23504328998268384,
          -0.09605555474370207,
          -0.15976594576904105,
          -0.4715775370175123,
          0.00812361800763822,
          -0.30923342108318264,
          -0.2500909619681659,
          0.00783280465038095,
          -0.21812734724825836,
          -0.5004849213220912,
          -0.29972397065629697,
          -0.007196212144730095,
          0.029069800858512455,
          -0.15001057274920016,
          -0.3131798577926087,
          -0.013802487779418218,
          -0.2454326181675344,
          -0.17084199153567103,
          -0.5951493927042222,
          -0.14167424692019856,
          -0.15971373518321183,
          -0.26666820080062764,
          -0.1716591575752214,
          -0.24148346290693934,
          -0.2626451919417449,
          -0.20748478605465195,
          -0.4447018328340252,
          -0.343363019512596,
          -0.15669695170697193,
          -0.272568038394111,
          -0.20894392978458565,
          -0.6435795311523504,
          0.028036191743849796,
          -0.15909128464055805,
          -0.3835985188751807,
          -0.2027372136422749,
          -0.6278658430841146,
          -0.2612471329844293,
          -0.15388579197106994,
          -0.35738291624135327,
          -0.6716764669675102,
          -0.2550831731280069,
          -0.1539750426010535,
          -0.6219858227209368,
          -0.33786676554533457,
          -0.15645113381674614,
          -0.14539732141521605,
          -0.25327573713725016,
          -0.17318041632949838,
          -0.22372006761952412,
          -0.18599664231452584,
          -0.3389583327926606,
          -0.16967299508129427,
          -0.24524270571936024,
          -0.22198395251575548,
          -0.47923263909305197,
          -0.22398282079491658,
          -0.42507024931011866,
          -0.2737077273320822,
          -0.20736257586559034,
          -0.46923229031738556,
          -0.306395806012459,
          -0.22560463405276196,
          -0.21197692829315487,
          -0.4621027012101673,
          -0.2640116603517262,
          -0.18774633496767823,
          -0.23622106133235357,
          -0.41300030512007085,
          -0.1672723126452744,
          -0.3385975071580609,
          -0.2750837194494604,
          -0.2527077257090159,
          -0.23440151205867268,
          -0.15682250896870045,
          -0.5817075017638863,
          -0.24480859439585573,
          -0.18927166277959462,
          -0.2040958358787217,
          -0.42662230187199396,
          -0.2552175291606471,
          -0.23629418047406647,
          -0.17549722882648908,
          -0.3003018829987787,
          -0.22259204695491763,
          -0.5309082700918711,
          0.11182970903051635,
          0.24454540259466048,
          0.2459556984372501,
          0.3015409385115644,
          -0.18794120845069115,
          -0.07877115705554617,
          -0.072656216255915,
          -0.11016783365100284,
          -0.13214349000883446,
          0.03560776152964652,
          -0.10825848041334406,
          0.39276165029371385,
          -0.02579749946182501,
          0.0352934343097735,
          -0.11820533781904055,
          0.37521892467328427,
          0.09708787461301491,
          0.10077834294834835,
          -0.08738037238549948,
          0.22315244848958257,
          0.07964180854892897,
          0.1582620848274142,
          -0.14711426505555464,
          0.2672427825473593,
          0.2734705078392615,
          -0.05341675756186596,
          -0.08786119803566592,
          0.13168678648752422,
          0.33551731411858804,
          0.04359104488778202,
          0.15542090287701224,
          0.2054339899261818,
          -0.011806402319861355,
          -0.07629220279215065,
          0.2811561160990528,
          0.1443192362409645,
          0.020196123235511742,
          -0.02869851672028224,
          -0.09001001344285105,
          -0.0489092307324976,
          0.018672012163794525,
          -0.08511209955626876,
          0.008183619979887199,
          0.030663422416092045,
          0.3639812348150288,
          -0.16545550025582514,
          0.00876416460639545,
          0.1376764417713,
          0.06309818621852492,
          0.11917130082538226,
          0.24495010711634665,
          0.20399320132539372,
          0.21473277061477625,
          0.19521465711106284,
          0.24499023720583468,
          0.18235152115492242,
          0.24330377690771,
          0.20171798208782113,
          0.28867102181450144,
          -0.012174108474403067,
          0.3746948668912023,
          0.2886606091526854,
          0.2685702640838539,
          0.28782538360414595,
          0.21861603457614937,
          0.3175917953740478,
          0.09362153398594711,
          -0.018103436393702814,
          -0.20130981526726946,
          0.09066947053823142,
          -0.0014198442153912044,
          0.07875816304059818,
          -0.10105060011740856,
          -0.04135107640330949,
          -0.11646163332088302,
          -0.0580369703031206,
          -0.022427989210941985,
          0.16283333968827607,
          0.10066786880590554,
          0.058701137067218905,
          0.0673067266902221,
          0.24454795401087703,
          0.11804538408165936,
          0.3385659763608474,
          0.022753800075196683,
          -0.15689265289751816,
          -0.09020981374072966,
          0.02632475816812276,
          -0.24111133951022884,
          0.1412949935071019,
          -0.1512140336943272,
          0.02864311834267512,
          -0.14432544012788262,
          -0.053121545625471486,
          -0.01997792067782089,
          0.015974979305027788,
          -0.001141017488977321,
          -0.04487673321361899,
          0.1477421373314263,
          -0.007655666857389003,
          -0.21152109183648346,
          -0.16991565038179418,
          0.016379735478795784,
          -0.14284461088388617,
          -0.20317404624835814,
          -0.1549503910279096,
          0.01825770745006555,
          0.07505731985943326,
          0.12338734815719415,
          -0.0032637533537068293,
          -0.007565648816949307,
          -0.20062635461268027,
          -0.066234915998072,
          -0.07250358499166897,
          -0.04546239160433706,
          0.2604309633621499,
          0.1584083172227595,
          -0.031146899861459732,
          0.011117726487551365,
          0.058922287232262976,
          0.12011213682501978,
          0.061966357355646234,
          -0.06134950117715257,
          0.3887580520006705,
          -0.11143352348069185,
          -0.007437046972395064,
          0.06119186136270243,
          0.06230993391233951,
          0.1761676277862906,
          0.2829289131318571,
          0.3423784571892746,
          0.36842153103297204,
          0.37231206866420746,
          0.33827700020434526,
          0.37000875534487276,
          0.25243686884935196,
          -0.02801119601533592,
          0.21263242120170178,
          0.20658594503321323,
          0.2817335672512704,
          0.17619902931670656,
          0.2634608892181634,
          0.5923941386255559,
          0.20072415386865924,
          0.3836062305792696,
          0.0581283990801362,
          0.2714060601573645,
          0.1564734563024088,
          0.2568935034483665,
          0.30984183410191174,
          0.24447497509230365,
          0.2844307436244103,
          0.2695163518396113,
          0.07445123995914783,
          0.17230995735873234,
          0.06661870712894581,
          0.17206121955153256,
          0.3384489003813559,
          0.17624575276283572,
          0.37220896776077456,
          0.27530825245014695,
          0.27118317352408183,
          0.2951596307805445,
          0.26742960601727345,
          0.06616397617272055,
          0.299670968609357,
          -0.09361871134231896,
          -0.013411693334696953,
          0.0006871966284331389,
          0.018649586719487653,
          0.10852894155677133,
          0.04703393592738529,
          0.1682714436021517,
          -0.1720754328155154,
          0.27272225164106123,
          0.18507566954027924,
          0.04076309542032733,
          0.2210568808372764,
          0.2627919544036699,
          0.12740401504490442,
          0.1871759726903109,
          0.6034744256180031,
          0.46227668045696574,
          0.09031051049701297,
          0.322114167788434,
          0.3167777215256565,
          0.23765345990191658,
          0.06841313021742394,
          0.023230154557893297,
          0.12227092756609063,
          0.1892398163309982,
          0.15087718177059492,
          0.2190693782303375,
          0.15120988096294033,
          -0.044916301528712184,
          -0.03494637307736167,
          0.14444405301428134,
          0.09364015412650181,
          -0.09238585069032731,
          -0.01408546282012458,
          -0.5797503980806655,
          -0.42820471705566665,
          -0.443362705157334,
          -0.4922616579454027,
          -0.4847824308112437,
          -0.703307834287633,
          -0.46134409538005394,
          -0.48670901891323554,
          -0.511280265946486,
          -0.31018164069381166,
          -0.4336897271336402,
          -0.6306890513265968,
          -0.5954097963096522,
          -0.13316360454505666,
          0.015643559831845347,
          -0.43206235855307373,
          -0.22384565641726142,
          -0.45630547511151204,
          -0.5218944910537969,
          -0.3547015705933481,
          -0.4392925393396668,
          -0.43551442286537106,
          -0.2768557781564024,
          -0.5178187752394677,
          -0.4002734790934726,
          -0.34996074339664934,
          -0.5525347636189124,
          -0.2220676843220615,
          -0.5101600479611949,
          -0.45142928038793934,
          -0.18373273639965754,
          -0.29738583500019594,
          -0.5311593563108229,
          -0.421901121199917,
          -0.33302063691790323,
          -0.458752716053059,
          -0.27856814298662513,
          -0.5000356780796927,
          -0.5594961313207845,
          -0.5224199143400693,
          -0.417045514281068,
          -0.6154143946937064,
          -0.3530913427327751,
          -0.4226827730472556,
          -0.6901599038661718,
          -0.4456972919345622,
          -0.2875289425108772,
          -0.5898231304865886,
          -0.2966314174823568,
          -0.5423170160737432,
          -0.2446902251785878,
          -0.6210696236127303,
          -0.4311832129360594,
          -0.33628497139724084,
          -0.2201140502719404,
          -0.37756648317867997,
          -0.3822261894119727,
          -0.49098947791256053,
          -0.30666393485440613,
          -0.25257359530680457,
          -0.6501944204267468,
          -0.39836860000857854,
          -0.5063924664980364,
          -0.385592924035778,
          -0.3336941899861457,
          -0.17089038469577994,
          -0.7640667348125352,
          -0.47969115936477535,
          -0.5424946506907866,
          -0.4359847935259567,
          -0.6031886402600476,
          -0.5836411982621275,
          -0.18217354486250503,
          -0.6014053224560066,
          -0.4843680941087916,
          -0.5292967969497505,
          -0.47484206425083375,
          -0.12698019481782966,
          -0.1518442272954894,
          -0.1358588200741412,
          -0.3565255608302574,
          -0.12744987610536967,
          -0.17552519266858474,
          -0.16029632627134696,
          -0.1518019473847129,
          -0.47137368817934694,
          -0.43147916297204864,
          -0.37407098882843876,
          -0.1872180716479181,
          -0.5085843273830808,
          -0.22169225105642087,
          -0.5305728871601036,
          -0.6662752099631173,
          -0.29061805108440414,
          -0.6326670120095268,
          -0.4821991862655435,
          0.05141481513940683,
          -0.42726009411676885,
          -0.3226751751185595,
          -0.4620611909230376,
          0.23210200289524066,
          0.03695303694993648,
          0.26662914876609445,
          0.21425589687254343,
          0.20312977905949267,
          -0.07681865517056613,
          0.11014288656792592,
          0.3633182460111587,
          0.19288522817352452,
          0.8160203438246985,
          0.8320527584844396,
          0.01015965480100996,
          0.23281609979999637,
          0.17744570792467476,
          0.29237384257958143,
          0.20087888063019446,
          0.2560962735329484,
          0.07989685820922489,
          0.03957684287667326,
          0.03651828734687272,
          0.17164358699547627,
          0.23526271084958375,
          0.21062627695002784,
          0.2373123877435535,
          0.4256378665183583,
          -0.05407712794603481,
          0.23065574523531088,
          0.060944021321615076,
          0.2335914245307373,
          -0.015981811522070052,
          0.31345092398150814,
          0.30629699263635407,
          0.2539914664310435,
          0.0433654367125513,
          0.2803290791613321,
          0.662328701636019,
          0.6030379510566178,
          0.7198639110002125,
          0.17176205421408616,
          0.16180245747782415,
          -0.02706065890621157,
          -0.019387151947160314,
          0.09553427227447979,
          0.2792341956647095,
          0.013510880159900115,
          0.2656333200299382,
          0.21853903099956531,
          0.2955128013819864,
          0.2754569860736538,
          0.2814347816549835,
          0.09703360820073127,
          0.284806447640186,
          0.1510534755390461,
          0.19419100820777388,
          0.3234558692675632,
          0.2478313147187125,
          -0.08671083939466902,
          0.28861124565696683,
          0.10197709397909462,
          0.30771827727935847,
          0.18411902099795083,
          -0.0301545632868256,
          0.546158580500305,
          0.23275911095792948,
          0.13648855710780572,
          0.29381701274162536,
          0.136966729594831,
          0.07838585814303604,
          0.07720239761841105,
          -0.07965791328851991,
          0.04508813745930467,
          0.16502889277446398,
          0.76712471051761,
          0.7549237774132082,
          0.7526343606692976,
          0.7809189065371472,
          0.7628941518518189,
          0.7605308798918599,
          0.7869854608774287,
          0.7949238186918872,
          0.04545182807434325,
          -0.009594221887841262,
          0.3104306376313714,
          0.1355931404188369,
          0.6959197187441638,
          0.03438990307935011,
          0.27346978088310153,
          0.207158021304185,
          0.14260295634080525,
          0.005919489263797455,
          -0.03253035544563633,
          0.05645488255967156,
          0.6086868326973246,
          0.12212893052405166,
          0.18018397402678635,
          0.20871115999794113,
          0.09733374503355395,
          0.05908647722886609,
          0.3045635268248944,
          0.658844143098507
         ],
         "yaxis": "y"
        }
       ],
       "layout": {
        "coloraxis": {
         "colorbar": {
          "title": {
           "text": "Cluster"
          }
         },
         "colorscale": [
          [
           0,
           "#0d0887"
          ],
          [
           0.1111111111111111,
           "#46039f"
          ],
          [
           0.2222222222222222,
           "#7201a8"
          ],
          [
           0.3333333333333333,
           "#9c179e"
          ],
          [
           0.4444444444444444,
           "#bd3786"
          ],
          [
           0.5555555555555556,
           "#d8576b"
          ],
          [
           0.6666666666666666,
           "#ed7953"
          ],
          [
           0.7777777777777778,
           "#fb9f3a"
          ],
          [
           0.8888888888888888,
           "#fdca26"
          ],
          [
           1,
           "#f0f921"
          ]
         ]
        },
        "legend": {
         "tracegroupgap": 0
        },
        "margin": {
         "t": 60
        },
        "template": {
         "data": {
          "bar": [
           {
            "error_x": {
             "color": "#2a3f5f"
            },
            "error_y": {
             "color": "#2a3f5f"
            },
            "marker": {
             "line": {
              "color": "#E5ECF6",
              "width": 0.5
             },
             "pattern": {
              "fillmode": "overlay",
              "size": 10,
              "solidity": 0.2
             }
            },
            "type": "bar"
           }
          ],
          "barpolar": [
           {
            "marker": {
             "line": {
              "color": "#E5ECF6",
              "width": 0.5
             },
             "pattern": {
              "fillmode": "overlay",
              "size": 10,
              "solidity": 0.2
             }
            },
            "type": "barpolar"
           }
          ],
          "carpet": [
           {
            "aaxis": {
             "endlinecolor": "#2a3f5f",
             "gridcolor": "white",
             "linecolor": "white",
             "minorgridcolor": "white",
             "startlinecolor": "#2a3f5f"
            },
            "baxis": {
             "endlinecolor": "#2a3f5f",
             "gridcolor": "white",
             "linecolor": "white",
             "minorgridcolor": "white",
             "startlinecolor": "#2a3f5f"
            },
            "type": "carpet"
           }
          ],
          "choropleth": [
           {
            "colorbar": {
             "outlinewidth": 0,
             "ticks": ""
            },
            "type": "choropleth"
           }
          ],
          "contour": [
           {
            "colorbar": {
             "outlinewidth": 0,
             "ticks": ""
            },
            "colorscale": [
             [
              0,
              "#0d0887"
             ],
             [
              0.1111111111111111,
              "#46039f"
             ],
             [
              0.2222222222222222,
              "#7201a8"
             ],
             [
              0.3333333333333333,
              "#9c179e"
             ],
             [
              0.4444444444444444,
              "#bd3786"
             ],
             [
              0.5555555555555556,
              "#d8576b"
             ],
             [
              0.6666666666666666,
              "#ed7953"
             ],
             [
              0.7777777777777778,
              "#fb9f3a"
             ],
             [
              0.8888888888888888,
              "#fdca26"
             ],
             [
              1,
              "#f0f921"
             ]
            ],
            "type": "contour"
           }
          ],
          "contourcarpet": [
           {
            "colorbar": {
             "outlinewidth": 0,
             "ticks": ""
            },
            "type": "contourcarpet"
           }
          ],
          "heatmap": [
           {
            "colorbar": {
             "outlinewidth": 0,
             "ticks": ""
            },
            "colorscale": [
             [
              0,
              "#0d0887"
             ],
             [
              0.1111111111111111,
              "#46039f"
             ],
             [
              0.2222222222222222,
              "#7201a8"
             ],
             [
              0.3333333333333333,
              "#9c179e"
             ],
             [
              0.4444444444444444,
              "#bd3786"
             ],
             [
              0.5555555555555556,
              "#d8576b"
             ],
             [
              0.6666666666666666,
              "#ed7953"
             ],
             [
              0.7777777777777778,
              "#fb9f3a"
             ],
             [
              0.8888888888888888,
              "#fdca26"
             ],
             [
              1,
              "#f0f921"
             ]
            ],
            "type": "heatmap"
           }
          ],
          "heatmapgl": [
           {
            "colorbar": {
             "outlinewidth": 0,
             "ticks": ""
            },
            "colorscale": [
             [
              0,
              "#0d0887"
             ],
             [
              0.1111111111111111,
              "#46039f"
             ],
             [
              0.2222222222222222,
              "#7201a8"
             ],
             [
              0.3333333333333333,
              "#9c179e"
             ],
             [
              0.4444444444444444,
              "#bd3786"
             ],
             [
              0.5555555555555556,
              "#d8576b"
             ],
             [
              0.6666666666666666,
              "#ed7953"
             ],
             [
              0.7777777777777778,
              "#fb9f3a"
             ],
             [
              0.8888888888888888,
              "#fdca26"
             ],
             [
              1,
              "#f0f921"
             ]
            ],
            "type": "heatmapgl"
           }
          ],
          "histogram": [
           {
            "marker": {
             "pattern": {
              "fillmode": "overlay",
              "size": 10,
              "solidity": 0.2
             }
            },
            "type": "histogram"
           }
          ],
          "histogram2d": [
           {
            "colorbar": {
             "outlinewidth": 0,
             "ticks": ""
            },
            "colorscale": [
             [
              0,
              "#0d0887"
             ],
             [
              0.1111111111111111,
              "#46039f"
             ],
             [
              0.2222222222222222,
              "#7201a8"
             ],
             [
              0.3333333333333333,
              "#9c179e"
             ],
             [
              0.4444444444444444,
              "#bd3786"
             ],
             [
              0.5555555555555556,
              "#d8576b"
             ],
             [
              0.6666666666666666,
              "#ed7953"
             ],
             [
              0.7777777777777778,
              "#fb9f3a"
             ],
             [
              0.8888888888888888,
              "#fdca26"
             ],
             [
              1,
              "#f0f921"
             ]
            ],
            "type": "histogram2d"
           }
          ],
          "histogram2dcontour": [
           {
            "colorbar": {
             "outlinewidth": 0,
             "ticks": ""
            },
            "colorscale": [
             [
              0,
              "#0d0887"
             ],
             [
              0.1111111111111111,
              "#46039f"
             ],
             [
              0.2222222222222222,
              "#7201a8"
             ],
             [
              0.3333333333333333,
              "#9c179e"
             ],
             [
              0.4444444444444444,
              "#bd3786"
             ],
             [
              0.5555555555555556,
              "#d8576b"
             ],
             [
              0.6666666666666666,
              "#ed7953"
             ],
             [
              0.7777777777777778,
              "#fb9f3a"
             ],
             [
              0.8888888888888888,
              "#fdca26"
             ],
             [
              1,
              "#f0f921"
             ]
            ],
            "type": "histogram2dcontour"
           }
          ],
          "mesh3d": [
           {
            "colorbar": {
             "outlinewidth": 0,
             "ticks": ""
            },
            "type": "mesh3d"
           }
          ],
          "parcoords": [
           {
            "line": {
             "colorbar": {
              "outlinewidth": 0,
              "ticks": ""
             }
            },
            "type": "parcoords"
           }
          ],
          "pie": [
           {
            "automargin": true,
            "type": "pie"
           }
          ],
          "scatter": [
           {
            "fillpattern": {
             "fillmode": "overlay",
             "size": 10,
             "solidity": 0.2
            },
            "type": "scatter"
           }
          ],
          "scatter3d": [
           {
            "line": {
             "colorbar": {
              "outlinewidth": 0,
              "ticks": ""
             }
            },
            "marker": {
             "colorbar": {
              "outlinewidth": 0,
              "ticks": ""
             }
            },
            "type": "scatter3d"
           }
          ],
          "scattercarpet": [
           {
            "marker": {
             "colorbar": {
              "outlinewidth": 0,
              "ticks": ""
             }
            },
            "type": "scattercarpet"
           }
          ],
          "scattergeo": [
           {
            "marker": {
             "colorbar": {
              "outlinewidth": 0,
              "ticks": ""
             }
            },
            "type": "scattergeo"
           }
          ],
          "scattergl": [
           {
            "marker": {
             "colorbar": {
              "outlinewidth": 0,
              "ticks": ""
             }
            },
            "type": "scattergl"
           }
          ],
          "scattermapbox": [
           {
            "marker": {
             "colorbar": {
              "outlinewidth": 0,
              "ticks": ""
             }
            },
            "type": "scattermapbox"
           }
          ],
          "scatterpolar": [
           {
            "marker": {
             "colorbar": {
              "outlinewidth": 0,
              "ticks": ""
             }
            },
            "type": "scatterpolar"
           }
          ],
          "scatterpolargl": [
           {
            "marker": {
             "colorbar": {
              "outlinewidth": 0,
              "ticks": ""
             }
            },
            "type": "scatterpolargl"
           }
          ],
          "scatterternary": [
           {
            "marker": {
             "colorbar": {
              "outlinewidth": 0,
              "ticks": ""
             }
            },
            "type": "scatterternary"
           }
          ],
          "surface": [
           {
            "colorbar": {
             "outlinewidth": 0,
             "ticks": ""
            },
            "colorscale": [
             [
              0,
              "#0d0887"
             ],
             [
              0.1111111111111111,
              "#46039f"
             ],
             [
              0.2222222222222222,
              "#7201a8"
             ],
             [
              0.3333333333333333,
              "#9c179e"
             ],
             [
              0.4444444444444444,
              "#bd3786"
             ],
             [
              0.5555555555555556,
              "#d8576b"
             ],
             [
              0.6666666666666666,
              "#ed7953"
             ],
             [
              0.7777777777777778,
              "#fb9f3a"
             ],
             [
              0.8888888888888888,
              "#fdca26"
             ],
             [
              1,
              "#f0f921"
             ]
            ],
            "type": "surface"
           }
          ],
          "table": [
           {
            "cells": {
             "fill": {
              "color": "#EBF0F8"
             },
             "line": {
              "color": "white"
             }
            },
            "header": {
             "fill": {
              "color": "#C8D4E3"
             },
             "line": {
              "color": "white"
             }
            },
            "type": "table"
           }
          ]
         },
         "layout": {
          "annotationdefaults": {
           "arrowcolor": "#2a3f5f",
           "arrowhead": 0,
           "arrowwidth": 1
          },
          "autotypenumbers": "strict",
          "coloraxis": {
           "colorbar": {
            "outlinewidth": 0,
            "ticks": ""
           }
          },
          "colorscale": {
           "diverging": [
            [
             0,
             "#8e0152"
            ],
            [
             0.1,
             "#c51b7d"
            ],
            [
             0.2,
             "#de77ae"
            ],
            [
             0.3,
             "#f1b6da"
            ],
            [
             0.4,
             "#fde0ef"
            ],
            [
             0.5,
             "#f7f7f7"
            ],
            [
             0.6,
             "#e6f5d0"
            ],
            [
             0.7,
             "#b8e186"
            ],
            [
             0.8,
             "#7fbc41"
            ],
            [
             0.9,
             "#4d9221"
            ],
            [
             1,
             "#276419"
            ]
           ],
           "sequential": [
            [
             0,
             "#0d0887"
            ],
            [
             0.1111111111111111,
             "#46039f"
            ],
            [
             0.2222222222222222,
             "#7201a8"
            ],
            [
             0.3333333333333333,
             "#9c179e"
            ],
            [
             0.4444444444444444,
             "#bd3786"
            ],
            [
             0.5555555555555556,
             "#d8576b"
            ],
            [
             0.6666666666666666,
             "#ed7953"
            ],
            [
             0.7777777777777778,
             "#fb9f3a"
            ],
            [
             0.8888888888888888,
             "#fdca26"
            ],
            [
             1,
             "#f0f921"
            ]
           ],
           "sequentialminus": [
            [
             0,
             "#0d0887"
            ],
            [
             0.1111111111111111,
             "#46039f"
            ],
            [
             0.2222222222222222,
             "#7201a8"
            ],
            [
             0.3333333333333333,
             "#9c179e"
            ],
            [
             0.4444444444444444,
             "#bd3786"
            ],
            [
             0.5555555555555556,
             "#d8576b"
            ],
            [
             0.6666666666666666,
             "#ed7953"
            ],
            [
             0.7777777777777778,
             "#fb9f3a"
            ],
            [
             0.8888888888888888,
             "#fdca26"
            ],
            [
             1,
             "#f0f921"
            ]
           ]
          },
          "colorway": [
           "#636efa",
           "#EF553B",
           "#00cc96",
           "#ab63fa",
           "#FFA15A",
           "#19d3f3",
           "#FF6692",
           "#B6E880",
           "#FF97FF",
           "#FECB52"
          ],
          "font": {
           "color": "#2a3f5f"
          },
          "geo": {
           "bgcolor": "white",
           "lakecolor": "white",
           "landcolor": "#E5ECF6",
           "showlakes": true,
           "showland": true,
           "subunitcolor": "white"
          },
          "hoverlabel": {
           "align": "left"
          },
          "hovermode": "closest",
          "mapbox": {
           "style": "light"
          },
          "paper_bgcolor": "white",
          "plot_bgcolor": "#E5ECF6",
          "polar": {
           "angularaxis": {
            "gridcolor": "white",
            "linecolor": "white",
            "ticks": ""
           },
           "bgcolor": "#E5ECF6",
           "radialaxis": {
            "gridcolor": "white",
            "linecolor": "white",
            "ticks": ""
           }
          },
          "scene": {
           "xaxis": {
            "backgroundcolor": "#E5ECF6",
            "gridcolor": "white",
            "gridwidth": 2,
            "linecolor": "white",
            "showbackground": true,
            "ticks": "",
            "zerolinecolor": "white"
           },
           "yaxis": {
            "backgroundcolor": "#E5ECF6",
            "gridcolor": "white",
            "gridwidth": 2,
            "linecolor": "white",
            "showbackground": true,
            "ticks": "",
            "zerolinecolor": "white"
           },
           "zaxis": {
            "backgroundcolor": "#E5ECF6",
            "gridcolor": "white",
            "gridwidth": 2,
            "linecolor": "white",
            "showbackground": true,
            "ticks": "",
            "zerolinecolor": "white"
           }
          },
          "shapedefaults": {
           "line": {
            "color": "#2a3f5f"
           }
          },
          "ternary": {
           "aaxis": {
            "gridcolor": "white",
            "linecolor": "white",
            "ticks": ""
           },
           "baxis": {
            "gridcolor": "white",
            "linecolor": "white",
            "ticks": ""
           },
           "bgcolor": "#E5ECF6",
           "caxis": {
            "gridcolor": "white",
            "linecolor": "white",
            "ticks": ""
           }
          },
          "title": {
           "x": 0.05
          },
          "xaxis": {
           "automargin": true,
           "gridcolor": "white",
           "linecolor": "white",
           "ticks": "",
           "title": {
            "standoff": 15
           },
           "zerolinecolor": "white",
           "zerolinewidth": 2
          },
          "yaxis": {
           "automargin": true,
           "gridcolor": "white",
           "linecolor": "white",
           "ticks": "",
           "title": {
            "standoff": 15
           },
           "zerolinecolor": "white",
           "zerolinewidth": 2
          }
         }
        },
        "title": {
         "text": "Clustering (PCA Projection)",
         "x": 0.5
        },
        "xaxis": {
         "anchor": "y",
         "domain": [
          0,
          1
         ],
         "title": {
          "text": "PCA1"
         }
        },
        "yaxis": {
         "anchor": "x",
         "domain": [
          0,
          1
         ],
         "title": {
          "text": "PCA2"
         }
        }
       }
      }
     },
     "metadata": {},
     "output_type": "display_data"
    }
   ],
   "source": [
    "spotify.visualize_clustering(df=dataset_scaled, feature=dataset[['track_name']])"
   ]
  },
  {
   "cell_type": "code",
   "execution_count": 399,
   "metadata": {},
   "outputs": [],
   "source": [
    "### Get a dataframe with last tracks\n",
    "df = spotify.get_recent_tracks(10)"
   ]
  },
  {
   "cell_type": "code",
   "execution_count": 401,
   "metadata": {},
   "outputs": [],
   "source": [
    "### Vectorize data from this dataframe\n",
    "df_vect = spotify.vectorize_recent_tracks(df, n_components=3, played_date=False)"
   ]
  },
  {
   "cell_type": "code",
   "execution_count": 353,
   "metadata": {},
   "outputs": [],
   "source": [
    "df_scaled = spotify.scale_and_weight(df_vect, weighted_features=['popularity', 'release_date', 'album_id', 'track_tags', 'track_artists_id'], weights=[2, 2, 3, 2, 3], n_components=3)"
   ]
  },
  {
   "cell_type": "code",
   "execution_count": 354,
   "metadata": {},
   "outputs": [],
   "source": [
    "clusters = spotify.clustering(df_scaled)\n",
    "df['cluster'] = clusters"
   ]
  },
  {
   "cell_type": "code",
   "execution_count": 355,
   "metadata": {},
   "outputs": [
    {
     "data": {
      "image/png": "[encoded data removed]",
      "text/plain": [
       "<Figure size 640x480 with 1 Axes>"
      ]
     },
     "metadata": {},
     "output_type": "display_data"
    },
    {
     "data": {
      "application/vnd.plotly.v1+json": {
       "config": {
        "plotlyServerURL": "https://plot.ly"
       },
       "data": [
        {
         "customdata": [
          [
           "KEHLANI (REMIX) [feat. Kehlani]"
          ],
          [
           "Charisme"
          ],
          [
           "The London (feat. J. Cole & Travis Scott)"
          ],
          [
           "17 MOOD"
          ],
          [
           "Tsunami"
          ],
          [
           "Tsunami"
          ],
          [
           "Special"
          ],
          [
           "Mâte"
          ],
          [
           "Coco (feat. Tayc)"
          ],
          [
           "Coco (feat. Tayc)"
          ],
          [
           "KEHLANI (REMIX) [feat. Kehlani]"
          ],
          [
           "SANS BOUSSOLE"
          ],
          [
           "Je pense à toi"
          ],
          [
           "Rolls (feat. Lacrim)"
          ],
          [
           "MANON B"
          ],
          [
           "Terminal 2F"
          ],
          [
           "Monaco"
          ],
          [
           "Boucan (feat. Franglish)"
          ],
          [
           "Minimum ça"
          ],
          [
           "CIEL"
          ],
          [
           "SOIS PAS TIMIDE"
          ],
          [
           "SPIDER"
          ],
          [
           "RODEO DRIVE (feat. Hamza)"
          ],
          [
           "17 MOOD"
          ],
          [
           "Toute la Noché"
          ],
          [
           "SANS BOUSSOLE"
          ],
          [
           "Baby (Lil Baby feat. DaBaby)"
          ],
          [
           "17 MOOD"
          ],
          [
           "Pélican"
          ],
          [
           "Encore"
          ],
          [
           "Boulot"
          ],
          [
           "Dans un verre"
          ],
          [
           "PLAISIR NOCIF"
          ],
          [
           "Daytona"
          ],
          [
           "Malus"
          ],
          [
           "Bebeto"
          ],
          [
           "Nouvelle R"
          ],
          [
           "Derbouka"
          ],
          [
           "Tsunami"
          ],
          [
           "GATTI"
          ],
          [
           "French Drill 8 - Macabre"
          ],
          [
           "Pour It Up"
          ],
          [
           "Barceloneta"
          ],
          [
           "Alice"
          ],
          [
           "Climatisé"
          ],
          [
           "Spiderman (Freestyle OKLM)"
          ],
          [
           "Don’t Tell (feat. Headie One)"
          ],
          [
           "DOPE & FLOW"
          ],
          [
           "Mannschaft (feat. Freeze Corleone)"
          ],
          [
           "Wow"
          ],
          [
           "KEHLANI (REMIX) [feat. Kehlani]"
          ],
          [
           "Charisme"
          ],
          [
           "The London (feat. J. Cole & Travis Scott)"
          ],
          [
           "17 MOOD"
          ],
          [
           "Tsunami"
          ],
          [
           "Tsunami"
          ],
          [
           "Special"
          ],
          [
           "Mâte"
          ],
          [
           "Coco (feat. Tayc)"
          ],
          [
           "Coco (feat. Tayc)"
          ],
          [
           "KEHLANI (REMIX) [feat. Kehlani]"
          ],
          [
           "SANS BOUSSOLE"
          ],
          [
           "Je pense à toi"
          ],
          [
           "Rolls (feat. Lacrim)"
          ],
          [
           "MANON B"
          ],
          [
           "Terminal 2F"
          ],
          [
           "Monaco"
          ],
          [
           "Boucan (feat. Franglish)"
          ],
          [
           "Minimum ça"
          ],
          [
           "CIEL"
          ],
          [
           "SOIS PAS TIMIDE"
          ],
          [
           "SPIDER"
          ],
          [
           "RODEO DRIVE (feat. Hamza)"
          ],
          [
           "17 MOOD"
          ],
          [
           "Toute la Noché"
          ],
          [
           "SANS BOUSSOLE"
          ],
          [
           "Baby (Lil Baby feat. DaBaby)"
          ],
          [
           "17 MOOD"
          ],
          [
           "Pélican"
          ],
          [
           "Encore"
          ],
          [
           "Boulot"
          ],
          [
           "Dans un verre"
          ],
          [
           "PLAISIR NOCIF"
          ],
          [
           "Daytona"
          ],
          [
           "Malus"
          ],
          [
           "Bebeto"
          ],
          [
           "Nouvelle R"
          ],
          [
           "Derbouka"
          ],
          [
           "Tsunami"
          ],
          [
           "GATTI"
          ],
          [
           "French Drill 8 - Macabre"
          ],
          [
           "Pour It Up"
          ],
          [
           "Barceloneta"
          ],
          [
           "Alice"
          ],
          [
           "Climatisé"
          ],
          [
           "Spiderman (Freestyle OKLM)"
          ],
          [
           "Don’t Tell (feat. Headie One)"
          ],
          [
           "DOPE & FLOW"
          ],
          [
           "Mannschaft (feat. Freeze Corleone)"
          ],
          [
           "KEHLANI (REMIX) [feat. Kehlani]"
          ],
          [
           "Charisme"
          ],
          [
           "The London (feat. J. Cole & Travis Scott)"
          ],
          [
           "17 MOOD"
          ],
          [
           "Tsunami"
          ],
          [
           "Tsunami"
          ],
          [
           "Special"
          ],
          [
           "Mâte"
          ],
          [
           "Coco (feat. Tayc)"
          ],
          [
           "Coco (feat. Tayc)"
          ],
          [
           "KEHLANI (REMIX) [feat. Kehlani]"
          ],
          [
           "SANS BOUSSOLE"
          ],
          [
           "Je pense à toi"
          ],
          [
           "Rolls (feat. Lacrim)"
          ],
          [
           "MANON B"
          ],
          [
           "Terminal 2F"
          ],
          [
           "Monaco"
          ],
          [
           "Boucan (feat. Franglish)"
          ],
          [
           "Minimum ça"
          ],
          [
           "CIEL"
          ],
          [
           "SOIS PAS TIMIDE"
          ],
          [
           "SPIDER"
          ],
          [
           "RODEO DRIVE (feat. Hamza)"
          ],
          [
           "17 MOOD"
          ],
          [
           "Toute la Noché"
          ],
          [
           "SANS BOUSSOLE"
          ],
          [
           "Baby (Lil Baby feat. DaBaby)"
          ],
          [
           "17 MOOD"
          ],
          [
           "Pélican"
          ],
          [
           "Encore"
          ],
          [
           "Boulot"
          ],
          [
           "Dans un verre"
          ],
          [
           "PLAISIR NOCIF"
          ],
          [
           "Daytona"
          ],
          [
           "Malus"
          ],
          [
           "Bebeto"
          ],
          [
           "Nouvelle R"
          ],
          [
           "Derbouka"
          ],
          [
           "Tsunami"
          ],
          [
           "GATTI"
          ],
          [
           "French Drill 8 - Macabre"
          ],
          [
           "Pour It Up"
          ],
          [
           "Barceloneta"
          ],
          [
           "Alice"
          ],
          [
           "Climatisé"
          ],
          [
           "Spiderman (Freestyle OKLM)"
          ],
          [
           "Don’t Tell (feat. Headie One)"
          ],
          [
           "DOPE & FLOW"
          ],
          [
           "KEHLANI (REMIX) [feat. Kehlani]"
          ],
          [
           "Charisme"
          ],
          [
           "The London (feat. J. Cole & Travis Scott)"
          ],
          [
           "17 MOOD"
          ],
          [
           "Tsunami"
          ],
          [
           "Tsunami"
          ],
          [
           "Special"
          ],
          [
           "Mâte"
          ],
          [
           "Coco (feat. Tayc)"
          ],
          [
           "Coco (feat. Tayc)"
          ],
          [
           "KEHLANI (REMIX) [feat. Kehlani]"
          ],
          [
           "SANS BOUSSOLE"
          ],
          [
           "Je pense à toi"
          ],
          [
           "Rolls (feat. Lacrim)"
          ],
          [
           "MANON B"
          ],
          [
           "Terminal 2F"
          ],
          [
           "Monaco"
          ],
          [
           "Boucan (feat. Franglish)"
          ],
          [
           "Minimum ça"
          ],
          [
           "CIEL"
          ],
          [
           "SOIS PAS TIMIDE"
          ],
          [
           "SPIDER"
          ],
          [
           "RODEO DRIVE (feat. Hamza)"
          ],
          [
           "17 MOOD"
          ],
          [
           "Toute la Noché"
          ],
          [
           "SANS BOUSSOLE"
          ],
          [
           "Baby (Lil Baby feat. DaBaby)"
          ],
          [
           "17 MOOD"
          ],
          [
           "Pélican"
          ],
          [
           "Encore"
          ],
          [
           "Boulot"
          ],
          [
           "Dans un verre"
          ],
          [
           "PLAISIR NOCIF"
          ],
          [
           "Daytona"
          ],
          [
           "Malus"
          ],
          [
           "Bebeto"
          ],
          [
           "Nouvelle R"
          ],
          [
           "Derbouka"
          ],
          [
           "Tsunami"
          ],
          [
           "GATTI"
          ],
          [
           "French Drill 8 - Macabre"
          ],
          [
           "Pour It Up"
          ],
          [
           "Barceloneta"
          ],
          [
           "Alice"
          ],
          [
           "Climatisé"
          ],
          [
           "Spiderman (Freestyle OKLM)"
          ],
          [
           "Don’t Tell (feat. Headie One)"
          ],
          [
           "KEHLANI (REMIX) [feat. Kehlani]"
          ],
          [
           "Charisme"
          ],
          [
           "The London (feat. J. Cole & Travis Scott)"
          ],
          [
           "17 MOOD"
          ],
          [
           "Tsunami"
          ],
          [
           "Tsunami"
          ],
          [
           "Special"
          ],
          [
           "Mâte"
          ],
          [
           "Coco (feat. Tayc)"
          ],
          [
           "Coco (feat. Tayc)"
          ],
          [
           "KEHLANI (REMIX) [feat. Kehlani]"
          ],
          [
           "SANS BOUSSOLE"
          ],
          [
           "Je pense à toi"
          ],
          [
           "Rolls (feat. Lacrim)"
          ],
          [
           "MANON B"
          ],
          [
           "Terminal 2F"
          ],
          [
           "Monaco"
          ],
          [
           "Boucan (feat. Franglish)"
          ],
          [
           "Minimum ça"
          ],
          [
           "CIEL"
          ],
          [
           "SOIS PAS TIMIDE"
          ],
          [
           "SPIDER"
          ],
          [
           "RODEO DRIVE (feat. Hamza)"
          ],
          [
           "17 MOOD"
          ],
          [
           "Toute la Noché"
          ],
          [
           "SANS BOUSSOLE"
          ],
          [
           "Baby (Lil Baby feat. DaBaby)"
          ],
          [
           "17 MOOD"
          ],
          [
           "Pélican"
          ],
          [
           "Encore"
          ],
          [
           "Boulot"
          ],
          [
           "Dans un verre"
          ],
          [
           "PLAISIR NOCIF"
          ],
          [
           "Daytona"
          ],
          [
           "Malus"
          ],
          [
           "Bebeto"
          ],
          [
           "Nouvelle R"
          ],
          [
           "Derbouka"
          ],
          [
           "Tsunami"
          ],
          [
           "GATTI"
          ],
          [
           "French Drill 8 - Macabre"
          ],
          [
           "Pour It Up"
          ],
          [
           "Barceloneta"
          ],
          [
           "Alice"
          ],
          [
           "Climatisé"
          ],
          [
           "Spiderman (Freestyle OKLM)"
          ],
          [
           "KEHLANI (REMIX) [feat. Kehlani]"
          ],
          [
           "Charisme"
          ],
          [
           "The London (feat. J. Cole & Travis Scott)"
          ],
          [
           "17 MOOD"
          ],
          [
           "Tsunami"
          ],
          [
           "Tsunami"
          ],
          [
           "Special"
          ],
          [
           "Mâte"
          ],
          [
           "Coco (feat. Tayc)"
          ],
          [
           "Coco (feat. Tayc)"
          ],
          [
           "KEHLANI (REMIX) [feat. Kehlani]"
          ],
          [
           "SANS BOUSSOLE"
          ],
          [
           "Je pense à toi"
          ],
          [
           "Rolls (feat. Lacrim)"
          ],
          [
           "MANON B"
          ],
          [
           "Terminal 2F"
          ],
          [
           "Monaco"
          ],
          [
           "Boucan (feat. Franglish)"
          ],
          [
           "Minimum ça"
          ],
          [
           "CIEL"
          ],
          [
           "SOIS PAS TIMIDE"
          ],
          [
           "SPIDER"
          ],
          [
           "RODEO DRIVE (feat. Hamza)"
          ],
          [
           "17 MOOD"
          ],
          [
           "Toute la Noché"
          ],
          [
           "SANS BOUSSOLE"
          ],
          [
           "Baby (Lil Baby feat. DaBaby)"
          ],
          [
           "17 MOOD"
          ],
          [
           "Pélican"
          ],
          [
           "Encore"
          ],
          [
           "Boulot"
          ],
          [
           "Dans un verre"
          ],
          [
           "PLAISIR NOCIF"
          ],
          [
           "Daytona"
          ],
          [
           "Malus"
          ],
          [
           "Bebeto"
          ],
          [
           "Nouvelle R"
          ],
          [
           "Derbouka"
          ],
          [
           "Tsunami"
          ],
          [
           "GATTI"
          ],
          [
           "French Drill 8 - Macabre"
          ],
          [
           "Pour It Up"
          ],
          [
           "Barceloneta"
          ],
          [
           "Alice"
          ],
          [
           "Climatisé"
          ],
          [
           "KEHLANI (REMIX) [feat. Kehlani]"
          ],
          [
           "Charisme"
          ],
          [
           "The London (feat. J. Cole & Travis Scott)"
          ],
          [
           "17 MOOD"
          ],
          [
           "Tsunami"
          ],
          [
           "Tsunami"
          ],
          [
           "Special"
          ],
          [
           "Mâte"
          ],
          [
           "Coco (feat. Tayc)"
          ],
          [
           "Coco (feat. Tayc)"
          ],
          [
           "KEHLANI (REMIX) [feat. Kehlani]"
          ],
          [
           "SANS BOUSSOLE"
          ],
          [
           "Je pense à toi"
          ],
          [
           "Rolls (feat. Lacrim)"
          ],
          [
           "MANON B"
          ],
          [
           "Terminal 2F"
          ],
          [
           "Monaco"
          ],
          [
           "Boucan (feat. Franglish)"
          ],
          [
           "Minimum ça"
          ],
          [
           "CIEL"
          ],
          [
           "SOIS PAS TIMIDE"
          ],
          [
           "SPIDER"
          ],
          [
           "RODEO DRIVE (feat. Hamza)"
          ],
          [
           "17 MOOD"
          ],
          [
           "Toute la Noché"
          ],
          [
           "SANS BOUSSOLE"
          ],
          [
           "Baby (Lil Baby feat. DaBaby)"
          ],
          [
           "17 MOOD"
          ],
          [
           "Pélican"
          ],
          [
           "Encore"
          ],
          [
           "Boulot"
          ],
          [
           "Dans un verre"
          ],
          [
           "PLAISIR NOCIF"
          ],
          [
           "Daytona"
          ],
          [
           "Malus"
          ],
          [
           "Bebeto"
          ],
          [
           "Nouvelle R"
          ],
          [
           "Derbouka"
          ],
          [
           "Tsunami"
          ],
          [
           "GATTI"
          ],
          [
           "French Drill 8 - Macabre"
          ],
          [
           "Pour It Up"
          ],
          [
           "Barceloneta"
          ],
          [
           "Alice"
          ],
          [
           "KEHLANI (REMIX) [feat. Kehlani]"
          ],
          [
           "Charisme"
          ],
          [
           "The London (feat. J. Cole & Travis Scott)"
          ],
          [
           "17 MOOD"
          ],
          [
           "Tsunami"
          ],
          [
           "Tsunami"
          ],
          [
           "Special"
          ],
          [
           "Mâte"
          ],
          [
           "Coco (feat. Tayc)"
          ],
          [
           "Coco (feat. Tayc)"
          ],
          [
           "KEHLANI (REMIX) [feat. Kehlani]"
          ],
          [
           "SANS BOUSSOLE"
          ],
          [
           "Je pense à toi"
          ],
          [
           "Rolls (feat. Lacrim)"
          ],
          [
           "MANON B"
          ],
          [
           "Terminal 2F"
          ],
          [
           "Monaco"
          ],
          [
           "Boucan (feat. Franglish)"
          ],
          [
           "Minimum ça"
          ],
          [
           "CIEL"
          ],
          [
           "SOIS PAS TIMIDE"
          ],
          [
           "SPIDER"
          ],
          [
           "RODEO DRIVE (feat. Hamza)"
          ],
          [
           "17 MOOD"
          ],
          [
           "Toute la Noché"
          ],
          [
           "SANS BOUSSOLE"
          ],
          [
           "Baby (Lil Baby feat. DaBaby)"
          ],
          [
           "17 MOOD"
          ],
          [
           "Pélican"
          ],
          [
           "Encore"
          ],
          [
           "Boulot"
          ],
          [
           "Dans un verre"
          ],
          [
           "PLAISIR NOCIF"
          ],
          [
           "Daytona"
          ],
          [
           "Malus"
          ],
          [
           "Bebeto"
          ],
          [
           "Nouvelle R"
          ],
          [
           "Derbouka"
          ],
          [
           "Tsunami"
          ],
          [
           "GATTI"
          ],
          [
           "French Drill 8 - Macabre"
          ],
          [
           "Pour It Up"
          ],
          [
           "Barceloneta"
          ],
          [
           "KEHLANI (REMIX) [feat. Kehlani]"
          ],
          [
           "Charisme"
          ],
          [
           "The London (feat. J. Cole & Travis Scott)"
          ],
          [
           "17 MOOD"
          ],
          [
           "Tsunami"
          ],
          [
           "Tsunami"
          ],
          [
           "Special"
          ],
          [
           "Mâte"
          ],
          [
           "Coco (feat. Tayc)"
          ],
          [
           "Coco (feat. Tayc)"
          ],
          [
           "KEHLANI (REMIX) [feat. Kehlani]"
          ],
          [
           "SANS BOUSSOLE"
          ],
          [
           "Je pense à toi"
          ],
          [
           "Rolls (feat. Lacrim)"
          ],
          [
           "MANON B"
          ],
          [
           "Terminal 2F"
          ],
          [
           "Monaco"
          ],
          [
           "Boucan (feat. Franglish)"
          ],
          [
           "Minimum ça"
          ],
          [
           "CIEL"
          ],
          [
           "SOIS PAS TIMIDE"
          ],
          [
           "SPIDER"
          ],
          [
           "RODEO DRIVE (feat. Hamza)"
          ],
          [
           "17 MOOD"
          ],
          [
           "Toute la Noché"
          ],
          [
           "SANS BOUSSOLE"
          ],
          [
           "Baby (Lil Baby feat. DaBaby)"
          ],
          [
           "17 MOOD"
          ],
          [
           "Pélican"
          ],
          [
           "Encore"
          ],
          [
           "Boulot"
          ],
          [
           "Dans un verre"
          ],
          [
           "PLAISIR NOCIF"
          ],
          [
           "Daytona"
          ],
          [
           "Malus"
          ],
          [
           "Bebeto"
          ],
          [
           "Nouvelle R"
          ],
          [
           "Derbouka"
          ],
          [
           "Tsunami"
          ],
          [
           "GATTI"
          ],
          [
           "French Drill 8 - Macabre"
          ],
          [
           "Pour It Up"
          ],
          [
           "KEHLANI (REMIX) [feat. Kehlani]"
          ],
          [
           "Charisme"
          ],
          [
           "The London (feat. J. Cole & Travis Scott)"
          ],
          [
           "17 MOOD"
          ],
          [
           "Tsunami"
          ],
          [
           "Tsunami"
          ],
          [
           "Special"
          ],
          [
           "Mâte"
          ],
          [
           "Coco (feat. Tayc)"
          ],
          [
           "Coco (feat. Tayc)"
          ],
          [
           "KEHLANI (REMIX) [feat. Kehlani]"
          ],
          [
           "SANS BOUSSOLE"
          ],
          [
           "Je pense à toi"
          ],
          [
           "Rolls (feat. Lacrim)"
          ],
          [
           "MANON B"
          ],
          [
           "Terminal 2F"
          ],
          [
           "Monaco"
          ],
          [
           "Boucan (feat. Franglish)"
          ],
          [
           "Minimum ça"
          ],
          [
           "CIEL"
          ],
          [
           "SOIS PAS TIMIDE"
          ],
          [
           "SPIDER"
          ],
          [
           "RODEO DRIVE (feat. Hamza)"
          ],
          [
           "17 MOOD"
          ],
          [
           "Toute la Noché"
          ],
          [
           "SANS BOUSSOLE"
          ],
          [
           "Baby (Lil Baby feat. DaBaby)"
          ],
          [
           "17 MOOD"
          ],
          [
           "Pélican"
          ],
          [
           "Encore"
          ],
          [
           "Boulot"
          ],
          [
           "Dans un verre"
          ],
          [
           "PLAISIR NOCIF"
          ],
          [
           "Daytona"
          ],
          [
           "Malus"
          ],
          [
           "Bebeto"
          ],
          [
           "Nouvelle R"
          ],
          [
           "Derbouka"
          ],
          [
           "Tsunami"
          ],
          [
           "GATTI"
          ],
          [
           "French Drill 8 - Macabre"
          ],
          [
           "KEHLANI (REMIX) [feat. Kehlani]"
          ],
          [
           "Charisme"
          ],
          [
           "The London (feat. J. Cole & Travis Scott)"
          ],
          [
           "17 MOOD"
          ],
          [
           "Tsunami"
          ],
          [
           "Tsunami"
          ],
          [
           "Special"
          ],
          [
           "Mâte"
          ],
          [
           "Coco (feat. Tayc)"
          ],
          [
           "Coco (feat. Tayc)"
          ],
          [
           "KEHLANI (REMIX) [feat. Kehlani]"
          ],
          [
           "SANS BOUSSOLE"
          ],
          [
           "Je pense à toi"
          ],
          [
           "Rolls (feat. Lacrim)"
          ],
          [
           "MANON B"
          ],
          [
           "Terminal 2F"
          ],
          [
           "Monaco"
          ],
          [
           "Boucan (feat. Franglish)"
          ],
          [
           "Minimum ça"
          ],
          [
           "CIEL"
          ],
          [
           "SOIS PAS TIMIDE"
          ],
          [
           "SPIDER"
          ],
          [
           "RODEO DRIVE (feat. Hamza)"
          ],
          [
           "17 MOOD"
          ],
          [
           "Toute la Noché"
          ],
          [
           "SANS BOUSSOLE"
          ],
          [
           "Baby (Lil Baby feat. DaBaby)"
          ],
          [
           "17 MOOD"
          ],
          [
           "Pélican"
          ],
          [
           "Encore"
          ],
          [
           "Boulot"
          ],
          [
           "Dans un verre"
          ],
          [
           "PLAISIR NOCIF"
          ],
          [
           "Daytona"
          ],
          [
           "Malus"
          ],
          [
           "Bebeto"
          ],
          [
           "Nouvelle R"
          ],
          [
           "Derbouka"
          ],
          [
           "Tsunami"
          ],
          [
           "GATTI"
          ],
          [
           "KEHLANI (REMIX) [feat. Kehlani]"
          ],
          [
           "Charisme"
          ],
          [
           "The London (feat. J. Cole & Travis Scott)"
          ],
          [
           "17 MOOD"
          ],
          [
           "Tsunami"
          ],
          [
           "Tsunami"
          ],
          [
           "Special"
          ],
          [
           "Mâte"
          ],
          [
           "Coco (feat. Tayc)"
          ],
          [
           "Coco (feat. Tayc)"
          ],
          [
           "KEHLANI (REMIX) [feat. Kehlani]"
          ],
          [
           "SANS BOUSSOLE"
          ],
          [
           "Je pense à toi"
          ],
          [
           "Rolls (feat. Lacrim)"
          ],
          [
           "MANON B"
          ],
          [
           "Terminal 2F"
          ],
          [
           "Monaco"
          ],
          [
           "Boucan (feat. Franglish)"
          ],
          [
           "Minimum ça"
          ],
          [
           "CIEL"
          ],
          [
           "SOIS PAS TIMIDE"
          ],
          [
           "SPIDER"
          ],
          [
           "RODEO DRIVE (feat. Hamza)"
          ],
          [
           "17 MOOD"
          ],
          [
           "Toute la Noché"
          ],
          [
           "SANS BOUSSOLE"
          ],
          [
           "Baby (Lil Baby feat. DaBaby)"
          ],
          [
           "17 MOOD"
          ],
          [
           "Pélican"
          ],
          [
           "Encore"
          ],
          [
           "Boulot"
          ],
          [
           "Dans un verre"
          ],
          [
           "PLAISIR NOCIF"
          ],
          [
           "Daytona"
          ],
          [
           "Malus"
          ],
          [
           "Bebeto"
          ],
          [
           "Nouvelle R"
          ],
          [
           "Derbouka"
          ],
          [
           "Tsunami"
          ],
          [
           "KEHLANI (REMIX) [feat. Kehlani]"
          ],
          [
           "Charisme"
          ],
          [
           "The London (feat. J. Cole & Travis Scott)"
          ],
          [
           "17 MOOD"
          ],
          [
           "Tsunami"
          ],
          [
           "Tsunami"
          ],
          [
           "Special"
          ],
          [
           "Mâte"
          ],
          [
           "Coco (feat. Tayc)"
          ],
          [
           "Coco (feat. Tayc)"
          ],
          [
           "KEHLANI (REMIX) [feat. Kehlani]"
          ],
          [
           "SANS BOUSSOLE"
          ],
          [
           "Je pense à toi"
          ],
          [
           "Rolls (feat. Lacrim)"
          ],
          [
           "MANON B"
          ],
          [
           "Terminal 2F"
          ],
          [
           "Monaco"
          ],
          [
           "Boucan (feat. Franglish)"
          ],
          [
           "Minimum ça"
          ],
          [
           "CIEL"
          ],
          [
           "SOIS PAS TIMIDE"
          ],
          [
           "SPIDER"
          ],
          [
           "RODEO DRIVE (feat. Hamza)"
          ],
          [
           "17 MOOD"
          ],
          [
           "Toute la Noché"
          ],
          [
           "SANS BOUSSOLE"
          ],
          [
           "Baby (Lil Baby feat. DaBaby)"
          ],
          [
           "17 MOOD"
          ],
          [
           "Pélican"
          ],
          [
           "Encore"
          ],
          [
           "Boulot"
          ],
          [
           "Dans un verre"
          ],
          [
           "PLAISIR NOCIF"
          ],
          [
           "Daytona"
          ],
          [
           "Malus"
          ],
          [
           "Bebeto"
          ],
          [
           "Nouvelle R"
          ],
          [
           "Derbouka"
          ],
          [
           "KEHLANI (REMIX) [feat. Kehlani]"
          ],
          [
           "Charisme"
          ],
          [
           "The London (feat. J. Cole & Travis Scott)"
          ],
          [
           "17 MOOD"
          ],
          [
           "Tsunami"
          ],
          [
           "Tsunami"
          ],
          [
           "Special"
          ],
          [
           "Mâte"
          ],
          [
           "Coco (feat. Tayc)"
          ],
          [
           "Coco (feat. Tayc)"
          ],
          [
           "KEHLANI (REMIX) [feat. Kehlani]"
          ],
          [
           "SANS BOUSSOLE"
          ],
          [
           "Je pense à toi"
          ],
          [
           "Rolls (feat. Lacrim)"
          ],
          [
           "MANON B"
          ],
          [
           "Terminal 2F"
          ],
          [
           "Monaco"
          ],
          [
           "Boucan (feat. Franglish)"
          ],
          [
           "Minimum ça"
          ],
          [
           "CIEL"
          ],
          [
           "SOIS PAS TIMIDE"
          ],
          [
           "SPIDER"
          ],
          [
           "RODEO DRIVE (feat. Hamza)"
          ],
          [
           "17 MOOD"
          ],
          [
           "Toute la Noché"
          ],
          [
           "SANS BOUSSOLE"
          ],
          [
           "Baby (Lil Baby feat. DaBaby)"
          ],
          [
           "17 MOOD"
          ],
          [
           "Pélican"
          ],
          [
           "Encore"
          ],
          [
           "Boulot"
          ],
          [
           "Dans un verre"
          ],
          [
           "PLAISIR NOCIF"
          ],
          [
           "Daytona"
          ],
          [
           "Malus"
          ],
          [
           "Bebeto"
          ],
          [
           "Nouvelle R"
          ],
          [
           "KEHLANI (REMIX) [feat. Kehlani]"
          ],
          [
           "Charisme"
          ],
          [
           "The London (feat. J. Cole & Travis Scott)"
          ],
          [
           "17 MOOD"
          ],
          [
           "Tsunami"
          ],
          [
           "Tsunami"
          ],
          [
           "Special"
          ],
          [
           "Mâte"
          ],
          [
           "Coco (feat. Tayc)"
          ],
          [
           "Coco (feat. Tayc)"
          ],
          [
           "KEHLANI (REMIX) [feat. Kehlani]"
          ],
          [
           "SANS BOUSSOLE"
          ],
          [
           "Je pense à toi"
          ],
          [
           "Rolls (feat. Lacrim)"
          ],
          [
           "MANON B"
          ],
          [
           "Terminal 2F"
          ],
          [
           "Monaco"
          ],
          [
           "Boucan (feat. Franglish)"
          ],
          [
           "Minimum ça"
          ],
          [
           "CIEL"
          ],
          [
           "SOIS PAS TIMIDE"
          ],
          [
           "SPIDER"
          ],
          [
           "RODEO DRIVE (feat. Hamza)"
          ],
          [
           "17 MOOD"
          ],
          [
           "Toute la Noché"
          ],
          [
           "SANS BOUSSOLE"
          ],
          [
           "Baby (Lil Baby feat. DaBaby)"
          ],
          [
           "17 MOOD"
          ],
          [
           "Pélican"
          ],
          [
           "Encore"
          ],
          [
           "Boulot"
          ],
          [
           "Dans un verre"
          ],
          [
           "PLAISIR NOCIF"
          ],
          [
           "Daytona"
          ],
          [
           "Malus"
          ],
          [
           "Bebeto"
          ],
          [
           "KEHLANI (REMIX) [feat. Kehlani]"
          ],
          [
           "Charisme"
          ],
          [
           "The London (feat. J. Cole & Travis Scott)"
          ],
          [
           "17 MOOD"
          ],
          [
           "Tsunami"
          ],
          [
           "Tsunami"
          ],
          [
           "Special"
          ],
          [
           "Mâte"
          ],
          [
           "Coco (feat. Tayc)"
          ],
          [
           "Coco (feat. Tayc)"
          ],
          [
           "KEHLANI (REMIX) [feat. Kehlani]"
          ],
          [
           "SANS BOUSSOLE"
          ],
          [
           "Je pense à toi"
          ],
          [
           "Rolls (feat. Lacrim)"
          ],
          [
           "MANON B"
          ],
          [
           "Terminal 2F"
          ],
          [
           "Monaco"
          ],
          [
           "Boucan (feat. Franglish)"
          ],
          [
           "Minimum ça"
          ],
          [
           "CIEL"
          ],
          [
           "SOIS PAS TIMIDE"
          ],
          [
           "SPIDER"
          ],
          [
           "RODEO DRIVE (feat. Hamza)"
          ],
          [
           "17 MOOD"
          ],
          [
           "Toute la Noché"
          ],
          [
           "SANS BOUSSOLE"
          ],
          [
           "Baby (Lil Baby feat. DaBaby)"
          ],
          [
           "17 MOOD"
          ],
          [
           "Pélican"
          ],
          [
           "Encore"
          ],
          [
           "Boulot"
          ],
          [
           "Dans un verre"
          ],
          [
           "PLAISIR NOCIF"
          ],
          [
           "Daytona"
          ],
          [
           "Malus"
          ],
          [
           "KEHLANI (REMIX) [feat. Kehlani]"
          ],
          [
           "Charisme"
          ],
          [
           "The London (feat. J. Cole & Travis Scott)"
          ],
          [
           "17 MOOD"
          ],
          [
           "Tsunami"
          ],
          [
           "Tsunami"
          ],
          [
           "Special"
          ],
          [
           "Mâte"
          ],
          [
           "Coco (feat. Tayc)"
          ],
          [
           "Coco (feat. Tayc)"
          ],
          [
           "KEHLANI (REMIX) [feat. Kehlani]"
          ],
          [
           "SANS BOUSSOLE"
          ],
          [
           "Je pense à toi"
          ],
          [
           "Rolls (feat. Lacrim)"
          ],
          [
           "MANON B"
          ],
          [
           "Terminal 2F"
          ],
          [
           "Monaco"
          ],
          [
           "Boucan (feat. Franglish)"
          ],
          [
           "Minimum ça"
          ],
          [
           "CIEL"
          ],
          [
           "SOIS PAS TIMIDE"
          ],
          [
           "SPIDER"
          ],
          [
           "RODEO DRIVE (feat. Hamza)"
          ],
          [
           "17 MOOD"
          ],
          [
           "Toute la Noché"
          ],
          [
           "SANS BOUSSOLE"
          ],
          [
           "Baby (Lil Baby feat. DaBaby)"
          ],
          [
           "17 MOOD"
          ],
          [
           "Pélican"
          ],
          [
           "Encore"
          ],
          [
           "Boulot"
          ],
          [
           "Dans un verre"
          ],
          [
           "PLAISIR NOCIF"
          ],
          [
           "Daytona"
          ],
          [
           "KEHLANI (REMIX) [feat. Kehlani]"
          ],
          [
           "Charisme"
          ],
          [
           "The London (feat. J. Cole & Travis Scott)"
          ],
          [
           "17 MOOD"
          ],
          [
           "Tsunami"
          ],
          [
           "Tsunami"
          ],
          [
           "Special"
          ],
          [
           "Mâte"
          ],
          [
           "Coco (feat. Tayc)"
          ],
          [
           "Coco (feat. Tayc)"
          ],
          [
           "KEHLANI (REMIX) [feat. Kehlani]"
          ],
          [
           "SANS BOUSSOLE"
          ],
          [
           "Je pense à toi"
          ],
          [
           "Rolls (feat. Lacrim)"
          ],
          [
           "MANON B"
          ],
          [
           "Terminal 2F"
          ],
          [
           "Monaco"
          ],
          [
           "Boucan (feat. Franglish)"
          ],
          [
           "Minimum ça"
          ],
          [
           "CIEL"
          ],
          [
           "SOIS PAS TIMIDE"
          ],
          [
           "SPIDER"
          ],
          [
           "RODEO DRIVE (feat. Hamza)"
          ],
          [
           "17 MOOD"
          ],
          [
           "Toute la Noché"
          ],
          [
           "SANS BOUSSOLE"
          ],
          [
           "Baby (Lil Baby feat. DaBaby)"
          ],
          [
           "17 MOOD"
          ],
          [
           "Pélican"
          ],
          [
           "Encore"
          ],
          [
           "Boulot"
          ],
          [
           "Dans un verre"
          ],
          [
           "PLAISIR NOCIF"
          ],
          [
           "KEHLANI (REMIX) [feat. Kehlani]"
          ],
          [
           "Charisme"
          ],
          [
           "The London (feat. J. Cole & Travis Scott)"
          ],
          [
           "17 MOOD"
          ],
          [
           "Tsunami"
          ],
          [
           "Tsunami"
          ],
          [
           "Special"
          ],
          [
           "Mâte"
          ],
          [
           "Coco (feat. Tayc)"
          ],
          [
           "Coco (feat. Tayc)"
          ],
          [
           "KEHLANI (REMIX) [feat. Kehlani]"
          ],
          [
           "SANS BOUSSOLE"
          ],
          [
           "Je pense à toi"
          ],
          [
           "Rolls (feat. Lacrim)"
          ],
          [
           "MANON B"
          ],
          [
           "Terminal 2F"
          ],
          [
           "Monaco"
          ],
          [
           "Boucan (feat. Franglish)"
          ],
          [
           "Minimum ça"
          ],
          [
           "CIEL"
          ],
          [
           "SOIS PAS TIMIDE"
          ],
          [
           "SPIDER"
          ],
          [
           "RODEO DRIVE (feat. Hamza)"
          ],
          [
           "17 MOOD"
          ],
          [
           "Toute la Noché"
          ],
          [
           "SANS BOUSSOLE"
          ],
          [
           "Baby (Lil Baby feat. DaBaby)"
          ],
          [
           "17 MOOD"
          ],
          [
           "Pélican"
          ],
          [
           "Encore"
          ],
          [
           "Boulot"
          ],
          [
           "Dans un verre"
          ],
          [
           "KEHLANI (REMIX) [feat. Kehlani]"
          ],
          [
           "Charisme"
          ],
          [
           "The London (feat. J. Cole & Travis Scott)"
          ],
          [
           "17 MOOD"
          ],
          [
           "Tsunami"
          ],
          [
           "Tsunami"
          ],
          [
           "Special"
          ],
          [
           "Mâte"
          ],
          [
           "Coco (feat. Tayc)"
          ],
          [
           "Coco (feat. Tayc)"
          ],
          [
           "KEHLANI (REMIX) [feat. Kehlani]"
          ],
          [
           "SANS BOUSSOLE"
          ],
          [
           "Je pense à toi"
          ],
          [
           "Rolls (feat. Lacrim)"
          ],
          [
           "MANON B"
          ],
          [
           "Terminal 2F"
          ],
          [
           "Monaco"
          ],
          [
           "Boucan (feat. Franglish)"
          ],
          [
           "Minimum ça"
          ],
          [
           "CIEL"
          ],
          [
           "SOIS PAS TIMIDE"
          ],
          [
           "SPIDER"
          ],
          [
           "RODEO DRIVE (feat. Hamza)"
          ],
          [
           "17 MOOD"
          ],
          [
           "Toute la Noché"
          ],
          [
           "SANS BOUSSOLE"
          ],
          [
           "Baby (Lil Baby feat. DaBaby)"
          ],
          [
           "17 MOOD"
          ],
          [
           "Pélican"
          ],
          [
           "Encore"
          ],
          [
           "Boulot"
          ],
          [
           "KEHLANI (REMIX) [feat. Kehlani]"
          ],
          [
           "Charisme"
          ],
          [
           "The London (feat. J. Cole & Travis Scott)"
          ],
          [
           "17 MOOD"
          ],
          [
           "Tsunami"
          ],
          [
           "Tsunami"
          ],
          [
           "Special"
          ],
          [
           "Mâte"
          ],
          [
           "Coco (feat. Tayc)"
          ],
          [
           "Coco (feat. Tayc)"
          ],
          [
           "KEHLANI (REMIX) [feat. Kehlani]"
          ],
          [
           "SANS BOUSSOLE"
          ],
          [
           "Je pense à toi"
          ],
          [
           "Rolls (feat. Lacrim)"
          ],
          [
           "MANON B"
          ],
          [
           "Terminal 2F"
          ],
          [
           "Monaco"
          ],
          [
           "Boucan (feat. Franglish)"
          ],
          [
           "Minimum ça"
          ],
          [
           "CIEL"
          ],
          [
           "SOIS PAS TIMIDE"
          ],
          [
           "SPIDER"
          ],
          [
           "RODEO DRIVE (feat. Hamza)"
          ],
          [
           "17 MOOD"
          ],
          [
           "Toute la Noché"
          ],
          [
           "SANS BOUSSOLE"
          ],
          [
           "Baby (Lil Baby feat. DaBaby)"
          ],
          [
           "17 MOOD"
          ],
          [
           "Pélican"
          ],
          [
           "Encore"
          ],
          [
           "KEHLANI (REMIX) [feat. Kehlani]"
          ],
          [
           "Charisme"
          ],
          [
           "The London (feat. J. Cole & Travis Scott)"
          ],
          [
           "17 MOOD"
          ],
          [
           "Tsunami"
          ],
          [
           "Tsunami"
          ],
          [
           "Special"
          ],
          [
           "Mâte"
          ],
          [
           "Coco (feat. Tayc)"
          ],
          [
           "Coco (feat. Tayc)"
          ],
          [
           "KEHLANI (REMIX) [feat. Kehlani]"
          ],
          [
           "SANS BOUSSOLE"
          ],
          [
           "Je pense à toi"
          ],
          [
           "Rolls (feat. Lacrim)"
          ],
          [
           "MANON B"
          ],
          [
           "Terminal 2F"
          ],
          [
           "Monaco"
          ],
          [
           "Boucan (feat. Franglish)"
          ],
          [
           "Minimum ça"
          ],
          [
           "CIEL"
          ],
          [
           "SOIS PAS TIMIDE"
          ],
          [
           "SPIDER"
          ],
          [
           "RODEO DRIVE (feat. Hamza)"
          ],
          [
           "17 MOOD"
          ],
          [
           "Toute la Noché"
          ],
          [
           "SANS BOUSSOLE"
          ],
          [
           "Baby (Lil Baby feat. DaBaby)"
          ],
          [
           "17 MOOD"
          ],
          [
           "Pélican"
          ],
          [
           "KEHLANI (REMIX) [feat. Kehlani]"
          ],
          [
           "Charisme"
          ],
          [
           "The London (feat. J. Cole & Travis Scott)"
          ],
          [
           "17 MOOD"
          ],
          [
           "Tsunami"
          ],
          [
           "Tsunami"
          ],
          [
           "Special"
          ],
          [
           "Mâte"
          ],
          [
           "Coco (feat. Tayc)"
          ],
          [
           "Coco (feat. Tayc)"
          ],
          [
           "KEHLANI (REMIX) [feat. Kehlani]"
          ],
          [
           "SANS BOUSSOLE"
          ],
          [
           "Je pense à toi"
          ],
          [
           "Rolls (feat. Lacrim)"
          ],
          [
           "MANON B"
          ],
          [
           "Terminal 2F"
          ],
          [
           "Monaco"
          ],
          [
           "Boucan (feat. Franglish)"
          ],
          [
           "Minimum ça"
          ],
          [
           "CIEL"
          ],
          [
           "SOIS PAS TIMIDE"
          ],
          [
           "SPIDER"
          ],
          [
           "RODEO DRIVE (feat. Hamza)"
          ],
          [
           "17 MOOD"
          ],
          [
           "Toute la Noché"
          ],
          [
           "SANS BOUSSOLE"
          ],
          [
           "Baby (Lil Baby feat. DaBaby)"
          ],
          [
           "17 MOOD"
          ],
          [
           "KEHLANI (REMIX) [feat. Kehlani]"
          ],
          [
           "Charisme"
          ],
          [
           "The London (feat. J. Cole & Travis Scott)"
          ],
          [
           "17 MOOD"
          ],
          [
           "Tsunami"
          ],
          [
           "Tsunami"
          ],
          [
           "Special"
          ],
          [
           "Mâte"
          ],
          [
           "Coco (feat. Tayc)"
          ],
          [
           "Coco (feat. Tayc)"
          ],
          [
           "KEHLANI (REMIX) [feat. Kehlani]"
          ],
          [
           "SANS BOUSSOLE"
          ],
          [
           "Je pense à toi"
          ],
          [
           "Rolls (feat. Lacrim)"
          ],
          [
           "MANON B"
          ],
          [
           "Terminal 2F"
          ],
          [
           "Monaco"
          ],
          [
           "Boucan (feat. Franglish)"
          ],
          [
           "Minimum ça"
          ],
          [
           "CIEL"
          ],
          [
           "SOIS PAS TIMIDE"
          ],
          [
           "SPIDER"
          ],
          [
           "RODEO DRIVE (feat. Hamza)"
          ],
          [
           "17 MOOD"
          ],
          [
           "Toute la Noché"
          ],
          [
           "SANS BOUSSOLE"
          ],
          [
           "Baby (Lil Baby feat. DaBaby)"
          ],
          [
           "KEHLANI (REMIX) [feat. Kehlani]"
          ],
          [
           "Charisme"
          ],
          [
           "The London (feat. J. Cole & Travis Scott)"
          ],
          [
           "17 MOOD"
          ],
          [
           "Tsunami"
          ],
          [
           "Tsunami"
          ],
          [
           "Special"
          ],
          [
           "Mâte"
          ],
          [
           "Coco (feat. Tayc)"
          ],
          [
           "Coco (feat. Tayc)"
          ],
          [
           "KEHLANI (REMIX) [feat. Kehlani]"
          ],
          [
           "SANS BOUSSOLE"
          ],
          [
           "Je pense à toi"
          ],
          [
           "Rolls (feat. Lacrim)"
          ],
          [
           "MANON B"
          ],
          [
           "Terminal 2F"
          ],
          [
           "Monaco"
          ],
          [
           "Boucan (feat. Franglish)"
          ],
          [
           "Minimum ça"
          ],
          [
           "CIEL"
          ],
          [
           "SOIS PAS TIMIDE"
          ],
          [
           "SPIDER"
          ],
          [
           "RODEO DRIVE (feat. Hamza)"
          ],
          [
           "17 MOOD"
          ],
          [
           "Toute la Noché"
          ],
          [
           "SANS BOUSSOLE"
          ],
          [
           "KEHLANI (REMIX) [feat. Kehlani]"
          ],
          [
           "Charisme"
          ],
          [
           "The London (feat. J. Cole & Travis Scott)"
          ],
          [
           "17 MOOD"
          ],
          [
           "Tsunami"
          ],
          [
           "Tsunami"
          ],
          [
           "Special"
          ],
          [
           "Mâte"
          ],
          [
           "Coco (feat. Tayc)"
          ],
          [
           "Coco (feat. Tayc)"
          ],
          [
           "KEHLANI (REMIX) [feat. Kehlani]"
          ],
          [
           "SANS BOUSSOLE"
          ],
          [
           "Je pense à toi"
          ],
          [
           "Rolls (feat. Lacrim)"
          ],
          [
           "MANON B"
          ],
          [
           "Terminal 2F"
          ],
          [
           "Monaco"
          ],
          [
           "Boucan (feat. Franglish)"
          ],
          [
           "Minimum ça"
          ],
          [
           "CIEL"
          ],
          [
           "SOIS PAS TIMIDE"
          ],
          [
           "SPIDER"
          ],
          [
           "RODEO DRIVE (feat. Hamza)"
          ],
          [
           "17 MOOD"
          ],
          [
           "Toute la Noché"
          ],
          [
           "KEHLANI (REMIX) [feat. Kehlani]"
          ],
          [
           "Charisme"
          ],
          [
           "The London (feat. J. Cole & Travis Scott)"
          ],
          [
           "17 MOOD"
          ],
          [
           "Tsunami"
          ],
          [
           "Tsunami"
          ],
          [
           "Special"
          ],
          [
           "Mâte"
          ],
          [
           "Coco (feat. Tayc)"
          ],
          [
           "Coco (feat. Tayc)"
          ],
          [
           "KEHLANI (REMIX) [feat. Kehlani]"
          ],
          [
           "SANS BOUSSOLE"
          ],
          [
           "Je pense à toi"
          ],
          [
           "Rolls (feat. Lacrim)"
          ],
          [
           "MANON B"
          ],
          [
           "Terminal 2F"
          ],
          [
           "Monaco"
          ],
          [
           "Boucan (feat. Franglish)"
          ],
          [
           "Minimum ça"
          ],
          [
           "CIEL"
          ],
          [
           "SOIS PAS TIMIDE"
          ],
          [
           "SPIDER"
          ],
          [
           "RODEO DRIVE (feat. Hamza)"
          ],
          [
           "17 MOOD"
          ],
          [
           "KEHLANI (REMIX) [feat. Kehlani]"
          ],
          [
           "Charisme"
          ],
          [
           "The London (feat. J. Cole & Travis Scott)"
          ],
          [
           "17 MOOD"
          ],
          [
           "Tsunami"
          ],
          [
           "Tsunami"
          ],
          [
           "Special"
          ],
          [
           "Mâte"
          ],
          [
           "Coco (feat. Tayc)"
          ],
          [
           "Coco (feat. Tayc)"
          ],
          [
           "KEHLANI (REMIX) [feat. Kehlani]"
          ],
          [
           "SANS BOUSSOLE"
          ],
          [
           "Je pense à toi"
          ],
          [
           "Rolls (feat. Lacrim)"
          ],
          [
           "MANON B"
          ],
          [
           "Terminal 2F"
          ],
          [
           "Monaco"
          ],
          [
           "Boucan (feat. Franglish)"
          ],
          [
           "Minimum ça"
          ],
          [
           "CIEL"
          ],
          [
           "SOIS PAS TIMIDE"
          ],
          [
           "SPIDER"
          ],
          [
           "RODEO DRIVE (feat. Hamza)"
          ],
          [
           "KEHLANI (REMIX) [feat. Kehlani]"
          ],
          [
           "Charisme"
          ],
          [
           "The London (feat. J. Cole & Travis Scott)"
          ],
          [
           "17 MOOD"
          ],
          [
           "Tsunami"
          ],
          [
           "Tsunami"
          ],
          [
           "Special"
          ],
          [
           "Mâte"
          ],
          [
           "Coco (feat. Tayc)"
          ],
          [
           "Coco (feat. Tayc)"
          ],
          [
           "KEHLANI (REMIX) [feat. Kehlani]"
          ],
          [
           "SANS BOUSSOLE"
          ],
          [
           "Je pense à toi"
          ],
          [
           "Rolls (feat. Lacrim)"
          ],
          [
           "MANON B"
          ],
          [
           "Terminal 2F"
          ],
          [
           "Monaco"
          ],
          [
           "Boucan (feat. Franglish)"
          ],
          [
           "Minimum ça"
          ],
          [
           "CIEL"
          ],
          [
           "SOIS PAS TIMIDE"
          ],
          [
           "SPIDER"
          ],
          [
           "KEHLANI (REMIX) [feat. Kehlani]"
          ],
          [
           "Charisme"
          ],
          [
           "The London (feat. J. Cole & Travis Scott)"
          ],
          [
           "17 MOOD"
          ],
          [
           "Tsunami"
          ],
          [
           "Tsunami"
          ],
          [
           "Special"
          ],
          [
           "Mâte"
          ],
          [
           "Coco (feat. Tayc)"
          ],
          [
           "Coco (feat. Tayc)"
          ],
          [
           "KEHLANI (REMIX) [feat. Kehlani]"
          ],
          [
           "SANS BOUSSOLE"
          ],
          [
           "Je pense à toi"
          ],
          [
           "Rolls (feat. Lacrim)"
          ],
          [
           "MANON B"
          ],
          [
           "Terminal 2F"
          ],
          [
           "Monaco"
          ],
          [
           "Boucan (feat. Franglish)"
          ],
          [
           "Minimum ça"
          ],
          [
           "CIEL"
          ],
          [
           "SOIS PAS TIMIDE"
          ],
          [
           "KEHLANI (REMIX) [feat. Kehlani]"
          ],
          [
           "Charisme"
          ],
          [
           "The London (feat. J. Cole & Travis Scott)"
          ],
          [
           "17 MOOD"
          ],
          [
           "Tsunami"
          ],
          [
           "Tsunami"
          ],
          [
           "Special"
          ],
          [
           "Mâte"
          ],
          [
           "Coco (feat. Tayc)"
          ],
          [
           "Coco (feat. Tayc)"
          ],
          [
           "KEHLANI (REMIX) [feat. Kehlani]"
          ],
          [
           "SANS BOUSSOLE"
          ],
          [
           "Je pense à toi"
          ],
          [
           "Rolls (feat. Lacrim)"
          ],
          [
           "MANON B"
          ],
          [
           "Terminal 2F"
          ],
          [
           "Monaco"
          ],
          [
           "Boucan (feat. Franglish)"
          ],
          [
           "Minimum ça"
          ],
          [
           "CIEL"
          ],
          [
           "KEHLANI (REMIX) [feat. Kehlani]"
          ],
          [
           "Charisme"
          ],
          [
           "The London (feat. J. Cole & Travis Scott)"
          ],
          [
           "17 MOOD"
          ],
          [
           "Tsunami"
          ],
          [
           "Tsunami"
          ],
          [
           "Special"
          ],
          [
           "Mâte"
          ],
          [
           "Coco (feat. Tayc)"
          ],
          [
           "Coco (feat. Tayc)"
          ],
          [
           "KEHLANI (REMIX) [feat. Kehlani]"
          ],
          [
           "SANS BOUSSOLE"
          ],
          [
           "Je pense à toi"
          ],
          [
           "Rolls (feat. Lacrim)"
          ],
          [
           "MANON B"
          ],
          [
           "Terminal 2F"
          ],
          [
           "Monaco"
          ],
          [
           "Boucan (feat. Franglish)"
          ],
          [
           "Minimum ça"
          ],
          [
           "KEHLANI (REMIX) [feat. Kehlani]"
          ],
          [
           "Charisme"
          ],
          [
           "The London (feat. J. Cole & Travis Scott)"
          ],
          [
           "17 MOOD"
          ],
          [
           "Tsunami"
          ],
          [
           "Tsunami"
          ],
          [
           "Special"
          ],
          [
           "Mâte"
          ],
          [
           "Coco (feat. Tayc)"
          ],
          [
           "Coco (feat. Tayc)"
          ],
          [
           "KEHLANI (REMIX) [feat. Kehlani]"
          ],
          [
           "SANS BOUSSOLE"
          ],
          [
           "Je pense à toi"
          ],
          [
           "Rolls (feat. Lacrim)"
          ],
          [
           "MANON B"
          ],
          [
           "Terminal 2F"
          ],
          [
           "Monaco"
          ],
          [
           "Boucan (feat. Franglish)"
          ],
          [
           "KEHLANI (REMIX) [feat. Kehlani]"
          ],
          [
           "Charisme"
          ],
          [
           "The London (feat. J. Cole & Travis Scott)"
          ],
          [
           "17 MOOD"
          ],
          [
           "Tsunami"
          ],
          [
           "Tsunami"
          ],
          [
           "Special"
          ],
          [
           "Mâte"
          ],
          [
           "Coco (feat. Tayc)"
          ],
          [
           "Coco (feat. Tayc)"
          ],
          [
           "KEHLANI (REMIX) [feat. Kehlani]"
          ],
          [
           "SANS BOUSSOLE"
          ],
          [
           "Je pense à toi"
          ],
          [
           "Rolls (feat. Lacrim)"
          ],
          [
           "MANON B"
          ],
          [
           "Terminal 2F"
          ],
          [
           "Monaco"
          ],
          [
           "KEHLANI (REMIX) [feat. Kehlani]"
          ],
          [
           "Charisme"
          ],
          [
           "The London (feat. J. Cole & Travis Scott)"
          ],
          [
           "17 MOOD"
          ],
          [
           "Tsunami"
          ],
          [
           "Tsunami"
          ],
          [
           "Special"
          ],
          [
           "Mâte"
          ],
          [
           "Coco (feat. Tayc)"
          ],
          [
           "Coco (feat. Tayc)"
          ],
          [
           "KEHLANI (REMIX) [feat. Kehlani]"
          ],
          [
           "SANS BOUSSOLE"
          ],
          [
           "Je pense à toi"
          ],
          [
           "Rolls (feat. Lacrim)"
          ],
          [
           "MANON B"
          ],
          [
           "Terminal 2F"
          ],
          [
           "KEHLANI (REMIX) [feat. Kehlani]"
          ],
          [
           "Charisme"
          ],
          [
           "The London (feat. J. Cole & Travis Scott)"
          ],
          [
           "17 MOOD"
          ],
          [
           "Tsunami"
          ],
          [
           "Tsunami"
          ],
          [
           "Special"
          ],
          [
           "Mâte"
          ],
          [
           "Coco (feat. Tayc)"
          ],
          [
           "Coco (feat. Tayc)"
          ],
          [
           "KEHLANI (REMIX) [feat. Kehlani]"
          ],
          [
           "SANS BOUSSOLE"
          ],
          [
           "Je pense à toi"
          ],
          [
           "Rolls (feat. Lacrim)"
          ],
          [
           "MANON B"
          ],
          [
           "KEHLANI (REMIX) [feat. Kehlani]"
          ],
          [
           "Charisme"
          ],
          [
           "The London (feat. J. Cole & Travis Scott)"
          ],
          [
           "17 MOOD"
          ],
          [
           "Tsunami"
          ],
          [
           "Tsunami"
          ],
          [
           "Special"
          ],
          [
           "Mâte"
          ],
          [
           "Coco (feat. Tayc)"
          ],
          [
           "Coco (feat. Tayc)"
          ],
          [
           "KEHLANI (REMIX) [feat. Kehlani]"
          ],
          [
           "SANS BOUSSOLE"
          ],
          [
           "Je pense à toi"
          ],
          [
           "Rolls (feat. Lacrim)"
          ],
          [
           "KEHLANI (REMIX) [feat. Kehlani]"
          ],
          [
           "Charisme"
          ],
          [
           "The London (feat. J. Cole & Travis Scott)"
          ],
          [
           "17 MOOD"
          ],
          [
           "Tsunami"
          ],
          [
           "Tsunami"
          ],
          [
           "Special"
          ],
          [
           "Mâte"
          ],
          [
           "Coco (feat. Tayc)"
          ],
          [
           "Coco (feat. Tayc)"
          ],
          [
           "KEHLANI (REMIX) [feat. Kehlani]"
          ],
          [
           "SANS BOUSSOLE"
          ],
          [
           "Je pense à toi"
          ],
          [
           "KEHLANI (REMIX) [feat. Kehlani]"
          ],
          [
           "Charisme"
          ],
          [
           "The London (feat. J. Cole & Travis Scott)"
          ],
          [
           "17 MOOD"
          ],
          [
           "Tsunami"
          ],
          [
           "Tsunami"
          ],
          [
           "Special"
          ],
          [
           "Mâte"
          ],
          [
           "Coco (feat. Tayc)"
          ],
          [
           "Coco (feat. Tayc)"
          ],
          [
           "KEHLANI (REMIX) [feat. Kehlani]"
          ],
          [
           "SANS BOUSSOLE"
          ],
          [
           "KEHLANI (REMIX) [feat. Kehlani]"
          ],
          [
           "Charisme"
          ],
          [
           "The London (feat. J. Cole & Travis Scott)"
          ],
          [
           "17 MOOD"
          ],
          [
           "Tsunami"
          ],
          [
           "Tsunami"
          ],
          [
           "Special"
          ],
          [
           "Mâte"
          ],
          [
           "Coco (feat. Tayc)"
          ],
          [
           "Coco (feat. Tayc)"
          ],
          [
           "KEHLANI (REMIX) [feat. Kehlani]"
          ],
          [
           "KEHLANI (REMIX) [feat. Kehlani]"
          ],
          [
           "Charisme"
          ],
          [
           "The London (feat. J. Cole & Travis Scott)"
          ],
          [
           "17 MOOD"
          ],
          [
           "Tsunami"
          ],
          [
           "Tsunami"
          ],
          [
           "Special"
          ],
          [
           "Mâte"
          ],
          [
           "Coco (feat. Tayc)"
          ],
          [
           "Coco (feat. Tayc)"
          ],
          [
           "KEHLANI (REMIX) [feat. Kehlani]"
          ],
          [
           "Charisme"
          ],
          [
           "The London (feat. J. Cole & Travis Scott)"
          ],
          [
           "17 MOOD"
          ],
          [
           "Tsunami"
          ],
          [
           "Tsunami"
          ],
          [
           "Special"
          ],
          [
           "Mâte"
          ],
          [
           "Coco (feat. Tayc)"
          ],
          [
           "KEHLANI (REMIX) [feat. Kehlani]"
          ],
          [
           "Charisme"
          ],
          [
           "The London (feat. J. Cole & Travis Scott)"
          ],
          [
           "17 MOOD"
          ],
          [
           "Tsunami"
          ],
          [
           "Tsunami"
          ],
          [
           "Special"
          ],
          [
           "Mâte"
          ],
          [
           "KEHLANI (REMIX) [feat. Kehlani]"
          ],
          [
           "Charisme"
          ],
          [
           "The London (feat. J. Cole & Travis Scott)"
          ],
          [
           "17 MOOD"
          ],
          [
           "Tsunami"
          ],
          [
           "Tsunami"
          ],
          [
           "Special"
          ],
          [
           "KEHLANI (REMIX) [feat. Kehlani]"
          ],
          [
           "Charisme"
          ],
          [
           "The London (feat. J. Cole & Travis Scott)"
          ],
          [
           "17 MOOD"
          ],
          [
           "Tsunami"
          ],
          [
           "Tsunami"
          ],
          [
           "KEHLANI (REMIX) [feat. Kehlani]"
          ],
          [
           "Charisme"
          ],
          [
           "The London (feat. J. Cole & Travis Scott)"
          ],
          [
           "17 MOOD"
          ],
          [
           "Tsunami"
          ],
          [
           "KEHLANI (REMIX) [feat. Kehlani]"
          ],
          [
           "Charisme"
          ],
          [
           "The London (feat. J. Cole & Travis Scott)"
          ],
          [
           "17 MOOD"
          ],
          [
           "KEHLANI (REMIX) [feat. Kehlani]"
          ],
          [
           "Charisme"
          ],
          [
           "The London (feat. J. Cole & Travis Scott)"
          ],
          [
           "KEHLANI (REMIX) [feat. Kehlani]"
          ],
          [
           "Charisme"
          ],
          [
           "KEHLANI (REMIX) [feat. Kehlani]"
          ]
         ],
         "hovertemplate": "PCA1=%{x}<br>PCA2=%{y}<br>Track_ID=%{customdata[0]}<br>Cluster=%{marker.color}<extra></extra>",
         "legendgroup": "",
         "marker": {
          "color": [
           1,
           0,
           0,
           0,
           0,
           0,
           0,
           0,
           0,
           0,
           1,
           0,
           0,
           0,
           0,
           0,
           0,
           0,
           0,
           0,
           0,
           0,
           0,
           0,
           0,
           0,
           0,
           0,
           0,
           0,
           0,
           0,
           0,
           0,
           0,
           0,
           0,
           0,
           0,
           0,
           0,
           0,
           0,
           0,
           0,
           0,
           0,
           0,
           0,
           0,
           1,
           0,
           0,
           0,
           0,
           0,
           0,
           0,
           0,
           0,
           1,
           0,
           0,
           0,
           0,
           0,
           0,
           0,
           0,
           0,
           0,
           0,
           0,
           0,
           0,
           0,
           0,
           0,
           0,
           0,
           0,
           0,
           0,
           0,
           0,
           0,
           0,
           0,
           0,
           0,
           0,
           0,
           0,
           0,
           0,
           0,
           0,
           0,
           0,
           1,
           0,
           0,
           0,
           0,
           0,
           0,
           0,
           0,
           0,
           1,
           0,
           0,
           0,
           0,
           0,
           0,
           0,
           0,
           0,
           0,
           0,
           0,
           0,
           0,
           0,
           0,
           0,
           0,
           0,
           0,
           0,
           0,
           0,
           0,
           0,
           0,
           0,
           0,
           0,
           0,
           0,
           0,
           0,
           0,
           0,
           0,
           0,
           1,
           0,
           0,
           0,
           0,
           0,
           0,
           0,
           0,
           0,
           1,
           0,
           0,
           0,
           0,
           0,
           0,
           0,
           0,
           0,
           0,
           0,
           0,
           0,
           0,
           0,
           0,
           0,
           0,
           0,
           0,
           0,
           0,
           0,
           0,
           0,
           0,
           0,
           0,
           0,
           0,
           0,
           0,
           0,
           0,
           0,
           0,
           1,
           0,
           0,
           0,
           0,
           0,
           0,
           0,
           0,
           0,
           1,
           0,
           0,
           0,
           0,
           0,
           0,
           0,
           0,
           0,
           0,
           0,
           0,
           0,
           0,
           0,
           0,
           0,
           0,
           0,
           0,
           0,
           0,
           0,
           0,
           0,
           0,
           0,
           0,
           0,
           0,
           0,
           0,
           0,
           0,
           0,
           1,
           0,
           0,
           0,
           0,
           0,
           0,
           0,
           0,
           0,
           1,
           0,
           0,
           0,
           0,
           0,
           0,
           0,
           0,
           0,
           0,
           0,
           0,
           0,
           0,
           0,
           0,
           0,
           0,
           0,
           0,
           0,
           0,
           0,
           0,
           0,
           0,
           0,
           0,
           0,
           0,
           0,
           0,
           0,
           0,
           1,
           0,
           0,
           0,
           0,
           0,
           0,
           0,
           0,
           0,
           1,
           0,
           0,
           0,
           0,
           0,
           0,
           0,
           0,
           0,
           0,
           0,
           0,
           0,
           0,
           0,
           0,
           0,
           0,
           0,
           0,
           0,
           0,
           0,
           0,
           0,
           0,
           0,
           0,
           0,
           0,
           0,
           0,
           0,
           1,
           0,
           0,
           0,
           0,
           0,
           0,
           0,
           0,
           0,
           1,
           0,
           0,
           0,
           0,
           0,
           0,
           0,
           0,
           0,
           0,
           0,
           0,
           0,
           0,
           0,
           0,
           0,
           0,
           0,
           0,
           0,
           0,
           0,
           0,
           0,
           0,
           0,
           0,
           0,
           0,
           0,
           0,
           1,
           0,
           0,
           0,
           0,
           0,
           0,
           0,
           0,
           0,
           1,
           0,
           0,
           0,
           0,
           0,
           0,
           0,
           0,
           0,
           0,
           0,
           0,
           0,
           0,
           0,
           0,
           0,
           0,
           0,
           0,
           0,
           0,
           0,
           0,
           0,
           0,
           0,
           0,
           0,
           0,
           0,
           1,
           0,
           0,
           0,
           0,
           0,
           0,
           0,
           0,
           0,
           1,
           0,
           0,
           0,
           0,
           0,
           0,
           0,
           0,
           0,
           0,
           0,
           0,
           0,
           0,
           0,
           0,
           0,
           0,
           0,
           0,
           0,
           0,
           0,
           0,
           0,
           0,
           0,
           0,
           0,
           0,
           1,
           0,
           0,
           0,
           0,
           0,
           0,
           0,
           0,
           0,
           1,
           0,
           0,
           0,
           0,
           0,
           0,
           0,
           0,
           0,
           0,
           0,
           0,
           0,
           0,
           0,
           0,
           0,
           0,
           0,
           0,
           0,
           0,
           0,
           0,
           0,
           0,
           0,
           0,
           0,
           1,
           0,
           0,
           0,
           0,
           0,
           0,
           0,
           0,
           0,
           1,
           0,
           0,
           0,
           0,
           0,
           0,
           0,
           0,
           0,
           0,
           0,
           0,
           0,
           0,
           0,
           0,
           0,
           0,
           0,
           0,
           0,
           0,
           0,
           0,
           0,
           0,
           0,
           0,
           1,
           0,
           0,
           0,
           0,
           0,
           0,
           0,
           0,
           0,
           1,
           0,
           0,
           0,
           0,
           0,
           0,
           0,
           0,
           0,
           0,
           0,
           0,
           0,
           0,
           0,
           0,
           0,
           0,
           0,
           0,
           0,
           0,
           0,
           0,
           0,
           0,
           0,
           1,
           0,
           0,
           0,
           0,
           0,
           0,
           0,
           0,
           0,
           1,
           0,
           0,
           0,
           0,
           0,
           0,
           0,
           0,
           0,
           0,
           0,
           0,
           0,
           0,
           0,
           0,
           0,
           0,
           0,
           0,
           0,
           0,
           0,
           0,
           0,
           0,
           1,
           0,
           0,
           0,
           0,
           0,
           0,
           0,
           0,
           0,
           1,
           0,
           0,
           0,
           0,
           0,
           0,
           0,
           0,
           0,
           0,
           0,
           0,
           0,
           0,
           0,
           0,
           0,
           0,
           0,
           0,
           0,
           0,
           0,
           0,
           0,
           1,
           0,
           0,
           0,
           0,
           0,
           0,
           0,
           0,
           0,
           1,
           0,
           0,
           0,
           0,
           0,
           0,
           0,
           0,
           0,
           0,
           0,
           0,
           0,
           0,
           0,
           0,
           0,
           0,
           0,
           0,
           0,
           0,
           0,
           0,
           1,
           0,
           0,
           0,
           0,
           0,
           0,
           0,
           0,
           0,
           1,
           0,
           0,
           0,
           0,
           0,
           0,
           0,
           0,
           0,
           0,
           0,
           0,
           0,
           0,
           0,
           0,
           0,
           0,
           0,
           0,
           0,
           0,
           0,
           1,
           0,
           0,
           0,
           0,
           0,
           0,
           0,
           0,
           0,
           1,
           0,
           0,
           0,
           0,
           0,
           0,
           0,
           0,
           0,
           0,
           0,
           0,
           0,
           0,
           0,
           0,
           0,
           0,
           0,
           0,
           0,
           0,
           1,
           0,
           0,
           0,
           0,
           0,
           0,
           0,
           0,
           0,
           1,
           0,
           0,
           0,
           0,
           0,
           0,
           0,
           0,
           0,
           0,
           0,
           0,
           0,
           0,
           0,
           0,
           0,
           0,
           0,
           0,
           0,
           1,
           0,
           0,
           0,
           0,
           0,
           0,
           0,
           0,
           0,
           1,
           0,
           0,
           0,
           0,
           0,
           0,
           0,
           0,
           0,
           0,
           0,
           0,
           0,
           0,
           0,
           0,
           0,
           0,
           0,
           0,
           1,
           0,
           0,
           0,
           0,
           0,
           0,
           0,
           0,
           0,
           1,
           0,
           0,
           0,
           0,
           0,
           0,
           0,
           0,
           0,
           0,
           0,
           0,
           0,
           0,
           0,
           0,
           0,
           0,
           0,
           1,
           0,
           0,
           0,
           0,
           0,
           0,
           0,
           0,
           0,
           1,
           0,
           0,
           0,
           0,
           0,
           0,
           0,
           0,
           0,
           0,
           0,
           0,
           0,
           0,
           0,
           0,
           0,
           0,
           1,
           0,
           0,
           0,
           0,
           0,
           0,
           0,
           0,
           0,
           1,
           0,
           0,
           0,
           0,
           0,
           0,
           0,
           0,
           0,
           0,
           0,
           0,
           0,
           0,
           0,
           0,
           0,
           1,
           0,
           0,
           0,
           0,
           0,
           0,
           0,
           0,
           0,
           1,
           0,
           0,
           0,
           0,
           0,
           0,
           0,
           0,
           0,
           0,
           0,
           0,
           0,
           0,
           0,
           0,
           1,
           0,
           0,
           0,
           0,
           0,
           0,
           0,
           0,
           0,
           1,
           0,
           0,
           0,
           0,
           0,
           0,
           0,
           0,
           0,
           0,
           0,
           0,
           0,
           0,
           0,
           1,
           0,
           0,
           0,
           0,
           0,
           0,
           0,
           0,
           0,
           1,
           0,
           0,
           0,
           0,
           0,
           0,
           0,
           0,
           0,
           0,
           0,
           0,
           0,
           0,
           1,
           0,
           0,
           0,
           0,
           0,
           0,
           0,
           0,
           0,
           1,
           0,
           0,
           0,
           0,
           0,
           0,
           0,
           0,
           0,
           0,
           0,
           0,
           0,
           1,
           0,
           0,
           0,
           0,
           0,
           0,
           0,
           0,
           0,
           1,
           0,
           0,
           0,
           0,
           0,
           0,
           0,
           0,
           0,
           0,
           0,
           0,
           1,
           0,
           0,
           0,
           0,
           0,
           0,
           0,
           0,
           0,
           1,
           0,
           0,
           0,
           0,
           0,
           0,
           0,
           0,
           0,
           0,
           0,
           1,
           0,
           0,
           0,
           0,
           0,
           0,
           0,
           0,
           0,
           1,
           0,
           0,
           0,
           0,
           0,
           0,
           0,
           0,
           0,
           0,
           1,
           0,
           0,
           0,
           0,
           0,
           0,
           0,
           0,
           0,
           1,
           0,
           0,
           0,
           0,
           0,
           0,
           0,
           0,
           0,
           1,
           0,
           0,
           0,
           0,
           0,
           0,
           0,
           0,
           0,
           1,
           0,
           0,
           0,
           0,
           0,
           0,
           0,
           0,
           1,
           0,
           0,
           0,
           0,
           0,
           0,
           0,
           0,
           0,
           1,
           0,
           0,
           0,
           0,
           0,
           0,
           0,
           1,
           0,
           0,
           0,
           0,
           0,
           0,
           0,
           0,
           0,
           1,
           0,
           0,
           0,
           0,
           0,
           0,
           1,
           0,
           0,
           0,
           0,
           0,
           0,
           0,
           0,
           0,
           1,
           0,
           0,
           0,
           0,
           0,
           1,
           0,
           0,
           0,
           0,
           0,
           0,
           0,
           0,
           0,
           1,
           0,
           0,
           0,
           0,
           1,
           0,
           0,
           0,
           0,
           0,
           0,
           0,
           0,
           0,
           1,
           0,
           0,
           0,
           1,
           0,
           0,
           0,
           0,
           0,
           0,
           0,
           0,
           0,
           1,
           0,
           0,
           1,
           0,
           0,
           0,
           0,
           0,
           0,
           0,
           0,
           0,
           1,
           0,
           1,
           0,
           0,
           0,
           0,
           0,
           0,
           0,
           0,
           0,
           1,
           1,
           0,
           0,
           0,
           0,
           0,
           0,
           0,
           0,
           0,
           1,
           0,
           0,
           0,
           0,
           0,
           0,
           0,
           0,
           1,
           0,
           0,
           0,
           0,
           0,
           0,
           0,
           1,
           0,
           0,
           0,
           0,
           0,
           0,
           1,
           0,
           0,
           0,
           0,
           0,
           1,
           0,
           0,
           0,
           0,
           1,
           0,
           0,
           0,
           1,
           0,
           0,
           1,
           0,
           1
          ],
          "coloraxis": "coloraxis",
          "symbol": "circle"
         },
         "mode": "markers",
         "name": "",
         "showlegend": false,
         "type": "scattergl",
         "x": [
          -1.0459241651729707,
          0.1975380435210338,
          0.0037741648002323352,
          1.1223507918392335,
          -0.025120359767785504,
          -0.025120359767785504,
          -0.1443281584933332,
          0.008481400735524641,
          -0.4388650673525883,
          -0.4388650673525883,
          -1.0459241651729703,
          0.046439721816231926,
          0.08058235015712475,
          0.0786360343923399,
          0.023496945294820368,
          -0.09737582130274916,
          -0.16778841254493435,
          0.059213712892398275,
          0.01423300587379283,
          0.007116020856848371,
          0.07236957394666355,
          -0.020046737054977525,
          0.741713920262743,
          1.1223507918392335,
          -0.11670803418824341,
          0.046439721816231926,
          -0.16332874992211313,
          1.1223507918392335,
          0.10827557931125711,
          -0.12861296554598067,
          0.22078382133150287,
          -0.12712558527047949,
          0.1041356610048661,
          0.09703270637929914,
          -0.09573894291574624,
          -0.20913398185944712,
          -0.05641590197794652,
          -0.045928010678678285,
          -0.02454460459065185,
          -0.31531056752696923,
          0.5513717047100201,
          -0.016944644147410433,
          -0.03935308231182639,
          0.161017901568756,
          -0.004277841439961759,
          -0.1037554180743579,
          0.07053780713114088,
          0.010494472907448628,
          0.06856539628287073,
          -0.07479183742138606,
          -1.0459241651729703,
          0.1975380435210334,
          0.0037741648002324463,
          1.1223507918392335,
          -0.025120359767785504,
          -0.025120359767785504,
          -0.1443281584933332,
          0.008481400735524641,
          -0.4388650673525883,
          -0.4388650673525883,
          -1.0459241651729703,
          0.046439721816231926,
          0.08058235015712475,
          0.0786360343923399,
          0.023496945294820368,
          -0.09737582130274916,
          -0.16778841254493435,
          0.059213712892398275,
          0.01423300587379283,
          0.007116020856848371,
          0.07236957394666355,
          -0.020046737054977525,
          0.741713920262743,
          1.1223507918392335,
          -0.11670803418824341,
          0.046439721816231926,
          -0.16332874992211313,
          1.1223507918392335,
          0.10827557931125711,
          -0.12861296554598067,
          0.22078382133150287,
          -0.12712558527047949,
          0.1041356610048661,
          0.09703270637929914,
          -0.09573894291574624,
          -0.20913398185944712,
          -0.05641590197794652,
          -0.045928010678678285,
          -0.02454460459065185,
          -0.31531056752696923,
          0.5513717047100201,
          -0.016944644147410433,
          -0.03935308231182639,
          0.161017901568756,
          -0.004277841439961759,
          -0.1037554180743579,
          0.07053780713114088,
          0.010494472907448628,
          0.06856539628287073,
          -1.0459241651729703,
          0.1975380435210334,
          0.0037741648002324463,
          1.1223507918392335,
          -0.025120359767785504,
          -0.025120359767785504,
          -0.1443281584933332,
          0.008481400735524641,
          -0.4388650673525883,
          -0.4388650673525883,
          -1.0459241651729703,
          0.046439721816231926,
          0.08058235015712475,
          0.0786360343923399,
          0.023496945294820368,
          -0.09737582130274916,
          -0.16778841254493435,
          0.059213712892398275,
          0.01423300587379283,
          0.007116020856848371,
          0.07236957394666355,
          -0.020046737054977525,
          0.741713920262743,
          1.1223507918392335,
          -0.11670803418824341,
          0.046439721816231926,
          -0.16332874992211313,
          1.1223507918392335,
          0.10827557931125711,
          -0.12861296554598067,
          0.22078382133150287,
          -0.12712558527047949,
          0.1041356610048661,
          0.09703270637929914,
          -0.09573894291574624,
          -0.20913398185944712,
          -0.05641590197794652,
          -0.045928010678678285,
          -0.02454460459065185,
          -0.31531056752696923,
          0.5513717047100201,
          -0.016944644147410433,
          -0.03935308231182639,
          0.161017901568756,
          -0.004277841439961759,
          -0.1037554180743579,
          0.07053780713114088,
          0.010494472907448628,
          -1.0459241651729703,
          0.1975380435210334,
          0.0037741648002324463,
          1.1223507918392335,
          -0.025120359767785504,
          -0.025120359767785504,
          -0.1443281584933332,
          0.008481400735524641,
          -0.4388650673525883,
          -0.4388650673525883,
          -1.0459241651729703,
          0.046439721816231926,
          0.08058235015712475,
          0.0786360343923399,
          0.023496945294820368,
          -0.09737582130274916,
          -0.16778841254493435,
          0.059213712892398275,
          0.01423300587379283,
          0.007116020856848371,
          0.07236957394666355,
          -0.020046737054977525,
          0.741713920262743,
          1.1223507918392335,
          -0.11670803418824341,
          0.046439721816231926,
          -0.16332874992211313,
          1.1223507918392335,
          0.10827557931125711,
          -0.12861296554598067,
          0.22078382133150287,
          -0.12712558527047949,
          0.1041356610048661,
          0.09703270637929914,
          -0.09573894291574624,
          -0.20913398185944712,
          -0.05641590197794652,
          -0.045928010678678285,
          -0.02454460459065185,
          -0.31531056752696923,
          0.5513717047100201,
          -0.016944644147410433,
          -0.03935308231182639,
          0.161017901568756,
          -0.004277841439961759,
          -0.1037554180743579,
          0.07053780713114088,
          -1.0459241651729703,
          0.1975380435210334,
          0.0037741648002324463,
          1.1223507918392335,
          -0.025120359767785504,
          -0.025120359767785504,
          -0.1443281584933332,
          0.008481400735524641,
          -0.4388650673525883,
          -0.4388650673525883,
          -1.0459241651729703,
          0.046439721816231926,
          0.08058235015712475,
          0.0786360343923399,
          0.023496945294820368,
          -0.09737582130274916,
          -0.16778841254493435,
          0.059213712892398275,
          0.01423300587379283,
          0.007116020856848371,
          0.07236957394666355,
          -0.020046737054977525,
          0.741713920262743,
          1.1223507918392335,
          -0.11670803418824341,
          0.046439721816231926,
          -0.16332874992211313,
          1.1223507918392335,
          0.10827557931125711,
          -0.12861296554598067,
          0.22078382133150287,
          -0.12712558527047949,
          0.1041356610048661,
          0.09703270637929914,
          -0.09573894291574624,
          -0.20913398185944712,
          -0.05641590197794652,
          -0.045928010678678285,
          -0.02454460459065185,
          -0.31531056752696923,
          0.5513717047100201,
          -0.016944644147410433,
          -0.03935308231182639,
          0.161017901568756,
          -0.004277841439961759,
          -0.1037554180743579,
          -1.0459241651729703,
          0.1975380435210334,
          0.0037741648002324463,
          1.1223507918392335,
          -0.025120359767785504,
          -0.025120359767785504,
          -0.1443281584933332,
          0.008481400735524641,
          -0.4388650673525883,
          -0.4388650673525883,
          -1.0459241651729703,
          0.046439721816231926,
          0.08058235015712475,
          0.0786360343923399,
          0.023496945294820368,
          -0.09737582130274916,
          -0.16778841254493435,
          0.059213712892398275,
          0.01423300587379283,
          0.007116020856848371,
          0.07236957394666355,
          -0.020046737054977525,
          0.741713920262743,
          1.1223507918392335,
          -0.11670803418824341,
          0.046439721816231926,
          -0.16332874992211313,
          1.1223507918392335,
          0.10827557931125711,
          -0.12861296554598067,
          0.22078382133150287,
          -0.12712558527047949,
          0.1041356610048661,
          0.09703270637929914,
          -0.09573894291574624,
          -0.20913398185944712,
          -0.05641590197794652,
          -0.045928010678678285,
          -0.02454460459065185,
          -0.31531056752696923,
          0.5513717047100201,
          -0.016944644147410433,
          -0.03935308231182639,
          0.161017901568756,
          -0.004277841439961759,
          -1.0459241651729703,
          0.1975380435210334,
          0.0037741648002324463,
          1.1223507918392335,
          -0.025120359767785504,
          -0.025120359767785504,
          -0.1443281584933332,
          0.008481400735524641,
          -0.4388650673525883,
          -0.4388650673525883,
          -1.0459241651729703,
          0.046439721816231926,
          0.08058235015712475,
          0.0786360343923399,
          0.023496945294820368,
          -0.09737582130274916,
          -0.16778841254493435,
          0.059213712892398275,
          0.01423300587379283,
          0.007116020856848371,
          0.07236957394666355,
          -0.020046737054977525,
          0.741713920262743,
          1.1223507918392335,
          -0.11670803418824341,
          0.046439721816231926,
          -0.16332874992211313,
          1.1223507918392335,
          0.10827557931125711,
          -0.12861296554598067,
          0.22078382133150287,
          -0.12712558527047949,
          0.1041356610048661,
          0.09703270637929898,
          -0.09573894291574624,
          -0.20913398185944712,
          -0.05641590197794652,
          -0.045928010678678285,
          -0.02454460459065185,
          -0.31531056752696923,
          0.5513717047100201,
          -0.016944644147410433,
          -0.03935308231182639,
          0.161017901568756,
          -1.0459241651729703,
          0.1975380435210334,
          0.0037741648002324463,
          1.1223507918392335,
          -0.025120359767785504,
          -0.025120359767785504,
          -0.1443281584933332,
          0.008481400735524641,
          -0.4388650673525883,
          -0.4388650673525883,
          -1.0459241651729703,
          0.046439721816231926,
          0.08058235015712475,
          0.0786360343923399,
          0.023496945294820368,
          -0.09737582130274916,
          -0.16778841254493435,
          0.059213712892398275,
          0.01423300587379283,
          0.007116020856848371,
          0.07236957394666355,
          -0.020046737054977525,
          0.741713920262743,
          1.1223507918392335,
          -0.11670803418824341,
          0.046439721816231926,
          -0.16332874992211313,
          1.1223507918392335,
          0.10827557931125711,
          -0.12861296554598067,
          0.22078382133150287,
          -0.12712558527047949,
          0.1041356610048661,
          0.09703270637929914,
          -0.09573894291574624,
          -0.20913398185944712,
          -0.05641590197794652,
          -0.045928010678678285,
          -0.02454460459065185,
          -0.31531056752696923,
          0.5513717047100201,
          -0.016944644147410433,
          -0.03935308231182639,
          -1.0459241651729703,
          0.1975380435210334,
          0.0037741648002324463,
          1.1223507918392335,
          -0.025120359767785504,
          -0.025120359767785504,
          -0.1443281584933332,
          0.008481400735524641,
          -0.4388650673525883,
          -0.4388650673525883,
          -1.0459241651729703,
          0.046439721816231926,
          0.08058235015712475,
          0.0786360343923399,
          0.023496945294820368,
          -0.09737582130274916,
          -0.16778841254493435,
          0.059213712892398275,
          0.01423300587379283,
          0.007116020856848371,
          0.07236957394666355,
          -0.020046737054977525,
          0.741713920262743,
          1.1223507918392335,
          -0.11670803418824341,
          0.046439721816231926,
          -0.16332874992211313,
          1.1223507918392335,
          0.10827557931125711,
          -0.12861296554598067,
          0.22078382133150287,
          -0.12712558527047949,
          0.1041356610048661,
          0.09703270637929914,
          -0.09573894291574624,
          -0.20913398185944712,
          -0.05641590197794652,
          -0.045928010678678285,
          -0.02454460459065185,
          -0.31531056752696923,
          0.5513717047100201,
          -0.016944644147410433,
          -1.0459241651729703,
          0.1975380435210334,
          0.0037741648002324463,
          1.1223507918392335,
          -0.025120359767785504,
          -0.025120359767785504,
          -0.1443281584933332,
          0.008481400735524641,
          -0.4388650673525883,
          -0.4388650673525883,
          -1.0459241651729703,
          0.046439721816231926,
          0.08058235015712475,
          0.0786360343923399,
          0.023496945294820368,
          -0.09737582130274916,
          -0.16778841254493435,
          0.059213712892398275,
          0.01423300587379283,
          0.007116020856848371,
          0.07236957394666355,
          -0.020046737054977525,
          0.741713920262743,
          1.1223507918392335,
          -0.11670803418824341,
          0.046439721816231926,
          -0.16332874992211313,
          1.1223507918392335,
          0.10827557931125711,
          -0.12861296554598067,
          0.22078382133150287,
          -0.12712558527047949,
          0.1041356610048661,
          0.09703270637929914,
          -0.09573894291574624,
          -0.20913398185944712,
          -0.05641590197794652,
          -0.045928010678678285,
          -0.02454460459065185,
          -0.31531056752696923,
          0.5513717047100201,
          -1.0459241651729703,
          0.1975380435210334,
          0.0037741648002324463,
          1.1223507918392335,
          -0.025120359767785504,
          -0.025120359767785504,
          -0.1443281584933332,
          0.008481400735524641,
          -0.4388650673525883,
          -0.4388650673525883,
          -1.0459241651729703,
          0.046439721816231926,
          0.08058235015712475,
          0.0786360343923399,
          0.023496945294820368,
          -0.09737582130274916,
          -0.16778841254493435,
          0.059213712892398275,
          0.01423300587379283,
          0.007116020856848371,
          0.07236957394666355,
          -0.020046737054977525,
          0.741713920262743,
          1.1223507918392335,
          -0.11670803418824341,
          0.046439721816231926,
          -0.16332874992211313,
          1.1223507918392335,
          0.10827557931125711,
          -0.12861296554598067,
          0.22078382133150287,
          -0.12712558527047949,
          0.1041356610048661,
          0.09703270637929914,
          -0.09573894291574624,
          -0.20913398185944712,
          -0.05641590197794652,
          -0.045928010678678285,
          -0.02454460459065185,
          -0.31531056752696923,
          -1.0459241651729703,
          0.1975380435210334,
          0.0037741648002324463,
          1.1223507918392335,
          -0.025120359767785504,
          -0.025120359767785504,
          -0.1443281584933332,
          0.008481400735524641,
          -0.4388650673525883,
          -0.4388650673525883,
          -1.0459241651729703,
          0.046439721816231926,
          0.08058235015712475,
          0.0786360343923399,
          0.023496945294820368,
          -0.09737582130274916,
          -0.16778841254493435,
          0.059213712892398275,
          0.01423300587379283,
          0.007116020856848371,
          0.07236957394666355,
          -0.020046737054977525,
          0.741713920262743,
          1.1223507918392335,
          -0.11670803418824341,
          0.046439721816231926,
          -0.16332874992211313,
          1.1223507918392335,
          0.10827557931125711,
          -0.12861296554598067,
          0.22078382133150287,
          -0.12712558527047949,
          0.1041356610048661,
          0.09703270637929914,
          -0.09573894291574624,
          -0.20913398185944712,
          -0.05641590197794652,
          -0.045928010678678285,
          -0.02454460459065185,
          -1.0459241651729703,
          0.1975380435210334,
          0.0037741648002324463,
          1.1223507918392335,
          -0.025120359767785504,
          -0.025120359767785504,
          -0.1443281584933332,
          0.008481400735524641,
          -0.4388650673525883,
          -0.4388650673525883,
          -1.0459241651729703,
          0.046439721816231926,
          0.08058235015712475,
          0.0786360343923399,
          0.023496945294820368,
          -0.09737582130274916,
          -0.16778841254493435,
          0.059213712892398275,
          0.01423300587379283,
          0.007116020856848371,
          0.07236957394666355,
          -0.020046737054977525,
          0.741713920262743,
          1.1223507918392335,
          -0.11670803418824341,
          0.046439721816231926,
          -0.16332874992211313,
          1.1223507918392335,
          0.10827557931125711,
          -0.12861296554598067,
          0.22078382133150287,
          -0.12712558527047949,
          0.1041356610048661,
          0.09703270637929914,
          -0.09573894291574624,
          -0.20913398185944712,
          -0.05641590197794652,
          -0.045928010678678285,
          -1.0459241651729703,
          0.1975380435210334,
          0.0037741648002324463,
          1.1223507918392335,
          -0.025120359767785504,
          -0.025120359767785504,
          -0.1443281584933332,
          0.008481400735524641,
          -0.4388650673525883,
          -0.4388650673525883,
          -1.0459241651729703,
          0.046439721816231926,
          0.08058235015712475,
          0.0786360343923399,
          0.023496945294820368,
          -0.09737582130274916,
          -0.16778841254493435,
          0.059213712892398275,
          0.01423300587379283,
          0.007116020856848371,
          0.07236957394666355,
          -0.020046737054977525,
          0.741713920262743,
          1.1223507918392335,
          -0.11670803418824341,
          0.046439721816231926,
          -0.16332874992211313,
          1.1223507918392335,
          0.10827557931125711,
          -0.12861296554598067,
          0.22078382133150287,
          -0.12712558527047949,
          0.1041356610048661,
          0.09703270637929914,
          -0.09573894291574624,
          -0.20913398185944712,
          -0.05641590197794652,
          -1.0459241651729703,
          0.1975380435210334,
          0.0037741648002324463,
          1.1223507918392335,
          -0.025120359767785504,
          -0.025120359767785504,
          -0.1443281584933332,
          0.008481400735524641,
          -0.4388650673525883,
          -0.4388650673525883,
          -1.0459241651729703,
          0.046439721816231926,
          0.08058235015712475,
          0.0786360343923399,
          0.023496945294820368,
          -0.09737582130274916,
          -0.16778841254493435,
          0.059213712892398275,
          0.01423300587379283,
          0.007116020856848371,
          0.07236957394666355,
          -0.020046737054977525,
          0.741713920262743,
          1.1223507918392335,
          -0.11670803418824341,
          0.046439721816231926,
          -0.16332874992211313,
          1.1223507918392335,
          0.10827557931125706,
          -0.12861296554598067,
          0.22078382133150287,
          -0.12712558527047949,
          0.1041356610048661,
          0.09703270637929914,
          -0.09573894291574624,
          -0.20913398185944712,
          -1.0459241651729703,
          0.1975380435210334,
          0.0037741648002324463,
          1.1223507918392335,
          -0.025120359767785504,
          -0.025120359767785504,
          -0.1443281584933332,
          0.008481400735524641,
          -0.4388650673525883,
          -0.4388650673525883,
          -1.0459241651729703,
          0.046439721816231926,
          0.08058235015712475,
          0.0786360343923399,
          0.023496945294820368,
          -0.09737582130274916,
          -0.16778841254493435,
          0.059213712892398275,
          0.01423300587379283,
          0.007116020856848371,
          0.07236957394666355,
          -0.020046737054977525,
          0.741713920262743,
          1.1223507918392335,
          -0.11670803418824341,
          0.046439721816231926,
          -0.16332874992211313,
          1.1223507918392335,
          0.10827557931125711,
          -0.12861296554598067,
          0.22078382133150287,
          -0.12712558527047949,
          0.1041356610048661,
          0.09703270637929914,
          -0.09573894291574624,
          -1.0459241651729703,
          0.1975380435210334,
          0.0037741648002324463,
          1.1223507918392335,
          -0.025120359767785504,
          -0.025120359767785504,
          -0.1443281584933332,
          0.008481400735524641,
          -0.4388650673525883,
          -0.4388650673525883,
          -1.0459241651729703,
          0.046439721816231926,
          0.08058235015712475,
          0.0786360343923399,
          0.023496945294820368,
          -0.09737582130274916,
          -0.16778841254493435,
          0.059213712892398275,
          0.01423300587379283,
          0.007116020856848371,
          0.07236957394666355,
          -0.020046737054977525,
          0.741713920262743,
          1.1223507918392335,
          -0.11670803418824341,
          0.046439721816231926,
          -0.16332874992211313,
          1.1223507918392335,
          0.10827557931125711,
          -0.12861296554598067,
          0.22078382133150287,
          -0.12712558527047949,
          0.1041356610048661,
          0.09703270637929914,
          -1.0459241651729703,
          0.1975380435210334,
          0.0037741648002324463,
          1.1223507918392335,
          -0.025120359767785504,
          -0.025120359767785504,
          -0.1443281584933332,
          0.008481400735524641,
          -0.4388650673525883,
          -0.4388650673525883,
          -1.0459241651729703,
          0.046439721816231926,
          0.08058235015712475,
          0.0786360343923399,
          0.023496945294820368,
          -0.09737582130274916,
          -0.16778841254493435,
          0.059213712892398275,
          0.01423300587379283,
          0.007116020856848371,
          0.07236957394666355,
          -0.020046737054977525,
          0.741713920262743,
          1.1223507918392335,
          -0.11670803418824341,
          0.046439721816231926,
          -0.16332874992211313,
          1.1223507918392335,
          0.10827557931125711,
          -0.12861296554598067,
          0.22078382133150287,
          -0.12712558527047949,
          0.1041356610048661,
          -1.0459241651729703,
          0.1975380435210334,
          0.0037741648002324463,
          1.1223507918392335,
          -0.025120359767785504,
          -0.025120359767785504,
          -0.1443281584933332,
          0.008481400735524641,
          -0.4388650673525883,
          -0.4388650673525883,
          -1.0459241651729703,
          0.046439721816231926,
          0.08058235015712475,
          0.0786360343923399,
          0.023496945294820368,
          -0.09737582130274916,
          -0.16778841254493435,
          0.059213712892398275,
          0.01423300587379283,
          0.007116020856848371,
          0.07236957394666355,
          -0.020046737054977525,
          0.741713920262743,
          1.1223507918392335,
          -0.11670803418824341,
          0.046439721816231926,
          -0.16332874992211313,
          1.1223507918392335,
          0.10827557931125711,
          -0.12861296554598067,
          0.22078382133150287,
          -0.12712558527047949,
          -1.0459241651729703,
          0.1975380435210334,
          0.0037741648002324463,
          1.1223507918392335,
          -0.025120359767785504,
          -0.025120359767785504,
          -0.1443281584933332,
          0.008481400735524641,
          -0.4388650673525883,
          -0.4388650673525883,
          -1.0459241651729703,
          0.046439721816231926,
          0.08058235015712475,
          0.0786360343923399,
          0.023496945294820368,
          -0.09737582130274916,
          -0.16778841254493435,
          0.059213712892398275,
          0.01423300587379283,
          0.007116020856848371,
          0.07236957394666355,
          -0.020046737054977525,
          0.741713920262743,
          1.1223507918392335,
          -0.11670803418824341,
          0.046439721816231926,
          -0.16332874992211313,
          1.1223507918392335,
          0.10827557931125711,
          -0.12861296554598067,
          0.22078382133150287,
          -1.0459241651729703,
          0.1975380435210334,
          0.0037741648002324463,
          1.1223507918392335,
          -0.025120359767785504,
          -0.025120359767785504,
          -0.1443281584933332,
          0.008481400735524641,
          -0.4388650673525883,
          -0.4388650673525883,
          -1.0459241651729703,
          0.046439721816231926,
          0.08058235015712475,
          0.0786360343923399,
          0.023496945294820368,
          -0.09737582130274916,
          -0.16778841254493435,
          0.059213712892398275,
          0.01423300587379283,
          0.007116020856848371,
          0.07236957394666355,
          -0.020046737054977525,
          0.741713920262743,
          1.1223507918392335,
          -0.11670803418824341,
          0.046439721816231926,
          -0.16332874992211313,
          1.1223507918392335,
          0.10827557931125711,
          -0.12861296554598067,
          -1.0459241651729703,
          0.1975380435210334,
          0.0037741648002324463,
          1.1223507918392335,
          -0.025120359767785504,
          -0.025120359767785504,
          -0.1443281584933332,
          0.008481400735524641,
          -0.4388650673525883,
          -0.4388650673525883,
          -1.0459241651729703,
          0.046439721816231926,
          0.08058235015712475,
          0.0786360343923399,
          0.023496945294820368,
          -0.09737582130274916,
          -0.16778841254493435,
          0.059213712892398275,
          0.01423300587379283,
          0.007116020856848371,
          0.07236957394666355,
          -0.020046737054977525,
          0.741713920262743,
          1.1223507918392335,
          -0.11670803418824341,
          0.046439721816231926,
          -0.16332874992211313,
          1.1223507918392335,
          0.10827557931125711,
          -1.0459241651729703,
          0.1975380435210334,
          0.0037741648002324463,
          1.1223507918392335,
          -0.025120359767785504,
          -0.025120359767785504,
          -0.1443281584933332,
          0.008481400735524641,
          -0.4388650673525883,
          -0.4388650673525883,
          -1.0459241651729703,
          0.046439721816231926,
          0.08058235015712475,
          0.0786360343923399,
          0.023496945294820368,
          -0.09737582130274916,
          -0.16778841254493435,
          0.059213712892398275,
          0.01423300587379283,
          0.007116020856848371,
          0.07236957394666355,
          -0.020046737054977525,
          0.741713920262743,
          1.1223507918392335,
          -0.11670803418824341,
          0.046439721816231926,
          -0.16332874992211313,
          1.1223507918392335,
          -1.0459241651729703,
          0.1975380435210334,
          0.0037741648002324463,
          1.1223507918392335,
          -0.025120359767785504,
          -0.025120359767785504,
          -0.1443281584933332,
          0.008481400735524641,
          -0.4388650673525883,
          -0.4388650673525883,
          -1.0459241651729703,
          0.046439721816231926,
          0.08058235015712475,
          0.0786360343923399,
          0.023496945294820368,
          -0.09737582130274916,
          -0.16778841254493435,
          0.059213712892398275,
          0.01423300587379283,
          0.007116020856848371,
          0.07236957394666355,
          -0.020046737054977525,
          0.741713920262743,
          1.1223507918392335,
          -0.11670803418824341,
          0.046439721816231926,
          -0.16332874992211313,
          -1.0459241651729703,
          0.1975380435210334,
          0.0037741648002324463,
          1.1223507918392335,
          -0.025120359767785504,
          -0.025120359767785504,
          -0.1443281584933332,
          0.008481400735524641,
          -0.4388650673525883,
          -0.4388650673525883,
          -1.0459241651729703,
          0.046439721816231926,
          0.08058235015712475,
          0.0786360343923399,
          0.023496945294820368,
          -0.09737582130274916,
          -0.16778841254493435,
          0.059213712892398275,
          0.01423300587379283,
          0.007116020856848371,
          0.07236957394666355,
          -0.020046737054977525,
          0.741713920262743,
          1.1223507918392335,
          -0.11670803418824341,
          0.046439721816231926,
          -1.0459241651729703,
          0.1975380435210334,
          0.0037741648002324463,
          1.1223507918392335,
          -0.025120359767785504,
          -0.025120359767785504,
          -0.1443281584933332,
          0.008481400735524641,
          -0.4388650673525883,
          -0.4388650673525883,
          -1.0459241651729703,
          0.046439721816231926,
          0.08058235015712475,
          0.0786360343923399,
          0.023496945294820368,
          -0.09737582130274916,
          -0.16778841254493435,
          0.059213712892398275,
          0.01423300587379283,
          0.007116020856848371,
          0.07236957394666355,
          -0.020046737054977525,
          0.741713920262743,
          1.1223507918392335,
          -0.11670803418824341,
          -1.0459241651729703,
          0.1975380435210334,
          0.0037741648002324463,
          1.1223507918392335,
          -0.025120359767785504,
          -0.025120359767785504,
          -0.1443281584933332,
          0.008481400735524641,
          -0.4388650673525883,
          -0.4388650673525883,
          -1.0459241651729703,
          0.046439721816231926,
          0.08058235015712475,
          0.0786360343923399,
          0.023496945294820368,
          -0.09737582130274916,
          -0.16778841254493435,
          0.059213712892398275,
          0.01423300587379283,
          0.007116020856848371,
          0.07236957394666355,
          -0.020046737054977525,
          0.741713920262743,
          1.1223507918392335,
          -1.0459241651729703,
          0.1975380435210334,
          0.0037741648002324463,
          1.1223507918392335,
          -0.025120359767785504,
          -0.025120359767785504,
          -0.1443281584933332,
          0.008481400735524641,
          -0.4388650673525883,
          -0.4388650673525883,
          -1.0459241651729703,
          0.046439721816231926,
          0.08058235015712475,
          0.0786360343923399,
          0.023496945294820368,
          -0.09737582130274916,
          -0.16778841254493435,
          0.059213712892398275,
          0.01423300587379283,
          0.007116020856848371,
          0.07236957394666355,
          -0.020046737054977525,
          0.741713920262743,
          -1.0459241651729703,
          0.1975380435210334,
          0.0037741648002324463,
          1.1223507918392335,
          -0.025120359767785504,
          -0.025120359767785504,
          -0.1443281584933332,
          0.008481400735524641,
          -0.4388650673525883,
          -0.4388650673525883,
          -1.0459241651729703,
          0.046439721816231926,
          0.08058235015712475,
          0.0786360343923399,
          0.023496945294820368,
          -0.09737582130274916,
          -0.16778841254493435,
          0.059213712892398275,
          0.01423300587379283,
          0.007116020856848371,
          0.07236957394666355,
          -0.020046737054977525,
          -1.0459241651729703,
          0.1975380435210334,
          0.0037741648002324463,
          1.1223507918392335,
          -0.025120359767785504,
          -0.025120359767785504,
          -0.1443281584933332,
          0.008481400735524641,
          -0.4388650673525883,
          -0.4388650673525883,
          -1.0459241651729703,
          0.046439721816231926,
          0.08058235015712475,
          0.0786360343923399,
          0.023496945294820368,
          -0.09737582130274916,
          -0.16778841254493435,
          0.059213712892398275,
          0.01423300587379283,
          0.007116020856848371,
          0.07236957394666355,
          -1.0459241651729703,
          0.1975380435210334,
          0.0037741648002324463,
          1.1223507918392335,
          -0.025120359767785504,
          -0.025120359767785504,
          -0.1443281584933332,
          0.008481400735524641,
          -0.4388650673525883,
          -0.4388650673525883,
          -1.0459241651729703,
          0.046439721816231926,
          0.08058235015712475,
          0.0786360343923399,
          0.023496945294820368,
          -0.09737582130274916,
          -0.16778841254493435,
          0.059213712892398275,
          0.01423300587379283,
          0.007116020856848371,
          -1.0459241651729703,
          0.1975380435210334,
          0.0037741648002324463,
          1.1223507918392335,
          -0.025120359767785504,
          -0.025120359767785504,
          -0.1443281584933332,
          0.008481400735524641,
          -0.4388650673525883,
          -0.4388650673525883,
          -1.0459241651729703,
          0.046439721816231926,
          0.08058235015712475,
          0.0786360343923399,
          0.023496945294820368,
          -0.09737582130274916,
          -0.16778841254493435,
          0.059213712892398275,
          0.01423300587379283,
          -1.0459241651729703,
          0.1975380435210334,
          0.0037741648002324463,
          1.1223507918392335,
          -0.025120359767785504,
          -0.025120359767785504,
          -0.1443281584933332,
          0.008481400735524641,
          -0.4388650673525883,
          -0.4388650673525883,
          -1.0459241651729703,
          0.046439721816231926,
          0.08058235015712475,
          0.0786360343923399,
          0.023496945294820368,
          -0.09737582130274916,
          -0.16778841254493435,
          0.059213712892398275,
          -1.0459241651729703,
          0.1975380435210334,
          0.0037741648002324463,
          1.1223507918392335,
          -0.025120359767785504,
          -0.025120359767785504,
          -0.1443281584933332,
          0.008481400735524641,
          -0.4388650673525883,
          -0.4388650673525883,
          -1.0459241651729703,
          0.046439721816231926,
          0.08058235015712475,
          0.0786360343923399,
          0.023496945294820368,
          -0.09737582130274916,
          -0.16778841254493435,
          -1.0459241651729703,
          0.1975380435210334,
          0.0037741648002324463,
          1.1223507918392335,
          -0.025120359767785504,
          -0.025120359767785504,
          -0.1443281584933332,
          0.008481400735524641,
          -0.4388650673525883,
          -0.4388650673525883,
          -1.0459241651729703,
          0.046439721816231926,
          0.08058235015712475,
          0.0786360343923399,
          0.023496945294820368,
          -0.09737582130274916,
          -1.0459241651729703,
          0.1975380435210334,
          0.0037741648002324463,
          1.1223507918392335,
          -0.025120359767785504,
          -0.025120359767785504,
          -0.1443281584933332,
          0.008481400735524641,
          -0.4388650673525883,
          -0.4388650673525883,
          -1.0459241651729703,
          0.046439721816231926,
          0.08058235015712475,
          0.0786360343923399,
          0.023496945294820368,
          -1.0459241651729703,
          0.1975380435210334,
          0.0037741648002324463,
          1.1223507918392335,
          -0.025120359767785504,
          -0.025120359767785504,
          -0.1443281584933332,
          0.008481400735524641,
          -0.4388650673525883,
          -0.4388650673525883,
          -1.0459241651729703,
          0.046439721816231926,
          0.08058235015712475,
          0.0786360343923399,
          -1.0459241651729703,
          0.1975380435210334,
          0.0037741648002324463,
          1.1223507918392335,
          -0.025120359767785504,
          -0.025120359767785504,
          -0.1443281584933332,
          0.008481400735524641,
          -0.4388650673525883,
          -0.4388650673525883,
          -1.0459241651729703,
          0.046439721816231926,
          0.08058235015712475,
          -1.0459241651729703,
          0.1975380435210334,
          0.0037741648002324463,
          1.1223507918392335,
          -0.025120359767785504,
          -0.025120359767785504,
          -0.1443281584933332,
          0.008481400735524641,
          -0.4388650673525883,
          -0.4388650673525883,
          -1.0459241651729703,
          0.046439721816231926,
          -1.0459241651729703,
          0.1975380435210334,
          0.0037741648002324463,
          1.1223507918392335,
          -0.025120359767785504,
          -0.025120359767785504,
          -0.1443281584933332,
          0.008481400735524641,
          -0.4388650673525883,
          -0.4388650673525883,
          -1.0459241651729703,
          -1.0459241651729703,
          0.1975380435210334,
          0.0037741648002324463,
          1.1223507918392335,
          -0.025120359767785504,
          -0.025120359767785504,
          -0.1443281584933332,
          0.008481400735524641,
          -0.4388650673525883,
          -0.4388650673525883,
          -1.0459241651729703,
          0.1975380435210334,
          0.0037741648002324463,
          1.1223507918392335,
          -0.025120359767785504,
          -0.025120359767785504,
          -0.1443281584933332,
          0.008481400735524641,
          -0.4388650673525883,
          -1.0459241651729703,
          0.1975380435210334,
          0.0037741648002324463,
          1.1223507918392335,
          -0.025120359767785504,
          -0.025120359767785504,
          -0.1443281584933332,
          0.008481400735524641,
          -1.0459241651729703,
          0.1975380435210334,
          0.0037741648002324463,
          1.1223507918392335,
          -0.025120359767785504,
          -0.025120359767785504,
          -0.1443281584933332,
          -1.0459241651729703,
          0.1975380435210334,
          0.0037741648002324463,
          1.1223507918392335,
          -0.025120359767785504,
          -0.025120359767785504,
          -1.0459241651729703,
          0.1975380435210334,
          0.0037741648002324463,
          1.1223507918392335,
          -0.025120359767785504,
          -1.0459241651729703,
          0.1975380435210334,
          0.0037741648002324463,
          1.1223507918392335,
          -1.0459241651729703,
          0.1975380435210334,
          0.0037741648002324463,
          -1.0459241651729703,
          0.1975380435210334,
          -1.0459241651729703
         ],
         "xaxis": "x",
         "y": [
          -1.1415596974886069,
          0.30107166333453805,
          0.026823163246690818,
          -0.7080945774019993,
          0.11249947565103077,
          0.11249947565103077,
          0.25544716764819553,
          0.007352705573350438,
          0.6360031295720179,
          0.6360031295720179,
          -1.1415596974886058,
          0.15892146785134462,
          0.11125329519264829,
          0.21525158956874432,
          0.21165699164048044,
          0.1811511015213276,
          0.3077605994039534,
          0.27045185545191064,
          -0.051921421940647194,
          0.1331327785896446,
          0.12494196465230914,
          0.13791620334572394,
          -0.3673025060826155,
          -0.7080945774019993,
          0.10879761748221287,
          0.15892146785134462,
          -0.18900666699886629,
          -0.7080945774019993,
          0.07837477516683103,
          0.0908561238863885,
          0.25051931142729644,
          0.08630022335998613,
          0.29328187619621837,
          0.10491508712239159,
          0.024719692541853633,
          0.38949110627601913,
          0.30193475653839374,
          0.014614671117515465,
          0.11535075024003102,
          -0.21146905413141606,
          -0.34187043224441094,
          0.15080024709362347,
          0.04340834302269553,
          0.1464194129032352,
          0.04503573295045221,
          0.009172380830175103,
          -0.052252130477628556,
          0.020264284586362064,
          0.1703685503650789,
          -0.006468543915322755,
          -1.1415596974886058,
          0.30107166333453816,
          0.02682316324669093,
          -0.7080945774019993,
          0.11249947565103077,
          0.11249947565103077,
          0.25544716764819553,
          0.007352705573350438,
          0.6360031295720179,
          0.6360031295720179,
          -1.1415596974886058,
          0.15892146785134462,
          0.11125329519264829,
          0.21525158956874432,
          0.21165699164048044,
          0.1811511015213276,
          0.3077605994039534,
          0.27045185545191064,
          -0.051921421940647194,
          0.1331327785896446,
          0.12494196465230914,
          0.13791620334572394,
          -0.3673025060826155,
          -0.7080945774019993,
          0.10879761748221287,
          0.15892146785134462,
          -0.18900666699886629,
          -0.7080945774019993,
          0.07837477516683103,
          0.0908561238863885,
          0.25051931142729644,
          0.08630022335998613,
          0.29328187619621837,
          0.10491508712239159,
          0.024719692541853633,
          0.38949110627601913,
          0.30193475653839374,
          0.014614671117515465,
          0.11535075024003102,
          -0.21146905413141606,
          -0.34187043224441094,
          0.15080024709362347,
          0.04340834302269553,
          0.1464194129032352,
          0.04503573295045221,
          0.009172380830175103,
          -0.052252130477628556,
          0.020264284586362064,
          0.1703685503650789,
          -1.1415596974886058,
          0.30107166333453816,
          0.02682316324669093,
          -0.7080945774019993,
          0.11249947565103077,
          0.11249947565103077,
          0.25544716764819553,
          0.007352705573350438,
          0.6360031295720179,
          0.6360031295720179,
          -1.1415596974886058,
          0.15892146785134462,
          0.11125329519264829,
          0.21525158956874432,
          0.21165699164048044,
          0.1811511015213276,
          0.3077605994039534,
          0.27045185545191064,
          -0.051921421940647194,
          0.1331327785896446,
          0.12494196465230914,
          0.13791620334572394,
          -0.3673025060826155,
          -0.7080945774019993,
          0.10879761748221287,
          0.15892146785134462,
          -0.18900666699886629,
          -0.7080945774019993,
          0.07837477516683103,
          0.0908561238863885,
          0.25051931142729644,
          0.08630022335998613,
          0.29328187619621837,
          0.10491508712239159,
          0.024719692541853633,
          0.38949110627601913,
          0.30193475653839374,
          0.014614671117515465,
          0.11535075024003102,
          -0.21146905413141606,
          -0.34187043224441094,
          0.15080024709362347,
          0.04340834302269553,
          0.1464194129032352,
          0.04503573295045221,
          0.009172380830175103,
          -0.052252130477628556,
          0.020264284586362064,
          -1.1415596974886058,
          0.30107166333453816,
          0.02682316324669093,
          -0.7080945774019993,
          0.11249947565103077,
          0.11249947565103077,
          0.25544716764819553,
          0.007352705573350438,
          0.6360031295720179,
          0.6360031295720179,
          -1.1415596974886058,
          0.15892146785134462,
          0.11125329519264829,
          0.21525158956874432,
          0.21165699164048044,
          0.1811511015213276,
          0.3077605994039534,
          0.27045185545191064,
          -0.051921421940647194,
          0.1331327785896446,
          0.12494196465230914,
          0.13791620334572394,
          -0.3673025060826155,
          -0.7080945774019993,
          0.10879761748221287,
          0.15892146785134462,
          -0.18900666699886629,
          -0.7080945774019993,
          0.07837477516683103,
          0.0908561238863885,
          0.25051931142729644,
          0.08630022335998613,
          0.29328187619621837,
          0.10491508712239159,
          0.024719692541853633,
          0.38949110627601913,
          0.30193475653839374,
          0.014614671117515465,
          0.11535075024003102,
          -0.21146905413141606,
          -0.34187043224441094,
          0.15080024709362347,
          0.04340834302269553,
          0.1464194129032352,
          0.04503573295045221,
          0.009172380830175103,
          -0.052252130477628556,
          -1.1415596974886058,
          0.30107166333453816,
          0.02682316324669093,
          -0.7080945774019993,
          0.11249947565103077,
          0.11249947565103077,
          0.25544716764819553,
          0.007352705573350438,
          0.6360031295720179,
          0.6360031295720179,
          -1.1415596974886058,
          0.15892146785134462,
          0.11125329519264829,
          0.21525158956874432,
          0.21165699164048044,
          0.1811511015213276,
          0.3077605994039534,
          0.27045185545191064,
          -0.051921421940647194,
          0.1331327785896446,
          0.12494196465230914,
          0.13791620334572394,
          -0.3673025060826155,
          -0.7080945774019993,
          0.10879761748221287,
          0.15892146785134462,
          -0.18900666699886629,
          -0.7080945774019993,
          0.07837477516683103,
          0.0908561238863885,
          0.25051931142729644,
          0.08630022335998613,
          0.29328187619621837,
          0.10491508712239159,
          0.024719692541853633,
          0.38949110627601913,
          0.30193475653839374,
          0.014614671117515465,
          0.11535075024003102,
          -0.21146905413141606,
          -0.34187043224441094,
          0.15080024709362347,
          0.04340834302269553,
          0.1464194129032352,
          0.04503573295045221,
          0.009172380830175103,
          -1.1415596974886058,
          0.30107166333453816,
          0.02682316324669093,
          -0.7080945774019993,
          0.11249947565103077,
          0.11249947565103077,
          0.25544716764819553,
          0.007352705573350438,
          0.6360031295720179,
          0.6360031295720179,
          -1.1415596974886058,
          0.15892146785134462,
          0.11125329519264829,
          0.21525158956874432,
          0.21165699164048044,
          0.1811511015213276,
          0.3077605994039534,
          0.27045185545191064,
          -0.051921421940647194,
          0.1331327785896446,
          0.12494196465230914,
          0.13791620334572394,
          -0.3673025060826155,
          -0.7080945774019993,
          0.10879761748221287,
          0.15892146785134462,
          -0.18900666699886629,
          -0.7080945774019993,
          0.07837477516683103,
          0.0908561238863885,
          0.25051931142729644,
          0.08630022335998613,
          0.29328187619621837,
          0.10491508712239159,
          0.024719692541853633,
          0.38949110627601913,
          0.30193475653839374,
          0.014614671117515465,
          0.11535075024003102,
          -0.21146905413141606,
          -0.34187043224441094,
          0.15080024709362347,
          0.04340834302269553,
          0.1464194129032352,
          0.04503573295045221,
          -1.1415596974886058,
          0.30107166333453816,
          0.02682316324669093,
          -0.7080945774019993,
          0.11249947565103077,
          0.11249947565103077,
          0.25544716764819553,
          0.007352705573350438,
          0.6360031295720179,
          0.6360031295720179,
          -1.1415596974886058,
          0.15892146785134462,
          0.11125329519264829,
          0.21525158956874432,
          0.21165699164048044,
          0.1811511015213276,
          0.3077605994039534,
          0.27045185545191064,
          -0.051921421940647194,
          0.1331327785896446,
          0.12494196465230914,
          0.13791620334572394,
          -0.3673025060826155,
          -0.7080945774019993,
          0.10879761748221287,
          0.15892146785134462,
          -0.18900666699886629,
          -0.7080945774019993,
          0.07837477516683103,
          0.0908561238863885,
          0.25051931142729644,
          0.08630022335998613,
          0.29328187619621837,
          0.10491508712239159,
          0.024719692541853633,
          0.38949110627601913,
          0.30193475653839374,
          0.014614671117515465,
          0.11535075024003102,
          -0.21146905413141606,
          -0.34187043224441094,
          0.15080024709362347,
          0.04340834302269553,
          0.1464194129032352,
          -1.1415596974886058,
          0.30107166333453816,
          0.02682316324669093,
          -0.7080945774019993,
          0.11249947565103077,
          0.11249947565103077,
          0.25544716764819553,
          0.007352705573350438,
          0.6360031295720179,
          0.6360031295720179,
          -1.1415596974886058,
          0.15892146785134462,
          0.11125329519264829,
          0.21525158956874432,
          0.21165699164048044,
          0.1811511015213276,
          0.3077605994039534,
          0.27045185545191064,
          -0.051921421940647194,
          0.1331327785896446,
          0.12494196465230914,
          0.13791620334572394,
          -0.3673025060826155,
          -0.7080945774019993,
          0.10879761748221287,
          0.15892146785134462,
          -0.18900666699886629,
          -0.7080945774019993,
          0.07837477516683103,
          0.0908561238863885,
          0.25051931142729644,
          0.08630022335998613,
          0.29328187619621837,
          0.10491508712239159,
          0.024719692541853633,
          0.38949110627601913,
          0.30193475653839374,
          0.014614671117515465,
          0.11535075024003102,
          -0.21146905413141606,
          -0.34187043224441094,
          0.15080024709362347,
          0.04340834302269553,
          -1.1415596974886058,
          0.30107166333453816,
          0.02682316324669093,
          -0.7080945774019993,
          0.11249947565103077,
          0.11249947565103077,
          0.25544716764819553,
          0.007352705573350438,
          0.6360031295720179,
          0.6360031295720179,
          -1.1415596974886058,
          0.15892146785134462,
          0.11125329519264829,
          0.21525158956874432,
          0.21165699164048044,
          0.1811511015213276,
          0.3077605994039534,
          0.27045185545191064,
          -0.051921421940647194,
          0.1331327785896446,
          0.12494196465230914,
          0.13791620334572394,
          -0.3673025060826155,
          -0.7080945774019993,
          0.10879761748221287,
          0.15892146785134462,
          -0.18900666699886629,
          -0.7080945774019993,
          0.07837477516683103,
          0.0908561238863885,
          0.25051931142729644,
          0.08630022335998613,
          0.29328187619621837,
          0.10491508712239159,
          0.024719692541853633,
          0.38949110627601913,
          0.30193475653839374,
          0.014614671117515465,
          0.11535075024003102,
          -0.21146905413141606,
          -0.34187043224441094,
          0.15080024709362347,
          -1.1415596974886058,
          0.30107166333453816,
          0.02682316324669093,
          -0.7080945774019993,
          0.11249947565103077,
          0.11249947565103077,
          0.25544716764819553,
          0.007352705573350438,
          0.6360031295720179,
          0.6360031295720179,
          -1.1415596974886058,
          0.15892146785134462,
          0.11125329519264829,
          0.21525158956874432,
          0.21165699164048044,
          0.1811511015213276,
          0.3077605994039534,
          0.27045185545191064,
          -0.051921421940647194,
          0.1331327785896446,
          0.12494196465230914,
          0.13791620334572394,
          -0.3673025060826155,
          -0.7080945774019993,
          0.10879761748221287,
          0.15892146785134462,
          -0.18900666699886629,
          -0.7080945774019993,
          0.07837477516683103,
          0.0908561238863885,
          0.25051931142729644,
          0.08630022335998613,
          0.29328187619621837,
          0.10491508712239159,
          0.024719692541853633,
          0.38949110627601913,
          0.30193475653839374,
          0.014614671117515465,
          0.11535075024003102,
          -0.21146905413141606,
          -0.34187043224441094,
          -1.1415596974886058,
          0.30107166333453816,
          0.02682316324669093,
          -0.7080945774019993,
          0.11249947565103077,
          0.11249947565103077,
          0.25544716764819553,
          0.007352705573350438,
          0.6360031295720179,
          0.6360031295720179,
          -1.1415596974886058,
          0.15892146785134462,
          0.11125329519264829,
          0.21525158956874432,
          0.21165699164048044,
          0.1811511015213276,
          0.3077605994039534,
          0.27045185545191064,
          -0.051921421940647194,
          0.1331327785896446,
          0.12494196465230914,
          0.13791620334572394,
          -0.3673025060826155,
          -0.7080945774019993,
          0.10879761748221287,
          0.15892146785134462,
          -0.18900666699886629,
          -0.7080945774019993,
          0.07837477516683103,
          0.0908561238863885,
          0.25051931142729644,
          0.08630022335998613,
          0.29328187619621837,
          0.10491508712239159,
          0.024719692541853633,
          0.38949110627601913,
          0.30193475653839374,
          0.014614671117515465,
          0.11535075024003102,
          -0.21146905413141606,
          -1.1415596974886058,
          0.30107166333453816,
          0.02682316324669093,
          -0.7080945774019993,
          0.11249947565103077,
          0.11249947565103077,
          0.25544716764819553,
          0.007352705573350438,
          0.6360031295720179,
          0.6360031295720179,
          -1.1415596974886058,
          0.15892146785134462,
          0.11125329519264829,
          0.21525158956874432,
          0.21165699164048044,
          0.1811511015213276,
          0.3077605994039534,
          0.27045185545191064,
          -0.051921421940647194,
          0.1331327785896446,
          0.12494196465230914,
          0.13791620334572394,
          -0.3673025060826155,
          -0.7080945774019993,
          0.10879761748221287,
          0.15892146785134462,
          -0.18900666699886629,
          -0.7080945774019993,
          0.07837477516683103,
          0.0908561238863885,
          0.25051931142729644,
          0.08630022335998613,
          0.29328187619621837,
          0.10491508712239159,
          0.024719692541853633,
          0.38949110627601913,
          0.30193475653839374,
          0.014614671117515465,
          0.11535075024003102,
          -1.1415596974886058,
          0.30107166333453816,
          0.02682316324669093,
          -0.7080945774019993,
          0.11249947565103077,
          0.11249947565103077,
          0.25544716764819553,
          0.007352705573350438,
          0.6360031295720179,
          0.6360031295720179,
          -1.1415596974886058,
          0.15892146785134462,
          0.11125329519264829,
          0.21525158956874432,
          0.21165699164048044,
          0.1811511015213276,
          0.3077605994039534,
          0.27045185545191064,
          -0.051921421940647194,
          0.1331327785896446,
          0.12494196465230914,
          0.13791620334572394,
          -0.3673025060826155,
          -0.7080945774019993,
          0.10879761748221287,
          0.15892146785134462,
          -0.18900666699886629,
          -0.7080945774019993,
          0.07837477516683103,
          0.0908561238863885,
          0.25051931142729644,
          0.08630022335998613,
          0.29328187619621837,
          0.10491508712239159,
          0.024719692541853633,
          0.38949110627601913,
          0.30193475653839374,
          0.014614671117515465,
          -1.1415596974886058,
          0.30107166333453816,
          0.02682316324669093,
          -0.7080945774019993,
          0.11249947565103077,
          0.11249947565103077,
          0.25544716764819553,
          0.007352705573350438,
          0.6360031295720179,
          0.6360031295720179,
          -1.1415596974886058,
          0.15892146785134462,
          0.11125329519264829,
          0.21525158956874432,
          0.21165699164048044,
          0.1811511015213276,
          0.3077605994039534,
          0.27045185545191064,
          -0.051921421940647194,
          0.1331327785896446,
          0.12494196465230914,
          0.13791620334572394,
          -0.3673025060826155,
          -0.7080945774019993,
          0.10879761748221287,
          0.15892146785134462,
          -0.18900666699886629,
          -0.7080945774019993,
          0.07837477516683103,
          0.0908561238863885,
          0.25051931142729644,
          0.08630022335998613,
          0.29328187619621837,
          0.10491508712239159,
          0.024719692541853633,
          0.38949110627601913,
          0.30193475653839374,
          -1.1415596974886058,
          0.30107166333453816,
          0.02682316324669093,
          -0.7080945774019993,
          0.11249947565103077,
          0.11249947565103077,
          0.25544716764819553,
          0.007352705573350438,
          0.6360031295720179,
          0.6360031295720179,
          -1.1415596974886058,
          0.15892146785134462,
          0.11125329519264829,
          0.21525158956874432,
          0.21165699164048044,
          0.1811511015213276,
          0.3077605994039534,
          0.27045185545191064,
          -0.051921421940647194,
          0.1331327785896446,
          0.12494196465230914,
          0.13791620334572394,
          -0.3673025060826155,
          -0.7080945774019993,
          0.10879761748221287,
          0.15892146785134462,
          -0.18900666699886629,
          -0.7080945774019993,
          0.07837477516683103,
          0.0908561238863885,
          0.25051931142729644,
          0.08630022335998613,
          0.29328187619621837,
          0.10491508712239159,
          0.024719692541853633,
          0.38949110627601913,
          -1.1415596974886058,
          0.30107166333453816,
          0.02682316324669093,
          -0.7080945774019993,
          0.11249947565103077,
          0.11249947565103077,
          0.25544716764819553,
          0.007352705573350438,
          0.6360031295720179,
          0.6360031295720179,
          -1.1415596974886058,
          0.15892146785134462,
          0.11125329519264829,
          0.21525158956874432,
          0.21165699164048044,
          0.1811511015213276,
          0.3077605994039534,
          0.27045185545191064,
          -0.051921421940647194,
          0.1331327785896446,
          0.12494196465230914,
          0.13791620334572394,
          -0.3673025060826155,
          -0.7080945774019993,
          0.10879761748221287,
          0.15892146785134462,
          -0.18900666699886629,
          -0.7080945774019993,
          0.07837477516683103,
          0.0908561238863885,
          0.25051931142729644,
          0.08630022335998613,
          0.29328187619621837,
          0.10491508712239159,
          0.024719692541853633,
          -1.1415596974886058,
          0.30107166333453816,
          0.02682316324669093,
          -0.7080945774019993,
          0.11249947565103077,
          0.11249947565103077,
          0.25544716764819553,
          0.007352705573350438,
          0.6360031295720179,
          0.6360031295720179,
          -1.1415596974886058,
          0.15892146785134462,
          0.11125329519264829,
          0.21525158956874432,
          0.21165699164048044,
          0.1811511015213276,
          0.3077605994039534,
          0.27045185545191064,
          -0.051921421940647194,
          0.1331327785896446,
          0.12494196465230914,
          0.13791620334572394,
          -0.3673025060826155,
          -0.7080945774019993,
          0.10879761748221287,
          0.15892146785134462,
          -0.18900666699886629,
          -0.7080945774019993,
          0.07837477516683103,
          0.0908561238863885,
          0.25051931142729644,
          0.08630022335998613,
          0.29328187619621837,
          0.10491508712239159,
          -1.1415596974886058,
          0.30107166333453816,
          0.02682316324669093,
          -0.7080945774019993,
          0.11249947565103077,
          0.11249947565103077,
          0.25544716764819553,
          0.007352705573350438,
          0.6360031295720179,
          0.6360031295720179,
          -1.1415596974886058,
          0.15892146785134462,
          0.11125329519264829,
          0.21525158956874432,
          0.21165699164048044,
          0.1811511015213276,
          0.3077605994039534,
          0.27045185545191064,
          -0.051921421940647194,
          0.1331327785896446,
          0.12494196465230914,
          0.13791620334572394,
          -0.3673025060826155,
          -0.7080945774019993,
          0.10879761748221287,
          0.15892146785134462,
          -0.18900666699886629,
          -0.7080945774019993,
          0.07837477516683103,
          0.0908561238863885,
          0.25051931142729644,
          0.08630022335998613,
          0.29328187619621837,
          -1.1415596974886058,
          0.30107166333453816,
          0.02682316324669093,
          -0.7080945774019993,
          0.11249947565103077,
          0.11249947565103077,
          0.25544716764819553,
          0.007352705573350438,
          0.6360031295720179,
          0.6360031295720179,
          -1.1415596974886058,
          0.15892146785134462,
          0.11125329519264829,
          0.21525158956874432,
          0.21165699164048044,
          0.1811511015213276,
          0.3077605994039534,
          0.27045185545191064,
          -0.051921421940647194,
          0.1331327785896446,
          0.12494196465230914,
          0.13791620334572394,
          -0.3673025060826155,
          -0.7080945774019993,
          0.10879761748221287,
          0.15892146785134462,
          -0.18900666699886629,
          -0.7080945774019993,
          0.07837477516683103,
          0.0908561238863885,
          0.25051931142729644,
          0.08630022335998613,
          -1.1415596974886058,
          0.30107166333453816,
          0.02682316324669093,
          -0.7080945774019993,
          0.11249947565103077,
          0.11249947565103077,
          0.25544716764819553,
          0.007352705573350438,
          0.6360031295720179,
          0.6360031295720179,
          -1.1415596974886058,
          0.15892146785134462,
          0.11125329519264829,
          0.21525158956874432,
          0.21165699164048044,
          0.1811511015213276,
          0.3077605994039534,
          0.27045185545191064,
          -0.051921421940647194,
          0.1331327785896446,
          0.12494196465230914,
          0.13791620334572394,
          -0.3673025060826155,
          -0.7080945774019993,
          0.10879761748221287,
          0.15892146785134462,
          -0.18900666699886629,
          -0.7080945774019993,
          0.07837477516683103,
          0.0908561238863885,
          0.25051931142729644,
          -1.1415596974886058,
          0.30107166333453816,
          0.02682316324669093,
          -0.7080945774019993,
          0.11249947565103077,
          0.11249947565103077,
          0.25544716764819553,
          0.007352705573350438,
          0.6360031295720179,
          0.6360031295720179,
          -1.1415596974886058,
          0.15892146785134462,
          0.11125329519264829,
          0.21525158956874432,
          0.21165699164048044,
          0.1811511015213276,
          0.3077605994039534,
          0.27045185545191064,
          -0.051921421940647194,
          0.1331327785896446,
          0.12494196465230914,
          0.13791620334572394,
          -0.3673025060826155,
          -0.7080945774019993,
          0.10879761748221287,
          0.15892146785134462,
          -0.18900666699886629,
          -0.7080945774019993,
          0.07837477516683103,
          0.0908561238863885,
          -1.1415596974886058,
          0.30107166333453816,
          0.02682316324669093,
          -0.7080945774019993,
          0.11249947565103077,
          0.11249947565103077,
          0.25544716764819553,
          0.007352705573350438,
          0.6360031295720179,
          0.6360031295720179,
          -1.1415596974886058,
          0.15892146785134462,
          0.11125329519264829,
          0.21525158956874432,
          0.21165699164048044,
          0.1811511015213276,
          0.3077605994039534,
          0.27045185545191064,
          -0.051921421940647194,
          0.1331327785896446,
          0.12494196465230914,
          0.13791620334572394,
          -0.3673025060826155,
          -0.7080945774019993,
          0.10879761748221287,
          0.15892146785134462,
          -0.18900666699886629,
          -0.7080945774019993,
          0.07837477516683103,
          -1.1415596974886058,
          0.30107166333453816,
          0.02682316324669093,
          -0.7080945774019993,
          0.11249947565103077,
          0.11249947565103077,
          0.25544716764819553,
          0.007352705573350438,
          0.6360031295720179,
          0.6360031295720179,
          -1.1415596974886058,
          0.15892146785134462,
          0.11125329519264829,
          0.21525158956874432,
          0.21165699164048044,
          0.1811511015213276,
          0.3077605994039534,
          0.27045185545191064,
          -0.051921421940647194,
          0.1331327785896446,
          0.12494196465230914,
          0.13791620334572394,
          -0.3673025060826155,
          -0.7080945774019993,
          0.10879761748221287,
          0.15892146785134462,
          -0.18900666699886629,
          -0.7080945774019993,
          -1.1415596974886058,
          0.30107166333453816,
          0.02682316324669093,
          -0.7080945774019993,
          0.11249947565103077,
          0.11249947565103077,
          0.25544716764819553,
          0.007352705573350438,
          0.6360031295720179,
          0.6360031295720179,
          -1.1415596974886058,
          0.15892146785134462,
          0.11125329519264829,
          0.21525158956874432,
          0.21165699164048044,
          0.1811511015213276,
          0.3077605994039534,
          0.27045185545191064,
          -0.051921421940647194,
          0.1331327785896446,
          0.12494196465230914,
          0.13791620334572394,
          -0.3673025060826155,
          -0.7080945774019993,
          0.10879761748221287,
          0.15892146785134462,
          -0.18900666699886629,
          -1.1415596974886058,
          0.30107166333453816,
          0.02682316324669093,
          -0.7080945774019993,
          0.11249947565103077,
          0.11249947565103077,
          0.25544716764819553,
          0.007352705573350438,
          0.6360031295720179,
          0.6360031295720179,
          -1.1415596974886058,
          0.15892146785134462,
          0.11125329519264829,
          0.21525158956874432,
          0.21165699164048044,
          0.1811511015213276,
          0.3077605994039534,
          0.27045185545191064,
          -0.051921421940647194,
          0.1331327785896446,
          0.12494196465230914,
          0.13791620334572394,
          -0.3673025060826155,
          -0.7080945774019993,
          0.10879761748221287,
          0.15892146785134462,
          -1.1415596974886058,
          0.30107166333453816,
          0.02682316324669093,
          -0.7080945774019993,
          0.11249947565103077,
          0.11249947565103077,
          0.25544716764819553,
          0.007352705573350438,
          0.6360031295720179,
          0.6360031295720179,
          -1.1415596974886058,
          0.15892146785134462,
          0.11125329519264829,
          0.21525158956874432,
          0.21165699164048044,
          0.1811511015213276,
          0.3077605994039534,
          0.27045185545191064,
          -0.051921421940647194,
          0.1331327785896446,
          0.12494196465230914,
          0.13791620334572394,
          -0.3673025060826155,
          -0.7080945774019993,
          0.10879761748221287,
          -1.1415596974886058,
          0.30107166333453816,
          0.02682316324669093,
          -0.7080945774019993,
          0.11249947565103077,
          0.11249947565103077,
          0.25544716764819553,
          0.007352705573350438,
          0.6360031295720179,
          0.6360031295720179,
          -1.1415596974886058,
          0.15892146785134462,
          0.11125329519264829,
          0.21525158956874432,
          0.21165699164048044,
          0.1811511015213276,
          0.3077605994039534,
          0.27045185545191064,
          -0.051921421940647194,
          0.1331327785896446,
          0.12494196465230914,
          0.13791620334572394,
          -0.3673025060826155,
          -0.7080945774019993,
          -1.1415596974886058,
          0.30107166333453816,
          0.02682316324669093,
          -0.7080945774019993,
          0.11249947565103077,
          0.11249947565103077,
          0.25544716764819553,
          0.007352705573350438,
          0.6360031295720179,
          0.6360031295720179,
          -1.1415596974886058,
          0.15892146785134462,
          0.11125329519264829,
          0.21525158956874432,
          0.21165699164048044,
          0.1811511015213276,
          0.3077605994039534,
          0.27045185545191064,
          -0.051921421940647194,
          0.1331327785896446,
          0.12494196465230914,
          0.13791620334572394,
          -0.3673025060826155,
          -1.1415596974886058,
          0.30107166333453816,
          0.02682316324669093,
          -0.7080945774019993,
          0.11249947565103077,
          0.11249947565103077,
          0.25544716764819553,
          0.007352705573350438,
          0.6360031295720179,
          0.6360031295720179,
          -1.1415596974886058,
          0.15892146785134462,
          0.11125329519264829,
          0.21525158956874432,
          0.21165699164048044,
          0.1811511015213276,
          0.3077605994039534,
          0.27045185545191064,
          -0.051921421940647194,
          0.1331327785896446,
          0.12494196465230914,
          0.13791620334572394,
          -1.1415596974886058,
          0.30107166333453816,
          0.02682316324669093,
          -0.7080945774019993,
          0.11249947565103077,
          0.11249947565103077,
          0.25544716764819553,
          0.007352705573350438,
          0.6360031295720179,
          0.6360031295720179,
          -1.1415596974886058,
          0.15892146785134462,
          0.11125329519264829,
          0.21525158956874432,
          0.21165699164048044,
          0.1811511015213276,
          0.3077605994039534,
          0.27045185545191064,
          -0.051921421940647194,
          0.1331327785896446,
          0.12494196465230914,
          -1.1415596974886058,
          0.30107166333453816,
          0.02682316324669093,
          -0.7080945774019993,
          0.11249947565103077,
          0.11249947565103077,
          0.25544716764819553,
          0.007352705573350438,
          0.6360031295720179,
          0.6360031295720179,
          -1.1415596974886058,
          0.15892146785134462,
          0.11125329519264829,
          0.21525158956874432,
          0.21165699164048044,
          0.1811511015213276,
          0.3077605994039534,
          0.27045185545191064,
          -0.051921421940647194,
          0.1331327785896446,
          -1.1415596974886058,
          0.30107166333453816,
          0.02682316324669093,
          -0.7080945774019993,
          0.11249947565103077,
          0.11249947565103077,
          0.25544716764819553,
          0.007352705573350438,
          0.6360031295720179,
          0.6360031295720179,
          -1.1415596974886058,
          0.15892146785134462,
          0.11125329519264829,
          0.21525158956874432,
          0.21165699164048044,
          0.1811511015213276,
          0.3077605994039534,
          0.27045185545191064,
          -0.051921421940647194,
          -1.1415596974886058,
          0.30107166333453816,
          0.02682316324669093,
          -0.7080945774019993,
          0.11249947565103077,
          0.11249947565103077,
          0.25544716764819553,
          0.007352705573350438,
          0.6360031295720179,
          0.6360031295720179,
          -1.1415596974886058,
          0.15892146785134462,
          0.11125329519264829,
          0.21525158956874432,
          0.21165699164048044,
          0.1811511015213276,
          0.3077605994039534,
          0.27045185545191064,
          -1.1415596974886058,
          0.30107166333453816,
          0.02682316324669093,
          -0.7080945774019993,
          0.11249947565103077,
          0.11249947565103077,
          0.25544716764819553,
          0.007352705573350438,
          0.6360031295720179,
          0.6360031295720179,
          -1.1415596974886058,
          0.15892146785134462,
          0.11125329519264829,
          0.21525158956874432,
          0.21165699164048044,
          0.1811511015213276,
          0.3077605994039534,
          -1.1415596974886058,
          0.30107166333453816,
          0.02682316324669093,
          -0.7080945774019993,
          0.11249947565103077,
          0.11249947565103077,
          0.25544716764819553,
          0.007352705573350438,
          0.6360031295720179,
          0.6360031295720179,
          -1.1415596974886058,
          0.15892146785134462,
          0.11125329519264829,
          0.21525158956874432,
          0.21165699164048044,
          0.1811511015213276,
          -1.1415596974886058,
          0.30107166333453816,
          0.02682316324669093,
          -0.7080945774019993,
          0.11249947565103077,
          0.11249947565103077,
          0.25544716764819553,
          0.007352705573350438,
          0.6360031295720179,
          0.6360031295720179,
          -1.1415596974886058,
          0.15892146785134462,
          0.11125329519264829,
          0.21525158956874432,
          0.21165699164048044,
          -1.1415596974886058,
          0.30107166333453816,
          0.02682316324669093,
          -0.7080945774019993,
          0.11249947565103077,
          0.11249947565103077,
          0.25544716764819553,
          0.007352705573350438,
          0.6360031295720179,
          0.6360031295720179,
          -1.1415596974886058,
          0.15892146785134462,
          0.11125329519264829,
          0.21525158956874432,
          -1.1415596974886058,
          0.30107166333453816,
          0.02682316324669093,
          -0.7080945774019993,
          0.11249947565103077,
          0.11249947565103077,
          0.25544716764819553,
          0.007352705573350438,
          0.6360031295720179,
          0.6360031295720179,
          -1.1415596974886058,
          0.15892146785134462,
          0.11125329519264829,
          -1.1415596974886058,
          0.30107166333453816,
          0.02682316324669093,
          -0.7080945774019993,
          0.11249947565103077,
          0.11249947565103077,
          0.25544716764819553,
          0.007352705573350438,
          0.6360031295720179,
          0.6360031295720179,
          -1.1415596974886058,
          0.15892146785134462,
          -1.1415596974886058,
          0.30107166333453816,
          0.02682316324669093,
          -0.7080945774019993,
          0.11249947565103077,
          0.11249947565103077,
          0.25544716764819553,
          0.007352705573350438,
          0.6360031295720179,
          0.6360031295720179,
          -1.1415596974886058,
          -1.1415596974886058,
          0.30107166333453816,
          0.02682316324669093,
          -0.7080945774019993,
          0.11249947565103077,
          0.11249947565103077,
          0.25544716764819553,
          0.007352705573350438,
          0.6360031295720179,
          0.6360031295720179,
          -1.1415596974886058,
          0.30107166333453816,
          0.02682316324669093,
          -0.7080945774019993,
          0.11249947565103077,
          0.11249947565103077,
          0.25544716764819553,
          0.007352705573350438,
          0.6360031295720179,
          -1.1415596974886058,
          0.30107166333453816,
          0.02682316324669093,
          -0.7080945774019993,
          0.11249947565103077,
          0.11249947565103077,
          0.25544716764819553,
          0.007352705573350438,
          -1.1415596974886058,
          0.30107166333453816,
          0.02682316324669093,
          -0.7080945774019993,
          0.11249947565103077,
          0.11249947565103077,
          0.25544716764819553,
          -1.1415596974886058,
          0.30107166333453816,
          0.02682316324669093,
          -0.7080945774019993,
          0.11249947565103077,
          0.11249947565103077,
          -1.1415596974886058,
          0.30107166333453816,
          0.02682316324669093,
          -0.7080945774019993,
          0.11249947565103077,
          -1.1415596974886058,
          0.30107166333453816,
          0.02682316324669093,
          -0.7080945774019993,
          -1.1415596974886058,
          0.30107166333453816,
          0.02682316324669093,
          -1.1415596974886058,
          0.30107166333453816,
          -1.1415596974886058
         ],
         "yaxis": "y"
        }
       ],
       "layout": {
        "coloraxis": {
         "colorbar": {
          "title": {
           "text": "Cluster"
          }
         },
         "colorscale": [
          [
           0,
           "#0d0887"
          ],
          [
           0.1111111111111111,
           "#46039f"
          ],
          [
           0.2222222222222222,
           "#7201a8"
          ],
          [
           0.3333333333333333,
           "#9c179e"
          ],
          [
           0.4444444444444444,
           "#bd3786"
          ],
          [
           0.5555555555555556,
           "#d8576b"
          ],
          [
           0.6666666666666666,
           "#ed7953"
          ],
          [
           0.7777777777777778,
           "#fb9f3a"
          ],
          [
           0.8888888888888888,
           "#fdca26"
          ],
          [
           1,
           "#f0f921"
          ]
         ]
        },
        "legend": {
         "tracegroupgap": 0
        },
        "margin": {
         "t": 60
        },
        "template": {
         "data": {
          "bar": [
           {
            "error_x": {
             "color": "#2a3f5f"
            },
            "error_y": {
             "color": "#2a3f5f"
            },
            "marker": {
             "line": {
              "color": "#E5ECF6",
              "width": 0.5
             },
             "pattern": {
              "fillmode": "overlay",
              "size": 10,
              "solidity": 0.2
             }
            },
            "type": "bar"
           }
          ],
          "barpolar": [
           {
            "marker": {
             "line": {
              "color": "#E5ECF6",
              "width": 0.5
             },
             "pattern": {
              "fillmode": "overlay",
              "size": 10,
              "solidity": 0.2
             }
            },
            "type": "barpolar"
           }
          ],
          "carpet": [
           {
            "aaxis": {
             "endlinecolor": "#2a3f5f",
             "gridcolor": "white",
             "linecolor": "white",
             "minorgridcolor": "white",
             "startlinecolor": "#2a3f5f"
            },
            "baxis": {
             "endlinecolor": "#2a3f5f",
             "gridcolor": "white",
             "linecolor": "white",
             "minorgridcolor": "white",
             "startlinecolor": "#2a3f5f"
            },
            "type": "carpet"
           }
          ],
          "choropleth": [
           {
            "colorbar": {
             "outlinewidth": 0,
             "ticks": ""
            },
            "type": "choropleth"
           }
          ],
          "contour": [
           {
            "colorbar": {
             "outlinewidth": 0,
             "ticks": ""
            },
            "colorscale": [
             [
              0,
              "#0d0887"
             ],
             [
              0.1111111111111111,
              "#46039f"
             ],
             [
              0.2222222222222222,
              "#7201a8"
             ],
             [
              0.3333333333333333,
              "#9c179e"
             ],
             [
              0.4444444444444444,
              "#bd3786"
             ],
             [
              0.5555555555555556,
              "#d8576b"
             ],
             [
              0.6666666666666666,
              "#ed7953"
             ],
             [
              0.7777777777777778,
              "#fb9f3a"
             ],
             [
              0.8888888888888888,
              "#fdca26"
             ],
             [
              1,
              "#f0f921"
             ]
            ],
            "type": "contour"
           }
          ],
          "contourcarpet": [
           {
            "colorbar": {
             "outlinewidth": 0,
             "ticks": ""
            },
            "type": "contourcarpet"
           }
          ],
          "heatmap": [
           {
            "colorbar": {
             "outlinewidth": 0,
             "ticks": ""
            },
            "colorscale": [
             [
              0,
              "#0d0887"
             ],
             [
              0.1111111111111111,
              "#46039f"
             ],
             [
              0.2222222222222222,
              "#7201a8"
             ],
             [
              0.3333333333333333,
              "#9c179e"
             ],
             [
              0.4444444444444444,
              "#bd3786"
             ],
             [
              0.5555555555555556,
              "#d8576b"
             ],
             [
              0.6666666666666666,
              "#ed7953"
             ],
             [
              0.7777777777777778,
              "#fb9f3a"
             ],
             [
              0.8888888888888888,
              "#fdca26"
             ],
             [
              1,
              "#f0f921"
             ]
            ],
            "type": "heatmap"
           }
          ],
          "heatmapgl": [
           {
            "colorbar": {
             "outlinewidth": 0,
             "ticks": ""
            },
            "colorscale": [
             [
              0,
              "#0d0887"
             ],
             [
              0.1111111111111111,
              "#46039f"
             ],
             [
              0.2222222222222222,
              "#7201a8"
             ],
             [
              0.3333333333333333,
              "#9c179e"
             ],
             [
              0.4444444444444444,
              "#bd3786"
             ],
             [
              0.5555555555555556,
              "#d8576b"
             ],
             [
              0.6666666666666666,
              "#ed7953"
             ],
             [
              0.7777777777777778,
              "#fb9f3a"
             ],
             [
              0.8888888888888888,
              "#fdca26"
             ],
             [
              1,
              "#f0f921"
             ]
            ],
            "type": "heatmapgl"
           }
          ],
          "histogram": [
           {
            "marker": {
             "pattern": {
              "fillmode": "overlay",
              "size": 10,
              "solidity": 0.2
             }
            },
            "type": "histogram"
           }
          ],
          "histogram2d": [
           {
            "colorbar": {
             "outlinewidth": 0,
             "ticks": ""
            },
            "colorscale": [
             [
              0,
              "#0d0887"
             ],
             [
              0.1111111111111111,
              "#46039f"
             ],
             [
              0.2222222222222222,
              "#7201a8"
             ],
             [
              0.3333333333333333,
              "#9c179e"
             ],
             [
              0.4444444444444444,
              "#bd3786"
             ],
             [
              0.5555555555555556,
              "#d8576b"
             ],
             [
              0.6666666666666666,
              "#ed7953"
             ],
             [
              0.7777777777777778,
              "#fb9f3a"
             ],
             [
              0.8888888888888888,
              "#fdca26"
             ],
             [
              1,
              "#f0f921"
             ]
            ],
            "type": "histogram2d"
           }
          ],
          "histogram2dcontour": [
           {
            "colorbar": {
             "outlinewidth": 0,
             "ticks": ""
            },
            "colorscale": [
             [
              0,
              "#0d0887"
             ],
             [
              0.1111111111111111,
              "#46039f"
             ],
             [
              0.2222222222222222,
              "#7201a8"
             ],
             [
              0.3333333333333333,
              "#9c179e"
             ],
             [
              0.4444444444444444,
              "#bd3786"
             ],
             [
              0.5555555555555556,
              "#d8576b"
             ],
             [
              0.6666666666666666,
              "#ed7953"
             ],
             [
              0.7777777777777778,
              "#fb9f3a"
             ],
             [
              0.8888888888888888,
              "#fdca26"
             ],
             [
              1,
              "#f0f921"
             ]
            ],
            "type": "histogram2dcontour"
           }
          ],
          "mesh3d": [
           {
            "colorbar": {
             "outlinewidth": 0,
             "ticks": ""
            },
            "type": "mesh3d"
           }
          ],
          "parcoords": [
           {
            "line": {
             "colorbar": {
              "outlinewidth": 0,
              "ticks": ""
             }
            },
            "type": "parcoords"
           }
          ],
          "pie": [
           {
            "automargin": true,
            "type": "pie"
           }
          ],
          "scatter": [
           {
            "fillpattern": {
             "fillmode": "overlay",
             "size": 10,
             "solidity": 0.2
            },
            "type": "scatter"
           }
          ],
          "scatter3d": [
           {
            "line": {
             "colorbar": {
              "outlinewidth": 0,
              "ticks": ""
             }
            },
            "marker": {
             "colorbar": {
              "outlinewidth": 0,
              "ticks": ""
             }
            },
            "type": "scatter3d"
           }
          ],
          "scattercarpet": [
           {
            "marker": {
             "colorbar": {
              "outlinewidth": 0,
              "ticks": ""
             }
            },
            "type": "scattercarpet"
           }
          ],
          "scattergeo": [
           {
            "marker": {
             "colorbar": {
              "outlinewidth": 0,
              "ticks": ""
             }
            },
            "type": "scattergeo"
           }
          ],
          "scattergl": [
           {
            "marker": {
             "colorbar": {
              "outlinewidth": 0,
              "ticks": ""
             }
            },
            "type": "scattergl"
           }
          ],
          "scattermapbox": [
           {
            "marker": {
             "colorbar": {
              "outlinewidth": 0,
              "ticks": ""
             }
            },
            "type": "scattermapbox"
           }
          ],
          "scatterpolar": [
           {
            "marker": {
             "colorbar": {
              "outlinewidth": 0,
              "ticks": ""
             }
            },
            "type": "scatterpolar"
           }
          ],
          "scatterpolargl": [
           {
            "marker": {
             "colorbar": {
              "outlinewidth": 0,
              "ticks": ""
             }
            },
            "type": "scatterpolargl"
           }
          ],
          "scatterternary": [
           {
            "marker": {
             "colorbar": {
              "outlinewidth": 0,
              "ticks": ""
             }
            },
            "type": "scatterternary"
           }
          ],
          "surface": [
           {
            "colorbar": {
             "outlinewidth": 0,
             "ticks": ""
            },
            "colorscale": [
             [
              0,
              "#0d0887"
             ],
             [
              0.1111111111111111,
              "#46039f"
             ],
             [
              0.2222222222222222,
              "#7201a8"
             ],
             [
              0.3333333333333333,
              "#9c179e"
             ],
             [
              0.4444444444444444,
              "#bd3786"
             ],
             [
              0.5555555555555556,
              "#d8576b"
             ],
             [
              0.6666666666666666,
              "#ed7953"
             ],
             [
              0.7777777777777778,
              "#fb9f3a"
             ],
             [
              0.8888888888888888,
              "#fdca26"
             ],
             [
              1,
              "#f0f921"
             ]
            ],
            "type": "surface"
           }
          ],
          "table": [
           {
            "cells": {
             "fill": {
              "color": "#EBF0F8"
             },
             "line": {
              "color": "white"
             }
            },
            "header": {
             "fill": {
              "color": "#C8D4E3"
             },
             "line": {
              "color": "white"
             }
            },
            "type": "table"
           }
          ]
         },
         "layout": {
          "annotationdefaults": {
           "arrowcolor": "#2a3f5f",
           "arrowhead": 0,
           "arrowwidth": 1
          },
          "autotypenumbers": "strict",
          "coloraxis": {
           "colorbar": {
            "outlinewidth": 0,
            "ticks": ""
           }
          },
          "colorscale": {
           "diverging": [
            [
             0,
             "#8e0152"
            ],
            [
             0.1,
             "#c51b7d"
            ],
            [
             0.2,
             "#de77ae"
            ],
            [
             0.3,
             "#f1b6da"
            ],
            [
             0.4,
             "#fde0ef"
            ],
            [
             0.5,
             "#f7f7f7"
            ],
            [
             0.6,
             "#e6f5d0"
            ],
            [
             0.7,
             "#b8e186"
            ],
            [
             0.8,
             "#7fbc41"
            ],
            [
             0.9,
             "#4d9221"
            ],
            [
             1,
             "#276419"
            ]
           ],
           "sequential": [
            [
             0,
             "#0d0887"
            ],
            [
             0.1111111111111111,
             "#46039f"
            ],
            [
             0.2222222222222222,
             "#7201a8"
            ],
            [
             0.3333333333333333,
             "#9c179e"
            ],
            [
             0.4444444444444444,
             "#bd3786"
            ],
            [
             0.5555555555555556,
             "#d8576b"
            ],
            [
             0.6666666666666666,
             "#ed7953"
            ],
            [
             0.7777777777777778,
             "#fb9f3a"
            ],
            [
             0.8888888888888888,
             "#fdca26"
            ],
            [
             1,
             "#f0f921"
            ]
           ],
           "sequentialminus": [
            [
             0,
             "#0d0887"
            ],
            [
             0.1111111111111111,
             "#46039f"
            ],
            [
             0.2222222222222222,
             "#7201a8"
            ],
            [
             0.3333333333333333,
             "#9c179e"
            ],
            [
             0.4444444444444444,
             "#bd3786"
            ],
            [
             0.5555555555555556,
             "#d8576b"
            ],
            [
             0.6666666666666666,
             "#ed7953"
            ],
            [
             0.7777777777777778,
             "#fb9f3a"
            ],
            [
             0.8888888888888888,
             "#fdca26"
            ],
            [
             1,
             "#f0f921"
            ]
           ]
          },
          "colorway": [
           "#636efa",
           "#EF553B",
           "#00cc96",
           "#ab63fa",
           "#FFA15A",
           "#19d3f3",
           "#FF6692",
           "#B6E880",
           "#FF97FF",
           "#FECB52"
          ],
          "font": {
           "color": "#2a3f5f"
          },
          "geo": {
           "bgcolor": "white",
           "lakecolor": "white",
           "landcolor": "#E5ECF6",
           "showlakes": true,
           "showland": true,
           "subunitcolor": "white"
          },
          "hoverlabel": {
           "align": "left"
          },
          "hovermode": "closest",
          "mapbox": {
           "style": "light"
          },
          "paper_bgcolor": "white",
          "plot_bgcolor": "#E5ECF6",
          "polar": {
           "angularaxis": {
            "gridcolor": "white",
            "linecolor": "white",
            "ticks": ""
           },
           "bgcolor": "#E5ECF6",
           "radialaxis": {
            "gridcolor": "white",
            "linecolor": "white",
            "ticks": ""
           }
          },
          "scene": {
           "xaxis": {
            "backgroundcolor": "#E5ECF6",
            "gridcolor": "white",
            "gridwidth": 2,
            "linecolor": "white",
            "showbackground": true,
            "ticks": "",
            "zerolinecolor": "white"
           },
           "yaxis": {
            "backgroundcolor": "#E5ECF6",
            "gridcolor": "white",
            "gridwidth": 2,
            "linecolor": "white",
            "showbackground": true,
            "ticks": "",
            "zerolinecolor": "white"
           },
           "zaxis": {
            "backgroundcolor": "#E5ECF6",
            "gridcolor": "white",
            "gridwidth": 2,
            "linecolor": "white",
            "showbackground": true,
            "ticks": "",
            "zerolinecolor": "white"
           }
          },
          "shapedefaults": {
           "line": {
            "color": "#2a3f5f"
           }
          },
          "ternary": {
           "aaxis": {
            "gridcolor": "white",
            "linecolor": "white",
            "ticks": ""
           },
           "baxis": {
            "gridcolor": "white",
            "linecolor": "white",
            "ticks": ""
           },
           "bgcolor": "#E5ECF6",
           "caxis": {
            "gridcolor": "white",
            "linecolor": "white",
            "ticks": ""
           }
          },
          "title": {
           "x": 0.05
          },
          "xaxis": {
           "automargin": true,
           "gridcolor": "white",
           "linecolor": "white",
           "ticks": "",
           "title": {
            "standoff": 15
           },
           "zerolinecolor": "white",
           "zerolinewidth": 2
          },
          "yaxis": {
           "automargin": true,
           "gridcolor": "white",
           "linecolor": "white",
           "ticks": "",
           "title": {
            "standoff": 15
           },
           "zerolinecolor": "white",
           "zerolinewidth": 2
          }
         }
        },
        "title": {
         "text": "Clustering (PCA Projection)",
         "x": 0.5
        },
        "xaxis": {
         "anchor": "y",
         "domain": [
          0,
          1
         ],
         "title": {
          "text": "PCA1"
         }
        },
        "yaxis": {
         "anchor": "x",
         "domain": [
          0,
          1
         ],
         "title": {
          "text": "PCA2"
         }
        }
       }
      }
     },
     "metadata": {},
     "output_type": "display_data"
    }
   ],
   "source": [
    "spotify.visualize_clustering(df=df_scaled, feature=df[['track_name']])"
   ]
  },
  {
   "cell_type": "code",
   "execution_count": 311,
   "metadata": {},
   "outputs": [
    {
     "name": "stderr",
     "output_type": "stream",
     "text": [
      "c:\\Anaconda\\lib\\site-packages\\sklearn\\decomposition\\_pca.py:648: RuntimeWarning: invalid value encountered in divide\n",
      "  explained_variance_ratio_ = explained_variance_ / total_var\n"
     ]
    }
   ],
   "source": [
    "cluster_dfs = spotify.get_tracklist(df, limit=1)\n",
    "cluster_vect_dfs = spotify.vectorize_tracklist(cluster_dfs, weighted_features=['popularity', 'release_date', 'album_id', 'track_tags', 'track_artists_id'], weights=[2, 2, 3, 2, 3], n_components=1)\n",
    "cosine_matrices = spotify.compute_cosine_matrices(cluster_vect_dfs)"
   ]
  },
  {
   "cell_type": "code",
   "execution_count": 313,
   "metadata": {},
   "outputs": [
    {
     "data": {
      "text/plain": [
       "\"Tracks similaires à 'Monaco' : Minimum ça, CIEL, Boucan (feat. Franglish), On y va, OHMA TOKITA\""
      ]
     },
     "execution_count": 313,
     "metadata": {},
     "output_type": "execute_result"
    }
   ],
   "source": [
    "similar_tracks = spotify.search_similar_tracks_by_pos(df, cluster_dfs, cosine_matrices, track_pos=6)\n",
    "similar_tracks"
   ]
  },
  {
   "cell_type": "code",
   "execution_count": 467,
   "metadata": {},
   "outputs": [],
   "source": [
    "similar_tracks = 'EUPHON, A$AP, HAINE&SEX, Acte de Burberry, GROKUWA'"
   ]
  },
  {
   "cell_type": "code",
   "execution_count": 468,
   "metadata": {},
   "outputs": [
    {
     "data": {
      "text/plain": [
       "'E'"
      ]
     },
     "execution_count": 468,
     "metadata": {},
     "output_type": "execute_result"
    }
   ],
   "source": [
    "similar_tracks[0]"
   ]
  }
 ],
 "metadata": {
  "kernelspec": {
   "display_name": "base",
   "language": "python",
   "name": "python3"
  },
  "language_info": {
   "codemirror_mode": {
    "name": "ipython",
    "version": 3
   },
   "file_extension": ".py",
   "mimetype": "text/x-python",
   "name": "python",
   "nbconvert_exporter": "python",
   "pygments_lexer": "ipython3",
   "version": "3.10.9"
  }
 },
 "nbformat": 4,
 "nbformat_minor": 2
}
